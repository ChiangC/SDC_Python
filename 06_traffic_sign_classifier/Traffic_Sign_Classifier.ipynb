{
 "cells": [
  {
   "cell_type": "markdown",
   "metadata": {},
   "source": [
    "# Self-Driving Car Engineer Nanodegree\n",
    "\n",
    "## Deep Learning\n",
    "\n",
    "## Project: Build a Traffic Sign Recognition Classifier\n",
    "\n",
    "In this notebook, a template is provided for you to implement your functionality in stages, which is required to successfully complete this project. If additional code is required that cannot be included in the notebook, be sure that the Python code is successfully imported and included in your submission if necessary. \n",
    "\n",
    "> **Note**: Once you have completed all of the code implementations, you need to finalize your work by exporting the iPython Notebook as an HTML document. Before exporting the notebook to html, all of the code cells need to have been run so that reviewers can see the final implementation and output. You can then export the notebook by using the menu above and navigating to  \\n\",\n",
    "    \"**File -> Download as -> HTML (.html)**. Include the finished document along with this notebook as your submission. \n",
    "\n",
    "In addition to implementing code, there is a writeup to complete. The writeup should be completed in a separate file, which can be either a markdown file or a pdf document. There is a [write up template](https://github.com/udacity/CarND-Traffic-Sign-Classifier-Project/blob/master/writeup_template.md) that can be used to guide the writing process. Completing the code template and writeup template will cover all of the [rubric points](https://review.udacity.com/#!/rubrics/481/view) for this project.\n",
    "\n",
    "The [rubric](https://review.udacity.com/#!/rubrics/481/view) contains \"Stand Out Suggestions\" for enhancing the project beyond the minimum requirements. The stand out suggestions are optional. If you decide to pursue the \"stand out suggestions\", you can include the code in this Ipython notebook and also discuss the results in the writeup file.\n",
    "\n",
    "\n",
    ">**Note:** Code and Markdown cells can be executed using the **Shift + Enter** keyboard shortcut. In addition, Markdown cells can be edited by typically double-clicking the cell to enter edit mode."
   ]
  },
  {
   "cell_type": "markdown",
   "metadata": {},
   "source": [
    "---\n",
    "## Step 0: Load The Data"
   ]
  },
  {
   "cell_type": "code",
   "execution_count": 2,
   "metadata": {},
   "outputs": [
    {
     "name": "stdout",
     "output_type": "stream",
     "text": [
      "(34799, 32, 32, 3)\n"
     ]
    }
   ],
   "source": [
    "# Load pickled data\n",
    "import pickle\n",
    "import cv2\n",
    "import random\n",
    "\n",
    "# TODO: Fill this in based on where you saved the training and testing data\n",
    "\n",
    "training_file = \"./data/train.p\"\n",
    "validation_file= \"./data/valid.p\"\n",
    "testing_file = \"./data/test.p\"\n",
    "\n",
    "with open(training_file, mode='rb') as f:\n",
    "    train = pickle.load(f)\n",
    "with open(validation_file, mode='rb') as f:\n",
    "    valid = pickle.load(f)\n",
    "with open(testing_file, mode='rb') as f:\n",
    "    test = pickle.load(f)\n",
    "    \n",
    "X_train, y_train = train['features'], train['labels']\n",
    "X_valid, y_valid = valid['features'], valid['labels']\n",
    "X_test, y_test = test['features'], test['labels']\n",
    "print(X_train.shape)"
   ]
  },
  {
   "cell_type": "markdown",
   "metadata": {},
   "source": [
    "---\n",
    "\n",
    "## Step 1: Dataset Summary & Exploration\n",
    "\n",
    "The pickled data is a dictionary with 4 key/value pairs:\n",
    "\n",
    "- `'features'` is a 4D array containing raw pixel data of the traffic sign images, (num examples, width, height, channels).\n",
    "- `'labels'` is a 1D array containing the label/class id of the traffic sign. The file `signnames.csv` contains id -> name mappings for each id.\n",
    "- `'sizes'` is a list containing tuples, (width, height) representing the original width and height the image.\n",
    "- `'coords'` is a list containing tuples, (x1, y1, x2, y2) representing coordinates of a bounding box around the sign in the image. **THESE COORDINATES ASSUME THE ORIGINAL IMAGE. THE PICKLED DATA CONTAINS RESIZED VERSIONS (32 by 32) OF THESE IMAGES**\n",
    "\n",
    "Complete the basic data summary below. Use python, numpy and/or pandas methods to calculate the data summary rather than hard coding the results. For example, the [pandas shape method](http://pandas.pydata.org/pandas-docs/stable/generated/pandas.DataFrame.shape.html) might be useful for calculating some of the summary results. "
   ]
  },
  {
   "cell_type": "markdown",
   "metadata": {},
   "source": [
    "### Provide a Basic Summary of the Data Set Using Python, Numpy and/or Pandas"
   ]
  },
  {
   "cell_type": "code",
   "execution_count": 3,
   "metadata": {},
   "outputs": [
    {
     "name": "stdout",
     "output_type": "stream",
     "text": [
      "Number of training examples = 34799\n",
      "Number of validation examples = 4410\n",
      "Number of testing examples = 12630\n",
      "Image data shape = (32, 32, 3)\n",
      "Number of classes = 43\n",
      "[ 180 1980 2010 1260 1770 1650  360 1290 1260 1320 1800 1170 1890 1920\n",
      "  690  540  360  990 1080  180  300  270  330  450  240 1350  540  210\n",
      "  480  240  390  690  210  599  360 1080  330  180 1860  270  300  210\n",
      "  210]\n",
      "\n",
      "[ 60 720 750 450 660 630 150 450 450 480 660 420 690 720 270 210 150 360\n",
      " 390  60  90  90 120 150  90 480 180  60 150  90 150 270  60 210 120 390\n",
      " 120  60 690  90  90  60  90]\n"
     ]
    }
   ],
   "source": [
    "import numpy as np\n",
    "\n",
    "### Replace each question mark with the appropriate value. \n",
    "### Use python, pandas or numpy methods rather than hard coding the results\n",
    "\n",
    "# TODO: Number of training examples\n",
    "n_train = X_train.shape[0]\n",
    "\n",
    "# TODO: Number of validation examples\n",
    "n_validation = X_valid.shape[0]\n",
    "\n",
    "# TODO: Number of testing examples.\n",
    "n_test = X_test.shape[0]\n",
    "\n",
    "# TODO: What's the shape of an traffic sign image?\n",
    "image_shape = X_train[0].shape\n",
    "\n",
    "# TODO: How many unique classes/labels there are in the dataset.\n",
    "labels, labels_count = np.unique(y_train, return_counts=True)\n",
    "n_classes = len(labels)\n",
    "\n",
    "labels_test, labels_test_count = np.unique(y_test, return_counts=True)\n",
    "\n",
    "print(\"Number of training examples =\", n_train)\n",
    "print(\"Number of validation examples =\", n_validation)\n",
    "print(\"Number of testing examples =\", n_test)\n",
    "print(\"Image data shape =\", image_shape)\n",
    "print(\"Number of classes =\", n_classes)\n",
    "\n",
    "print(labels_count)\n",
    "print()\n",
    "print(labels_test_count)"
   ]
  },
  {
   "cell_type": "markdown",
   "metadata": {},
   "source": [
    "### Include an exploratory visualization of the dataset"
   ]
  },
  {
   "cell_type": "markdown",
   "metadata": {},
   "source": [
    "Visualize the German Traffic Signs Dataset using the pickled file(s). This is open ended, suggestions include: plotting traffic sign images, plotting the count of each sign, etc. \n",
    "\n",
    "The [Matplotlib](http://matplotlib.org/) [examples](http://matplotlib.org/examples/index.html) and [gallery](http://matplotlib.org/gallery.html) pages are a great resource for doing visualizations in Python.\n",
    "\n",
    "**NOTE:** It's recommended you start with something simple first. If you wish to do more, come back to it after you've completed the rest of the sections. It can be interesting to look at the distribution of classes in the training, validation and test set. Is the distribution the same? Are there more examples of some classes than others?"
   ]
  },
  {
   "cell_type": "code",
   "execution_count": 3,
   "metadata": {
    "scrolled": true
   },
   "outputs": [
    {
     "data": {
      "image/png": "[encoded data removed]",
      "text/plain": [
       "<matplotlib.figure.Figure at 0x7fbac87da8d0>"
      ]
     },
     "metadata": {
      "needs_background": "light"
     },
     "output_type": "display_data"
    },
    {
     "data": {
      "text/plain": [
       "<matplotlib.figure.Figure at 0x7fbac58e5f28>"
      ]
     },
     "metadata": {},
     "output_type": "display_data"
    }
   ],
   "source": [
    "### Data exploration visualization code goes here.\n",
    "### Feel free to use as many code cells as needed.\n",
    "import matplotlib.pyplot as plt\n",
    "\n",
    "# Visualizations will be shown in the notebook.\n",
    "%matplotlib inline\n",
    "\n",
    "x = [i for i in range(1, n_classes+1)]\n",
    "\n",
    "fig, (ax1, ax2) = plt.subplots(1,2)\n",
    "fig.tight_layout()\n",
    "# plt.bar(x, labels_count)\n",
    "ax1.set_xlabel('Labels')\n",
    "ax1.set_ylabel('Label Count')\n",
    "ax1.set_title('Training Data')\n",
    "ax1.bar(x, labels_count)\n",
    "\n",
    "ax2.set_xlabel('Labels')\n",
    "ax2.set_ylabel('Label Count')\n",
    "ax2.set_title('Test Data')\n",
    "ax2.bar(x, labels_test_count)\n",
    "\n",
    "plt.show()\n",
    "plt.subplots_adjust(left=0., right=1, top=0.9, bottom=0.)\n"
   ]
  },
  {
   "cell_type": "code",
   "execution_count": 4,
   "metadata": {},
   "outputs": [
    {
     "name": "stdout",
     "output_type": "stream",
     "text": [
      "31\n"
     ]
    },
    {
     "data": {
      "image/png": "[encoded data removed]",
      "text/plain": [
       "<matplotlib.figure.Figure at 0x7fbaf85155c0>"
      ]
     },
     "metadata": {
      "needs_background": "light"
     },
     "output_type": "display_data"
    }
   ],
   "source": [
    "plt.imshow(X_train[500], cmap=\"gray\")\n",
    "print(y_train[500])"
   ]
  },
  {
   "cell_type": "markdown",
   "metadata": {},
   "source": [
    "----\n",
    "\n",
    "## Step 2: Design and Test a Model Architecture\n",
    "\n",
    "Design and implement a deep learning model that learns to recognize traffic signs. Train and test your model on the [German Traffic Sign Dataset](http://benchmark.ini.rub.de/?section=gtsrb&subsection=dataset).\n",
    "\n",
    "The LeNet-5 implementation shown in the [classroom](https://classroom.udacity.com/nanodegrees/nd013/parts/fbf77062-5703-404e-b60c-95b78b2f3f9e/modules/6df7ae49-c61c-4bb2-a23e-6527e69209ec/lessons/601ae704-1035-4287-8b11-e2c2716217ad/concepts/d4aca031-508f-4e0b-b493-e7b706120f81) at the end of the CNN lesson is a solid starting point. You'll have to change the number of classes and possibly the preprocessing, but aside from that it's plug and play! \n",
    "\n",
    "With the LeNet-5 solution from the lecture, you should expect a validation set accuracy of about 0.89. To meet specifications, the validation set accuracy will need to be at least 0.93. It is possible to get an even higher accuracy, but 0.93 is the minimum for a successful project submission. \n",
    "\n",
    "There are various aspects to consider when thinking about this problem:\n",
    "\n",
    "- Neural network architecture (is the network over or underfitting?)\n",
    "- Play around preprocessing techniques (normalization, rgb to grayscale, etc)\n",
    "- Number of examples per label (some have more than others).\n",
    "- Generate fake data.\n",
    "\n",
    "Here is an example of a [published baseline model on this problem](http://yann.lecun.com/exdb/publis/pdf/sermanet-ijcnn-11.pdf). It's not required to be familiar with the approach used in the paper but, it's good practice to try to read papers like these."
   ]
  },
  {
   "cell_type": "markdown",
   "metadata": {},
   "source": [
    "### Pre-process the Data Set (normalization, grayscale, etc.)"
   ]
  },
  {
   "cell_type": "markdown",
   "metadata": {},
   "source": [
    "Minimally, the image data should be normalized so that the data has mean zero and equal variance. For image data, `(pixel - 128)/ 128` is a quick way to approximately normalize the data and can be used in this project. \n",
    "\n",
    "Other pre-processing steps are optional. You can try different techniques to see if it improves performance. \n",
    "\n",
    "Use the code cell (or multiple code cells, if necessary) to implement the first step of your project."
   ]
  },
  {
   "cell_type": "code",
   "execution_count": 5,
   "metadata": {},
   "outputs": [],
   "source": [
    "#http://navoshta.com/traffic-signs-classification/\n",
    "def flip_extend(X, y):\n",
    "    # Classes of signs that, when flipped horizontally, should still be classified as the same class\n",
    "    self_flippable_horizontally = np.array([11, 12, 13, 15, 17, 18, 22, 26, 30, 35])\n",
    "    # Classes of signs that, when flipped vertically, should still be classified as the same class\n",
    "    self_flippable_vertically = np.array([1, 5, 12, 15, 17])\n",
    "    # Classes of signs that, when flipped horizontally and then vertically, should still be classified as the same class\n",
    "    self_flippable_both = np.array([32, 40])\n",
    "    # Classes of signs that, when flipped horizontally, would still be meaningful, but should be classified as some other class\n",
    "    cross_flippable = np.array([\n",
    "        [19, 20], \n",
    "        [33, 34], \n",
    "        [36, 37], \n",
    "        [38, 39],\n",
    "        [20, 19], \n",
    "        [34, 33], \n",
    "        [37, 36], \n",
    "        [39, 38],   \n",
    "    ])\n",
    "    num_classes = 43\n",
    "    \n",
    "    X_extended = np.empty([0, X.shape[1], X.shape[2], X.shape[3]], dtype = X.dtype)\n",
    "    y_extended = np.empty([0], dtype = y.dtype)\n",
    "    \n",
    "    for c in range(num_classes):\n",
    "        # First copy existing data for this class\n",
    "        X_extended = np.append(X_extended, X[y == c], axis = 0)\n",
    "        # If we can flip images of this class horizontally and they would still belong to said class...\n",
    "        if c in self_flippable_horizontally:\n",
    "            # ...Copy their flipped versions into extended array.\n",
    "            X_extended = np.append(X_extended, X[y == c][:, :, ::-1, :], axis = 0)\n",
    "        # If we can flip images of this class horizontally and they would belong to other class...\n",
    "        if c in cross_flippable[:, 0]:\n",
    "            # ...Copy flipped images of that other class to the extended array.\n",
    "            flip_class = cross_flippable[cross_flippable[:, 0] == c][0][1]\n",
    "            X_extended = np.append(X_extended, X[y == flip_class][:, :, ::-1, :], axis = 0)\n",
    "        # Fill labels for added images set to current class.\n",
    "        y_extended = np.append(y_extended, np.full((X_extended.shape[0] - y_extended.shape[0]), c, dtype = int))\n",
    "        \n",
    "        # If we can flip images of this class vertically and they would still belong to said class...\n",
    "        if c in self_flippable_vertically:\n",
    "            # ...Copy their flipped versions into extended array.\n",
    "            X_extended = np.append(X_extended, X_extended[y_extended == c][:, ::-1, :, :], axis = 0)\n",
    "        # Fill labels for added images set to current class.\n",
    "        y_extended = np.append(y_extended, np.full((X_extended.shape[0] - y_extended.shape[0]), c, dtype = int))\n",
    "        \n",
    "        # If we can flip images of this class horizontally AND vertically and they would still belong to said class...\n",
    "        if c in self_flippable_both:\n",
    "            # ...Copy their flipped versions into extended array.\n",
    "            X_extended = np.append(X_extended, X_extended[y_extended == c][:, ::-1, ::-1, :], axis = 0)\n",
    "        # Fill labels for added images set to current class.\n",
    "        y_extended = np.append(y_extended, np.full((X_extended.shape[0] - y_extended.shape[0]), c, dtype = int))\n",
    "    \n",
    "    return (X_extended, y_extended)\n",
    "\n"
   ]
  },
  {
   "cell_type": "code",
   "execution_count": 6,
   "metadata": {},
   "outputs": [],
   "source": [
    "def normalize(images):\n",
    "#     normalized_images = np.zeros(images.shape)\n",
    "#     for i in range(images.shape[0]):\n",
    "#         normalized_images[i] = (images[i] - 128)/128\n",
    "#     return normalized_images\n",
    "    return images\n",
    "\n",
    "def grayscale_normalize(images):\n",
    "    gray_images = np.zeros(images.shape[:-1])\n",
    "    print(gray_images.shape)\n",
    "    for i in range(images.shape[0]):\n",
    "        gray_images[i] = cv2.cvtColor(images[i], cv2.COLOR_BGR2GRAY)\n",
    "#         gray_images[i] = cv2.equalizeHist(np.uint8(gray_images[i]))\n",
    "        gray_images[i] = (gray_images[i] - 128)/128\n",
    "\n",
    "    gray_images = gray_images[:, :, :, None]    \n",
    "    return gray_images\n",
    "    "
   ]
  },
  {
   "cell_type": "code",
   "execution_count": 7,
   "metadata": {
    "scrolled": false
   },
   "outputs": [
    {
     "name": "stdout",
     "output_type": "stream",
     "text": [
      "Before flip:34799\n",
      "After flip:59788\n",
      "(59788, 32, 32)\n",
      "(7590, 32, 32)\n",
      "(12630, 32, 32)\n"
     ]
    }
   ],
   "source": [
    "### Preprocess the data here. It is required to normalize the data. Other preprocessing steps could include \n",
    "### converting to grayscale, etc.\n",
    "### Feel free to use as many code cells as needed.\n",
    "from sklearn.utils import shuffle\n",
    "print(\"Before flip:{}\".format(X_train.shape[0]))\n",
    "X_train,y_train = flip_extend(X_train, y_train)\n",
    "X_valid,y_valid = flip_extend(X_valid, y_valid)\n",
    "print(\"After flip:{}\".format(X_train.shape[0]))\n",
    "\n",
    "X_train_norm = normalize(X_train)\n",
    "X_valid_norm = normalize(X_valid)\n",
    "X_test_norm = normalize(X_test)\n",
    "\n",
    "X_train_gray = grayscale_normalize(X_train)\n",
    "X_valid_gray = grayscale_normalize(X_valid)\n",
    "X_test_gray = grayscale_normalize(X_test)\n",
    "\n",
    "# print(X_train_norm[0])"
   ]
  },
  {
   "cell_type": "code",
   "execution_count": 8,
   "metadata": {},
   "outputs": [
    {
     "name": "stdout",
     "output_type": "stream",
     "text": [
      "3\n"
     ]
    },
    {
     "data": {
      "image/png": "[encoded data removed]",
      "text/plain": [
       "<matplotlib.figure.Figure at 0x7fbac57f55c0>"
      ]
     },
     "metadata": {
      "needs_background": "light"
     },
     "output_type": "display_data"
    }
   ],
   "source": [
    "index = random.randint(0, len(X_train_gray))\n",
    "# plt.imshow(X_train_norm[index], cmap=\"gray\")\n",
    "# plt.imshow(X_train[index], cmap=\"gray\")\n",
    "print(y_train[index])\n",
    "\n",
    "f, (ax1, ax2) = plt.subplots(1, 2)\n",
    "f.tight_layout()\n",
    "ax1.imshow(X_train_norm[index])\n",
    "ax1.set_title('Original Image')\n",
    "ax2.imshow(X_train_gray[index].squeeze(), cmap=\"gray\")\n",
    "ax2.set_title('Grayscale Image')\n",
    "plt.subplots_adjust(left=0., right=1, top=0.9, bottom=0.)"
   ]
  },
  {
   "cell_type": "markdown",
   "metadata": {},
   "source": [
    "### Model Architecture"
   ]
  },
  {
   "cell_type": "code",
   "execution_count": 14,
   "metadata": {},
   "outputs": [],
   "source": [
    "### Define your architecture here.\n",
    "### Feel free to use as many code cells as needed.\n",
    "from tensorflow.contrib.layers import flatten\n",
    "import tensorflow as tf\n",
    "\n",
    "GRAYSCALE = True\n",
    "if GRAYSCALE:\n",
    "    EPOCHS = 15#15\n",
    "else:\n",
    "    EPOCHS = 45#15\n",
    "\n",
    "BATCH_SIZE = 128\n",
    "\n",
    "conv2_activation = None\n",
    "\n",
    "def LeNet(x):\n",
    "    mu = 0\n",
    "    sigma = 0.1\n",
    "    \n",
    "    #Layer 1: Convolutional. Input = 32x32x3. Output = 28x28x6.\n",
    "    if GRAYSCALE:\n",
    "        conv1_W = tf.Variable(tf.truncated_normal(shape=[5,5,1,6], mean = mu, stddev = sigma))\n",
    "    else:\n",
    "        conv1_W = tf.Variable(tf.truncated_normal(shape=[5,5,3,6], mean = mu, stddev = sigma))\n",
    "    \n",
    "    conv1_b = tf.Variable(tf.zeros(6))\n",
    "    conv1 = tf.nn.conv2d(x, conv1_W, strides=[1,1,1,1], padding='VALID')\n",
    "#     conv1 = tf.nn.bias_add(conv1, conv1_b)\n",
    "    conv1 = conv1 + conv1_b\n",
    "    \n",
    "#     bn1 = tf.layers.batch_normalization(conv1, training=training)\n",
    "    \n",
    "    #Activation\n",
    "    conv1_activation = tf.nn.tanh(conv1)\n",
    "    \n",
    "    #Pooling. Input = 28x28x6. Output = 14x14x6.\n",
    "    conv1 = tf.nn.max_pool(conv1_activation, ksize=[1,2,2,1], strides=[1,2,2,1], padding='VALID')\n",
    "    \n",
    "    #Layer 2: Convolutional. Output = 10x10x16.\n",
    "    conv2_W = tf.Variable(tf.truncated_normal(shape=[5,5,6,16], mean = mu, stddev = sigma))\n",
    "    conv2_b = tf.Variable(tf.zeros(16))\n",
    "    conv2 = tf.nn.conv2d(conv1, conv2_W, strides=[1,1,1,1], padding='VALID')\n",
    "    conv2 = conv2 + conv2_b\n",
    "\n",
    "    #Activation\n",
    "    global conv2_activation\n",
    "    conv2_activation = tf.nn.tanh(conv2)\n",
    "    \n",
    "    #Pooling. Input = 10x10x16. Output = 5x5x16.\n",
    "    conv2 = tf.nn.max_pool(conv2_activation, ksize=[1,2,2,1], strides=[1,2,2,1], padding='VALID')\n",
    "    \n",
    "    #Flatten. Input = 5x5x16. Output = 400.\n",
    "    fc0 = flatten(conv2)\n",
    "    \n",
    "    #Layer 3: Fully Connected. Input = 400. Output = 120.\n",
    "    fc1_W = tf.Variable(tf.truncated_normal(shape=[400, 120], mean=mu, stddev = sigma))\n",
    "    fc1_b = tf.Variable(tf.zeros(120))\n",
    "    fc1   = tf.matmul(fc0, fc1_W) + fc1_b\n",
    "    \n",
    "    #Activation\n",
    "    fc1 = tf.nn.relu(fc1)\n",
    "#     if not GRAYSCALE:\n",
    "    fc1 = tf.nn.dropout(fc1, keep_prob=keep_prob)\n",
    "    \n",
    "    #Layer 4: Fully Connected. Input = 120. Output = 84.\n",
    "    fc2_W = tf.Variable(tf.truncated_normal(shape=[120, 84], mean=mu, stddev = sigma))\n",
    "    fc2_b = tf.Variable(tf.zeros(84))\n",
    "    fc2   = tf.matmul(fc1, fc2_W) + fc2_b\n",
    "    \n",
    "    #Activation\n",
    "    fc2 = tf.nn.relu(fc2)\n",
    "    fc2 = tf.nn.dropout(fc2, keep_prob=keep_prob)\n",
    "    \n",
    "    #Layer 5: Fully Connected. Input = 84. Output = n_classes.\n",
    "    fc3_W = tf.Variable(tf.truncated_normal(shape=[84, n_classes], mean=mu, stddev = sigma))\n",
    "    fc3_b = tf.Variable(tf.zeros(n_classes))\n",
    "    logits = tf.matmul(fc2, fc3_W) + fc3_b\n",
    "    \n",
    "    return logits\n",
    "    \n"
   ]
  },
  {
   "cell_type": "markdown",
   "metadata": {},
   "source": [
    "### Train, Validate and Test the Model"
   ]
  },
  {
   "cell_type": "markdown",
   "metadata": {},
   "source": [
    "A validation set can be used to assess how well the model is performing. A low accuracy on the training and validation\n",
    "sets imply underfitting. A high accuracy on the training set but low accuracy on the validation set implies overfitting."
   ]
  },
  {
   "cell_type": "code",
   "execution_count": 10,
   "metadata": {},
   "outputs": [],
   "source": [
    "keep_prob = tf.placeholder(tf.float32)\n",
    "training = tf.placeholder(tf.bool)\n",
    "\n",
    "if GRAYSCALE:\n",
    "    x = tf.placeholder(tf.float32, (None, 32, 32, 1))#1 channels\n",
    "else:\n",
    "    x = tf.placeholder(tf.float32, (None, 32, 32, 3))#3 channels    \n",
    "\n",
    "y = tf.placeholder(tf.int32, (None))\n",
    "one_hot_y = tf.one_hot(y, n_classes)\n"
   ]
  },
  {
   "cell_type": "code",
   "execution_count": 15,
   "metadata": {},
   "outputs": [],
   "source": [
    "rate = 0.003\n",
    "logits = LeNet(x)\n",
    "cross_entropy = tf.nn.softmax_cross_entropy_with_logits(labels=one_hot_y, logits=logits)\n",
    "loss_operation = tf.reduce_mean(cross_entropy)\n",
    "optimizer = tf.train.AdamOptimizer(learning_rate = rate)\n",
    "training_operation = optimizer.minimize(loss_operation)"
   ]
  },
  {
   "cell_type": "code",
   "execution_count": 16,
   "metadata": {},
   "outputs": [],
   "source": [
    "#Model Evaluation\n",
    "correct_prediction = tf.equal(tf.argmax(logits, 1), tf.argmax(one_hot_y, 1))\n",
    "accuracy_operation = tf.reduce_mean(tf.cast(correct_prediction, tf.float32))\n",
    "saver = tf.train.Saver()\n",
    "\n",
    "def evaluate(X_data, y_data):\n",
    "    num_examples = len(X_data)\n",
    "    total_accuracy = 0\n",
    "    sess = tf.get_default_session()\n",
    "    for offset in range(0, num_examples, BATCH_SIZE):\n",
    "        batch_x, batch_y = X_data[offset:offset+BATCH_SIZE], y_data[offset:offset+BATCH_SIZE]\n",
    "        accuracy = sess.run(accuracy_operation, feed_dict={x:batch_x, y:batch_y, keep_prob: 1.0, training:False})\n",
    "        total_accuracy += (accuracy * len(batch_x))\n",
    "    return total_accuracy / num_examples\n"
   ]
  },
  {
   "cell_type": "code",
   "execution_count": 17,
   "metadata": {
    "scrolled": false
   },
   "outputs": [
    {
     "name": "stdout",
     "output_type": "stream",
     "text": [
      "Training...\n",
      "\n",
      "EPOCH 1 ...\n",
      "Validation Accuracy = 0.870\n",
      "\n",
      "EPOCH 2 ...\n",
      "Validation Accuracy = 0.926\n",
      "\n",
      "EPOCH 3 ...\n",
      "Validation Accuracy = 0.946\n",
      "\n",
      "EPOCH 4 ...\n",
      "Validation Accuracy = 0.953\n",
      "\n",
      "EPOCH 5 ...\n",
      "Validation Accuracy = 0.958\n",
      "\n",
      "EPOCH 6 ...\n",
      "Validation Accuracy = 0.962\n",
      "\n",
      "EPOCH 7 ...\n",
      "Validation Accuracy = 0.967\n",
      "\n",
      "EPOCH 8 ...\n",
      "Validation Accuracy = 0.962\n",
      "\n",
      "EPOCH 9 ...\n",
      "Validation Accuracy = 0.964\n",
      "\n",
      "EPOCH 10 ...\n",
      "Validation Accuracy = 0.970\n",
      "\n",
      "EPOCH 11 ...\n",
      "Validation Accuracy = 0.971\n",
      "\n",
      "EPOCH 12 ...\n",
      "Validation Accuracy = 0.964\n",
      "\n",
      "EPOCH 13 ...\n",
      "Validation Accuracy = 0.969\n",
      "\n",
      "EPOCH 14 ...\n",
      "Validation Accuracy = 0.971\n",
      "\n",
      "EPOCH 15 ...\n",
      "Validation Accuracy = 0.970\n",
      "\n",
      "Model saved\n"
     ]
    }
   ],
   "source": [
    "### Train your model here.\n",
    "### Calculate and report the accuracy on the training and validation set.\n",
    "### Once a final model architecture is selected, \n",
    "### the accuracy on the test set should be calculated and reported as well.\n",
    "### Feel free to use as many code cells as needed.\n",
    "with tf.Session() as sess:\n",
    "    sess.run(tf.global_variables_initializer())\n",
    "#     num_examples = len(X_train)\n",
    "    num_examples = len(X_train_gray)\n",
    "    print(\"Training...\")\n",
    "    print()\n",
    "    for i in range(EPOCHS):\n",
    "        if GRAYSCALE:\n",
    "            X_train_gray, y_train = shuffle(X_train_gray, y_train)\n",
    "        else:\n",
    "            X_train_norm, y_train = shuffle(X_train_norm, y_train)\n",
    "            \n",
    "        for offset in range(0, num_examples, BATCH_SIZE):\n",
    "            end = offset + BATCH_SIZE\n",
    "            if GRAYSCALE:\n",
    "                batch_x, batch_y = X_train_gray[offset:end], y_train[offset:end]\n",
    "            else:\n",
    "                batch_x, batch_y = X_train_norm[offset:end], y_train[offset:end]\n",
    "#             print(batch_x.shape)\n",
    "#             print(x.shape)\n",
    "            sess.run(training_operation, feed_dict={x: batch_x, y: batch_y, keep_prob: 0.5, training:True})\n",
    "        if GRAYSCALE:    \n",
    "            validation_accuracy = evaluate(X_valid_gray, y_valid)\n",
    "        else:\n",
    "            validation_accuracy = evaluate(X_valid_norm, y_valid)\n",
    "            \n",
    "        print(\"EPOCH {} ...\".format(i+1))\n",
    "        print(\"Validation Accuracy = {:.3f}\".format(validation_accuracy))\n",
    "        print()\n",
    "        \n",
    "    saver.save(sess, './lenet')\n",
    "    print(\"Model saved\")"
   ]
  },
  {
   "cell_type": "code",
   "execution_count": 18,
   "metadata": {},
   "outputs": [
    {
     "name": "stdout",
     "output_type": "stream",
     "text": [
      "INFO:tensorflow:Restoring parameters from ./lenet\n",
      "Test Accuracy = 0.939\n"
     ]
    }
   ],
   "source": [
    "#Evaluate the Model\n",
    "with tf.Session() as sess:\n",
    "    saver.restore(sess, tf.train.latest_checkpoint('.'))\n",
    "\n",
    "    if GRAYSCALE:\n",
    "        test_accuracy = evaluate(X_test_gray, y_test)\n",
    "    else:\n",
    "        test_accuracy = evaluate(X_test_norm, y_test)\n",
    "        \n",
    "    print(\"Test Accuracy = {:.3f}\".format(test_accuracy))"
   ]
  },
  {
   "cell_type": "markdown",
   "metadata": {},
   "source": [
    "---\n",
    "\n",
    "## Step 3: Test a Model on New Images\n",
    "\n",
    "To give yourself more insight into how your model is working, download at least five pictures of German traffic signs from the web and use your model to predict the traffic sign type.\n",
    "\n",
    "You may find `signnames.csv` useful as it contains mappings from the class id (integer) to the actual sign name."
   ]
  },
  {
   "cell_type": "markdown",
   "metadata": {},
   "source": [
    "### Load and Output the Images"
   ]
  },
  {
   "cell_type": "code",
   "execution_count": 19,
   "metadata": {},
   "outputs": [
    {
     "name": "stdout",
     "output_type": "stream",
     "text": [
      "Speed limit (30km/h)\n"
     ]
    }
   ],
   "source": [
    "### Load the images and plot them here.\n",
    "### Feel free to use as many code cells as needed.\n",
    "import csv\n",
    "\n",
    "with open('signnames.csv', 'r') as f:\n",
    "    reader = csv.reader(f)\n",
    "    signnames_dict = {}\n",
    "    for row in reader:\n",
    "        signnames_dict[row[0]] = row[1]\n",
    "    print(signnames_dict[\"1\"])"
   ]
  },
  {
   "cell_type": "code",
   "execution_count": 20,
   "metadata": {},
   "outputs": [
    {
     "name": "stdout",
     "output_type": "stream",
     "text": [
      "10\n",
      "['./test_images_32x32/13_Yield.jpg'\n",
      " './test_images_32x32/28_Children crossing.jpg'\n",
      " './test_images_32x32/14_Stop.jpg'\n",
      " './test_images_32x32/31_Wild_animals_crossing.jpg'\n",
      " './test_images_32x32/20_Dangerous_curve_to_the_right.jpg'\n",
      " './test_images_32x32/24_Road_narrow_on_the_right.jpg'\n",
      " './test_images_32x32/33_Turn_right_ahead.jpg'\n",
      " './test_images_32x32/40_Roundabout_mandatory.jpg'\n",
      " './test_images_32x32/4_Speed_limit_70km.jpg'\n",
      " './test_images_32x32/25_Road_work.jpg']\n"
     ]
    }
   ],
   "source": [
    "from glob import glob\n",
    "import os\n",
    "from PIL import Image\n",
    "\n",
    "# true_labels = [13,28,24,14,4,33,31,20,25,40]\n",
    "true_labels = []\n",
    "predict_labels = []\n",
    "# testImages, testLabels = readTrafficSigns('./GTSRB/Final_Test/Images')\n",
    "traffic_signs = np.array(glob(\"./test_images_32x32/*.jpg\"))\n",
    "testImages = []\n",
    "print(len(traffic_signs))\n",
    "print(traffic_signs)\n",
    "for i in range(len(traffic_signs)):\n",
    "    if os.path.exists(traffic_signs[i]):\n",
    "        filename = traffic_signs[i].split(\"/\")[-1]\n",
    "        true_labels.append(int(filename.split('_')[0]))\n",
    "        testImages.append(np.asarray(Image.open(traffic_signs[i])))\n",
    "\n",
    "        "
   ]
  },
  {
   "cell_type": "code",
   "execution_count": 21,
   "metadata": {},
   "outputs": [
    {
     "data": {
      "image/png": "[encoded data removed]",
      "text/plain": [
       "<matplotlib.figure.Figure at 0x7fba9e0bf3c8>"
      ]
     },
     "metadata": {
      "needs_background": "light"
     },
     "output_type": "display_data"
    }
   ],
   "source": [
    "plt.figure(figsize=(10,20))\n",
    "for i in range(len(testImages)):\n",
    "    plt.subplot(1,len(testImages),i+1)\n",
    "    image = testImages[i].squeeze()\n",
    "    fig =plt.imshow(image)\n",
    "\n",
    "    fig.axes.get_xaxis().set_visible(False)\n",
    "    fig.axes.get_yaxis().set_visible(False)"
   ]
  },
  {
   "cell_type": "markdown",
   "metadata": {},
   "source": [
    "### Predict the Sign Type for Each Image"
   ]
  },
  {
   "cell_type": "code",
   "execution_count": 22,
   "metadata": {},
   "outputs": [],
   "source": [
    "def predict(images):\n",
    "    predict_labels.clear()\n",
    "    with tf.Session() as sess:\n",
    "        sess = tf.get_default_session()\n",
    "        saver.restore(sess, tf.train.latest_checkpoint('.'))\n",
    "        print(\"======================\")\n",
    "        for i in range(len(images)):\n",
    "            image = images[i]\n",
    "            choice = sess.run(tf.argmax(logits, 1), feed_dict={x: image.reshape([1,32,32,1]), keep_prob: 1})\n",
    "            predict_labels.append(choice[0])\n",
    "            print(signnames_dict[str(choice[0])])\n",
    "#         return choice"
   ]
  },
  {
   "cell_type": "code",
   "execution_count": 23,
   "metadata": {},
   "outputs": [],
   "source": [
    "def grayscale_normalize2(images):\n",
    "    gray_images = np.zeros(images.shape[:-1])\n",
    "    for i in range(images.shape[0]):\n",
    "        gray_images[i] = cv2.cvtColor(images[i], cv2.COLOR_RGB2GRAY)\n",
    "#         gray_images[i] = cv2.equalizeHist(np.uint8(gray_images[i]))\n",
    "        gray_images[i] = (gray_images[i] - 128)/128\n",
    "\n",
    "    gray_images = gray_images[:, :, :, None]    \n",
    "    return gray_images"
   ]
  },
  {
   "cell_type": "code",
   "execution_count": 24,
   "metadata": {
    "scrolled": false
   },
   "outputs": [
    {
     "name": "stdout",
     "output_type": "stream",
     "text": [
      "INFO:tensorflow:Restoring parameters from ./lenet\n",
      "======================\n",
      "Yield\n",
      "End of no passing\n",
      "Stop\n",
      "Dangerous curve to the left\n",
      "Dangerous curve to the right\n",
      "Yield\n",
      "Turn right ahead\n",
      "Roundabout mandatory\n",
      "Speed limit (70km/h)\n",
      "Road work\n",
      "[13, 28, 14, 31, 20, 24, 33, 40, 4, 25]\n",
      "[13, 41, 14, 19, 20, 13, 33, 40, 4, 25]\n"
     ]
    }
   ],
   "source": [
    "### Run the predictions here and use the model to output the prediction for each image.\n",
    "### Make sure to pre-process the images with the same pre-processing pipeline used earlier.\n",
    "### Feel free to use as many code cells as needed.\n",
    "\n",
    "_images = np.array(testImages)\n",
    "Test_images_norm = normalize(_images)\n",
    "Test_images_gray = grayscale_normalize2(_images)\n",
    "\n",
    "if GRAYSCALE:\n",
    "    TEST_IMAGES = Test_images_gray\n",
    "else:\n",
    "    TEST_IMAGES = Test_images_norm\n",
    "\n",
    "# for i in range(len(TEST_IMAGES)):\n",
    "#     prediction = predict(TEST_IMAGES[i])\n",
    "#     print(signnames_dict[str(prediction[0])])\n",
    "\n",
    "predict(TEST_IMAGES)\n",
    "\n",
    "print(true_labels)\n",
    "print(predict_labels)\n"
   ]
  },
  {
   "cell_type": "markdown",
   "metadata": {},
   "source": [
    "### Analyze Performance"
   ]
  },
  {
   "cell_type": "code",
   "execution_count": 25,
   "metadata": {},
   "outputs": [
    {
     "name": "stdout",
     "output_type": "stream",
     "text": [
      "Test Accuracy = 70.000%\n"
     ]
    }
   ],
   "source": [
    "### Calculate the accuracy for these 5 new images. \n",
    "### For example, if the model predicted 1 out of 5 signs correctly, it's 20% accurate on these new images.\n",
    "true_result_count = 0\n",
    "for i in range(len(true_labels)):\n",
    "    if true_labels[i] == predict_labels[i]:\n",
    "        true_result_count += 1\n",
    "test_accuracy = true_result_count*100.0/len(true_labels)\n",
    "\n",
    "print(\"Test Accuracy = {:.3f}%\".format(test_accuracy))\n",
    "\n"
   ]
  },
  {
   "cell_type": "markdown",
   "metadata": {},
   "source": [
    "### Output Top 5 Softmax Probabilities For Each Image Found on the Web"
   ]
  },
  {
   "cell_type": "markdown",
   "metadata": {},
   "source": [
    "For each of the new images, print out the model's softmax probabilities to show the **certainty** of the model's predictions (limit the output to the top 5 probabilities for each image). [`tf.nn.top_k`](https://www.tensorflow.org/versions/r0.12/api_docs/python/nn.html#top_k) could prove helpful here. \n",
    "\n",
    "The example below demonstrates how tf.nn.top_k can be used to find the top k predictions for each image.\n",
    "\n",
    "`tf.nn.top_k` will return the values and indices (class ids) of the top k predictions. So if k=3, for each sign, it'll return the 3 largest probabilities (out of a possible 43) and the correspoding class ids.\n",
    "\n",
    "Take this numpy array as an example. The values in the array represent predictions. The array contains softmax probabilities for five candidate images with six possible classes. `tf.nn.top_k` is used to choose the three classes with the highest probability:\n",
    "\n",
    "```\n",
    "# (5, 6) array\n",
    "a = np.array([[ 0.24879643,  0.07032244,  0.12641572,  0.34763842,  0.07893497,\n",
    "         0.12789202],\n",
    "       [ 0.28086119,  0.27569815,  0.08594638,  0.0178669 ,  0.18063401,\n",
    "         0.15899337],\n",
    "       [ 0.26076848,  0.23664738,  0.08020603,  0.07001922,  0.1134371 ,\n",
    "         0.23892179],\n",
    "       [ 0.11943333,  0.29198961,  0.02605103,  0.26234032,  0.1351348 ,\n",
    "         0.16505091],\n",
    "       [ 0.09561176,  0.34396535,  0.0643941 ,  0.16240774,  0.24206137,\n",
    "         0.09155967]])\n",
    "```\n",
    "\n",
    "Running it through `sess.run(tf.nn.top_k(tf.constant(a), k=3))` produces:\n",
    "\n",
    "```\n",
    "TopKV2(values=array([[ 0.34763842,  0.24879643,  0.12789202],\n",
    "       [ 0.28086119,  0.27569815,  0.18063401],\n",
    "       [ 0.26076848,  0.23892179,  0.23664738],\n",
    "       [ 0.29198961,  0.26234032,  0.16505091],\n",
    "       [ 0.34396535,  0.24206137,  0.16240774]]), indices=array([[3, 0, 5],\n",
    "       [0, 1, 4],\n",
    "       [0, 5, 1],\n",
    "       [1, 3, 5],\n",
    "       [1, 4, 3]], dtype=int32))\n",
    "```\n",
    "\n",
    "Looking just at the first row we get `[ 0.34763842,  0.24879643,  0.12789202]`, you can confirm these are the 3 largest probabilities in `a`. You'll also notice `[3, 0, 5]` are the corresponding indices."
   ]
  },
  {
   "cell_type": "code",
   "execution_count": 26,
   "metadata": {},
   "outputs": [],
   "source": [
    "# def topk(x,k):\n",
    "#     with tf.Session() as sess:\n",
    "#         sess = tf.get_default_session()\n",
    "#         saver.restore(sess, tf.train.latest_checkpoint('.'))\n",
    "#         choice = sess.run(tf.nn.top_k(logits,k), feed_dict={x: x, keep_prob: 1})\n",
    "#         return choice\n",
    " \n",
    "class_probs = []\n",
    "def topk(images,k):\n",
    "    with tf.Session() as sess:\n",
    "        class_probs.clear()\n",
    "        sess = tf.get_default_session()\n",
    "        saver.restore(sess, tf.train.latest_checkpoint('.'))\n",
    "        for i in range(len(images)):\n",
    "            img = images[i].reshape(1,32,32,1)\n",
    "            choice = sess.run(tf.nn.top_k(tf.nn.softmax(logits),k), feed_dict={x: img, keep_prob: 1})\n",
    "            class_probs.append(choice)\n",
    "        return class_probs\n",
    "    "
   ]
  },
  {
   "cell_type": "code",
   "execution_count": 27,
   "metadata": {
    "scrolled": false
   },
   "outputs": [
    {
     "name": "stdout",
     "output_type": "stream",
     "text": [
      "INFO:tensorflow:Restoring parameters from ./lenet\n",
      "[TopKV2(values=array([[  1.00000000e+00,   4.49086321e-22,   3.22445647e-31,\n",
      "          4.78821057e-33,   5.46407243e-34]], dtype=float32), indices=array([[13, 15, 12, 32, 17]], dtype=int32)), TopKV2(values=array([[ 0.75773662,  0.13415442,  0.05236515,  0.02329659,  0.00690226]], dtype=float32), indices=array([[41, 42, 11, 20, 32]], dtype=int32)), TopKV2(values=array([[  9.88061428e-01,   7.14462716e-03,   1.46464212e-03,\n",
      "          1.06400636e-03,   5.80074382e-04]], dtype=float32), indices=array([[14,  1,  2,  4,  5]], dtype=int32)), TopKV2(values=array([[ 0.88724738,  0.06780398,  0.02044073,  0.00574745,  0.00504801]], dtype=float32), indices=array([[19, 26, 24, 23, 29]], dtype=int32)), TopKV2(values=array([[ 0.50776172,  0.17256148,  0.07049184,  0.0660516 ,  0.0658848 ]], dtype=float32), indices=array([[20, 10, 38,  5, 25]], dtype=int32)), TopKV2(values=array([[ 0.37001956,  0.07703292,  0.07538123,  0.07165553,  0.0619118 ]], dtype=float32), indices=array([[13, 35, 15, 39, 25]], dtype=int32)), TopKV2(values=array([[ 0.66718441,  0.10158249,  0.09191552,  0.06606571,  0.02774132]], dtype=float32), indices=array([[33,  3, 34, 35, 15]], dtype=int32)), TopKV2(values=array([[ 0.35039172,  0.29374081,  0.10800989,  0.042844  ,  0.04069609]], dtype=float32), indices=array([[40,  1,  0, 16, 32]], dtype=int32)), TopKV2(values=array([[  8.84172320e-01,   1.14681870e-01,   1.14533864e-03,\n",
      "          3.14589414e-07,   1.51595160e-07]], dtype=float32), indices=array([[ 4,  1,  0,  5, 14]], dtype=int32)), TopKV2(values=array([[  1.00000000e+00,   3.16975353e-08,   2.33455637e-08,\n",
      "          1.80438740e-08,   2.19834151e-10]], dtype=float32), indices=array([[25, 30, 20, 23, 11]], dtype=int32))]\n"
     ]
    }
   ],
   "source": [
    "# y_prob=[]\n",
    "\n",
    "# for i in range(len(TEST_IMAGES)):    \n",
    "#     image = TEST_IMAGES[i].squeeze()\n",
    "#     topk_result = topk(image.reshape(1,32,32,1),5)\n",
    "#     y_prob.append(topk_result.indices)\n",
    "\n",
    "topk(TEST_IMAGES,5)\n",
    "print(class_probs)"
   ]
  },
  {
   "cell_type": "code",
   "execution_count": 28,
   "metadata": {},
   "outputs": [],
   "source": [
    "### Print out the top five softmax probabilities for the predictions on the German traffic sign images found on the web. \n",
    "### Feel free to use as many code cells as needed.\n",
    "def view_classify(labels, ps):\n",
    "#     ps = ps.data.numpy().squeeze()\n",
    "    fig, (ax1, ax2) = plt.subplots(figsize=(6,9), ncols=2)\n",
    "    ax1.axis('off')\n",
    "    ax2.barh(labels, ps)\n",
    "    ax2.set_aspect(0.1)\n",
    "    ax2.set_yticks(np.arange(44))\n",
    "    ax2.set_yticklabels(np.arange(44))\n",
    "    ax2.set_title('Class Probability')\n",
    "    ax2.set_xlim(0, 1.0)\n",
    "\n",
    "    plt.tight_layout()\n",
    "    plt.show()\n",
    "    plt.subplots_adjust(left=0., right=1, top=0.9, bottom=0.)\n"
   ]
  },
  {
   "cell_type": "code",
   "execution_count": 29,
   "metadata": {
    "scrolled": false
   },
   "outputs": [
    {
     "name": "stdout",
     "output_type": "stream",
     "text": [
      "[13, 28, 14, 31, 20, 24, 33, 40, 4, 25]\n",
      "[13, 41, 14, 19, 20, 13, 33, 40, 4, 25]\n"
     ]
    },
    {
     "data": {
      "image/png": "[encoded data removed]",
      "text/plain": [
       "<matplotlib.figure.Figure at 0x7fbac58bb198>"
      ]
     },
     "metadata": {
      "needs_background": "light"
     },
     "output_type": "display_data"
    }
   ],
   "source": [
    "from matplotlib.pyplot import MultipleLocator\n",
    "for i in range(len(class_probs)):\n",
    "    topk_values = class_probs[i].values.squeeze().tolist()\n",
    "    topk_indices = class_probs[i].indices.squeeze().tolist()\n",
    "#     view_classify(topk_indices, topk_values)\n",
    "    fig= plt.subplot(2,len(class_probs)/2,i+1)\n",
    "    plt.xlim(0, 1.0)\n",
    "    plt.ylim(1, 43)\n",
    "    plt.yticks(np.arange(44))\n",
    "    \n",
    "    x_major_locator=MultipleLocator(0.5)\n",
    "    #把x轴的刻度间隔设置为1，并存在变量里\n",
    "    y_major_locator=MultipleLocator(10)\n",
    "    #把y轴的刻度间隔设置为10，并存在变量里\n",
    "    ax=plt.gca()\n",
    "    #ax为两条坐标轴的实例\n",
    "    ax.xaxis.set_major_locator(x_major_locator)\n",
    "    #把x轴的主刻度设置为1的倍数\n",
    "    ax.yaxis.set_major_locator(y_major_locator)\n",
    "\n",
    "    plt.ylabel('Class')\n",
    "    plt.xlabel('Probability')\n",
    "    \n",
    "    max_prob_index = topk_values.index(max(topk_values))\n",
    "    max_prob_class = topk_indices[max_prob_index]\n",
    "    idx = predict_labels.index(max_prob_class)\n",
    "#     plt.title(str(max_prob_class))\n",
    "    plt.title(\"{} ({})\".format(predict_labels[i], true_labels[i]),\n",
    "                 color=(\"green\" if predict_labels[i]==true_labels[i] else \"red\"))\n",
    "    plt.barh(topk_indices, topk_values)\n",
    "    plt.tight_layout()\n",
    "    plt.subplots_adjust(left=0., right=1, top=0.9, bottom=0.)\n",
    "    \n",
    "print(true_labels)\n",
    "print(predict_labels)"
   ]
  },
  {
   "cell_type": "markdown",
   "metadata": {},
   "source": [
    "### Project Writeup\n",
    "\n",
    "Once you have completed the code implementation, document your results in a project writeup using this [template](https://github.com/udacity/CarND-Traffic-Sign-Classifier-Project/blob/master/writeup_template.md) as a guide. The writeup can be in a markdown or pdf file. "
   ]
  },
  {
   "cell_type": "markdown",
   "metadata": {},
   "source": [
    "> **Note**: Once you have completed all of the code implementations and successfully answered each question above, you may finalize your work by exporting the iPython Notebook as an HTML document. You can do this by using the menu above and navigating to  \\n\",\n",
    "    \"**File -> Download as -> HTML (.html)**. Include the finished document along with this notebook as your submission."
   ]
  },
  {
   "cell_type": "markdown",
   "metadata": {},
   "source": [
    "---\n",
    "\n",
    "## Step 4 (Optional): Visualize the Neural Network's State with Test Images\n",
    "\n",
    " This Section is not required to complete but acts as an additional excersise for understaning the output of a neural network's weights. While neural networks can be a great learning device they are often referred to as a black box. We can understand what the weights of a neural network look like better by plotting their feature maps. After successfully training your neural network you can see what it's feature maps look like by plotting the output of the network's weight layers in response to a test stimuli image. From these plotted feature maps, it's possible to see what characteristics of an image the network finds interesting. For a sign, maybe the inner network feature maps react with high activation to the sign's boundary outline or to the contrast in the sign's painted symbol.\n",
    "\n",
    " Provided for you below is the function code that allows you to get the visualization output of any tensorflow weight layer you want. The inputs to the function should be a stimuli image, one used during training or a new one you provided, and then the tensorflow variable name that represents the layer's state during the training process, for instance if you wanted to see what the [LeNet lab's](https://classroom.udacity.com/nanodegrees/nd013/parts/fbf77062-5703-404e-b60c-95b78b2f3f9e/modules/6df7ae49-c61c-4bb2-a23e-6527e69209ec/lessons/601ae704-1035-4287-8b11-e2c2716217ad/concepts/d4aca031-508f-4e0b-b493-e7b706120f81) feature maps looked like for it's second convolutional layer you could enter conv2 as the tf_activation variable.\n",
    "\n",
    "For an example of what feature map outputs look like, check out NVIDIA's results in their paper [End-to-End Deep Learning for Self-Driving Cars](https://devblogs.nvidia.com/parallelforall/deep-learning-self-driving-cars/) in the section Visualization of internal CNN State. NVIDIA was able to show that their network's inner weights had high activations to road boundary lines by comparing feature maps from an image with a clear path to one without. Try experimenting with a similar test to show that your trained network's weights are looking for interesting features, whether it's looking at differences in feature maps from images with or without a sign, or even what feature maps look like in a trained network vs a completely untrained one on the same sign image.\n",
    "\n",
    "<figure>\n",
    " <img src=\"visualize_cnn.png\" width=\"380\" alt=\"Combined Image\" />\n",
    " <figcaption>\n",
    " <p></p> \n",
    " <p style=\"text-align: center;\"> Your output should look something like this (above)</p> \n",
    " </figcaption>\n",
    "</figure>\n",
    " <p></p> \n"
   ]
  },
  {
   "cell_type": "code",
   "execution_count": 30,
   "metadata": {},
   "outputs": [],
   "source": [
    "### Visualize your network's feature maps here.\n",
    "### Feel free to use as many code cells as needed.\n",
    "\n",
    "# image_input: the test image being fed into the network to produce the feature maps\n",
    "# tf_activation: should be a tf variable name used during your training procedure that represents the calculated state of a specific weight layer\n",
    "# activation_min/max: can be used to view the activation contrast in more detail, by default matplot sets min and max to the actual min and max values of the output\n",
    "# plt_num: used to plot out multiple different weight feature map sets on the same block, just extend the plt number for each new feature map entry\n",
    "\n",
    "def outputFeatureMap(image_input, tf_activation, activation_min=-1, activation_max=-1 ,plt_num=1):\n",
    "    # Here make sure to preprocess your image_input in a way your network expects\n",
    "    # with size, normalization, ect if needed\n",
    "    # image_input =\n",
    "    # Note: x should be the same name as your network's tensorflow data placeholder variable\n",
    "    # If you get an error tf_activation is not defined it may be having trouble accessing the variable from inside a function\n",
    "    activation = tf_activation.eval(session=sess,feed_dict={x : image_input})\n",
    "    featuremaps = activation.shape[3]\n",
    "    plt.figure(plt_num, figsize=(15,15))\n",
    "    for featuremap in range(featuremaps):\n",
    "        plt.subplot(6,8, featuremap+1) # sets the number of feature maps to show on each row and column\n",
    "        plt.title('FeatureMap ' + str(featuremap)) # displays the feature map number\n",
    "        if activation_min != -1 & activation_max != -1:\n",
    "            plt.imshow(activation[0,:,:, featuremap], interpolation=\"nearest\", vmin =activation_min, vmax=activation_max, cmap=\"gray\")\n",
    "        elif activation_max != -1:\n",
    "            plt.imshow(activation[0,:,:, featuremap], interpolation=\"nearest\", vmax=activation_max, cmap=\"gray\")\n",
    "        elif activation_min !=-1:\n",
    "            plt.imshow(activation[0,:,:, featuremap], interpolation=\"nearest\", vmin=activation_min, cmap=\"gray\")\n",
    "        else:\n",
    "            plt.imshow(activation[0,:,:, featuremap], interpolation=\"nearest\", cmap=\"gray\")"
   ]
  },
  {
   "cell_type": "code",
   "execution_count": 31,
   "metadata": {},
   "outputs": [
    {
     "name": "stdout",
     "output_type": "stream",
     "text": [
      "INFO:tensorflow:Restoring parameters from ./lenet\n"
     ]
    },
    {
     "data": {
      "image/png": "[encoded data removed]",
      "text/plain": [
       "<matplotlib.figure.Figure at 0x7fbac5957630>"
      ]
     },
     "metadata": {
      "needs_background": "light"
     },
     "output_type": "display_data"
    }
   ],
   "source": [
    "with tf.Session() as sess:\n",
    "    saver = tf.train.import_meta_graph('lenet.meta')\n",
    "    saver.restore(sess, './lenet')\n",
    "    outputFeatureMap(TEST_IMAGES[4].reshape(1,32,32,1), conv2_activation)\n"
   ]
  }
 ],
 "metadata": {
  "anaconda-cloud": {},
  "kernelspec": {
   "display_name": "Python 3",
   "language": "python",
   "name": "python3"
  },
  "language_info": {
   "codemirror_mode": {
    "name": "ipython",
    "version": 3
   },
   "file_extension": ".py",
   "mimetype": "text/x-python",
   "name": "python",
   "nbconvert_exporter": "python",
   "pygments_lexer": "ipython3",
   "version": "3.7.3"
  }
 },
 "nbformat": 4,
 "nbformat_minor": 1
}
