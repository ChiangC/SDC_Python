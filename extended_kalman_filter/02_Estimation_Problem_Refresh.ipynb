{
 "cells": [
  {
   "cell_type": "markdown",
   "metadata": {},
   "source": [
    "At each core, the Kalman Filter is a two-step estimation problem, predict and update. We always start with what we already know from the past about the pedestrian.We use information we have to predict the state of pedestrian until the next measurement arrives, and this is called the prediction step.The next step is called update step, where we essentially use the new observations to correct our new belief abount the state of pedestrian.The Kalman Filter simply consist of an endless loop of prediction update step.\n",
    "\n",
    "\n",
    "卡尔曼滤波器本质上是一个两步估算问题,包括预测和更新。我们开始时依赖已知的行人信息。\n",
    "推断行人在下次测量到达时的行人状态，这叫做预测步骤。下一步叫做更新步骤，其本质是使用新的观察数据纠正我们对于行人状态的信度。卡尔曼滤波器一般是由无穷的预测更新步骤组成的。\n",
    "\n",
    "\n",
    "![](./images/two_step_estimation_problem.png)\n",
    "\n",
    "But what happens when there are two sensors observe the same pedestrian? How does that change Kalman filter?\n",
    "Actually we can keep the same processing flow with the difference that each sensor is going to have its own prediction update scheme. In other words, the belief about the pedestrian's position and velocity is updated asynchronously each time new measurement is received regardless the source sensor.\n",
    "\n",
    "那么如果两个传感器观察同一名行人呢？卡尔曼滤波器会发生什么变化？\n",
    "实际上，我们可以使用同样的处理流程，区别在于每个传感器都独立的预测/更新周期。换句话说关于行人位置和速度的信度是非同步更新的。每次收到新测量值后更新，不考虑来自哪个传感器。\n",
    "\n",
    "![](./images/two_step_estimation_problem_02.png)\n",
    "\n",
    "Now let's imagine that we the radar measurement at the time `k+2`. First we again predict the pedestrian state from `k+1` to `k+2`.\n",
    "Note, this prediction for radar is exactly the same function as in the lidar case. What changes, in this case is the measurement update step. As we know radar sees the world differently than laser. While laser provides measurement in Cartesian coordinate system, radar provides measurement in a Polar coordinate system. Thus we have to use different measurement update function specific to radar data, so this is a more detailed view of Kalman filter. We are received measurements from different sensors at each timestamp, and then we make a prediction followed by a measurement update.\n",
    " \n",
    "假设我们在时间k+2收到了雷达测量值。首先，我们再次预测行人从k+1到k+2的状态。注意，这次雷达预测使用的函数跟激光预测一样,本例中，不同的地方在于测量更新步骤。我们知道雷达和激光观察世界的方式不同。激光提供的数据是基于笛卡尔坐标系的，而雷达提供的测量数据是基于极坐标系的。因此，我们必须使用专门针对雷达的不同测量更新函数，因此，这就是卡尔曼滤波器的详细结构。我们在每个时间戳上收到来自不同传感器的测量值，然后进行预测，再进行测量值更新。\n",
    "\n",
    "![](./images/measure_predict_update.png)\n",
    "\n"
   ]
  },
  {
   "cell_type": "markdown",
   "metadata": {},
   "source": [
    "\n",
    "Definition of Variables\n",
    "* ${x}$ is the mean state vector. For an extended Kalman filter, the mean state vector contains information about the object's position and velocity that you are tracking. It is called the \"mean\" state vector because position and velocity are represented by a gaussian distribution with mean ${x}$.\n",
    "* ${P}$ is the state covariance matrix, which contains information about the uncertainty of the object's position and velocity. You can think of it as containing standard deviations.\n",
    "* ${k}$ represents time steps. So ${x_k}$refers to the object's position and velocity vector at time ${k}$.\n",
    "* The notation ${k+1|k}$ refers to the prediction step. At time  ${k+1}$, you receive a sensor measurement. Before taking into account the sensor measurement to update your belief about the object's position and velocity, you predict where you think the object will be at time ${k+1}$. You can predict the position of the object at ${k+1}$ based on its position and velocity at time kk. Hence ${x_{k+1|k}}$means that you have predicted where the object will be at ${k+1}$ but have not yet taken the sensor measurement into account.\n",
    "* ${x_{k+1}}$ means that you have now predicted where the object will be at time ${k+1}$ and then used the sensor measurement to update the object's position and velocity.\n",
    "\n",
    "![](./images/measure_predict_update.png)\n",
    "\n",
    ">Q:What should a Kalman Filter do if both the radar and laser measurements arrive at the same time, k+3? Hint: The Kalman filter algorithm predicts -> updates -> predicts -> updates, etc. If two sensor measurements come in simultaneously, the time step between the first measurement and the second measurement would be zero.\n",
    "\n",
    ">A:Predict the state to k+3 then use either one of the sensors to update. Then predict the state to k+3 again and update with the other sensor measurement.\n",
    "\n",
    "As you saw, the Kalman filter is a two-step process: predict, and then update. If you receive two measurements simultaneously(同时;联立;急切地), you can use this process with either measurement and then repeat the process with the other measurement. The order does not matter!"
   ]
  },
  {
   "cell_type": "markdown",
   "metadata": {},
   "source": [
    "![](./images/measureupdatequizpost.png)\n",
    "\n",
    "Because we have already run a prediction-update iteration with the first sensor at time k+3, the output of the second prediction at time k+3 will actually be identical to the output from the update step with the first sensor. So, in theory, you could skip the second prediction step and just run a prediction, update, update iteration.\n",
    "\n",
    "\n",
    "\n",
    "\n",
    "\n",
    "\n",
    "\n"
   ]
  }
 ],
 "metadata": {
  "kernelspec": {
   "display_name": "Python 3",
   "language": "python",
   "name": "python3"
  },
  "language_info": {
   "codemirror_mode": {
    "name": "ipython",
    "version": 3
   },
   "file_extension": ".py",
   "mimetype": "text/x-python",
   "name": "python",
   "nbconvert_exporter": "python",
   "pygments_lexer": "ipython3",
   "version": "3.7.3"
  }
 },
 "nbformat": 4,
 "nbformat_minor": 2
}
