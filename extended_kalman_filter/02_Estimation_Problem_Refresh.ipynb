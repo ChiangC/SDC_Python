{
 "cells": [
  {
   "cell_type": "markdown",
   "metadata": {},
   "source": [
    "\n",
    "Definition of Variables\n",
    "* ${x}$ is the mean state vector. For an extended Kalman filter, the mean state vector contains information about the object's position and velocity that you are tracking. It is called the \"mean\" state vector because position and velocity are represented by a gaussian distribution with mean ${x}$.\n",
    "* ${P}$ is the state covariance matrix, which contains information about the uncertainty of the object's position and velocity. You can think of it as containing standard deviations.\n",
    "* ${k}$ represents time steps. So ${x_k}$refers to the object's position and velocity vector at time ${k}$.\n",
    "* The notation ${k+1|k}$ refers to the prediction step. At time  ${k+1}$, you receive a sensor measurement. Before taking into account the sensor measurement to update your belief about the object's position and velocity, you predict where you think the object will be at time ${k+1}$. You can predict the position of the object at ${k+1}$ based on its position and velocity at time kk. Hence ${x_{k+1|k}}$means that you have predicted where the object will be at ${k+1}$ but have not yet taken the sensor measurement into account.\n",
    "* ${x_{k+1}}$ means that you have now predicted where the object will be at time ${k+1}$ and then used the sensor measurement to update the object's position and velocity.\n",
    "\n",
    "![](./images/measure_predict_update.png)\n",
    "\n",
    ">Q:What should a Kalman Filter do if both the radar and laser measurements arrive at the same time, k+3? Hint: The Kalman filter algorithm predicts -> updates -> predicts -> updates, etc. If two sensor measurements come in simultaneously, the time step between the first measurement and the second measurement would be zero.\n",
    "\n",
    ">A:Predict the state to k+3 then use either one of the sensors to update. Then predict the state to k+3 again and update with the other sensor measurement.\n",
    "\n",
    "As you saw, the Kalman filter is a two-step process: predict, and then update. If you receive two measurements simultaneously(同时;联立;急切地), you can use this process with either measurement and then repeat the process with the other measurement. The order does not matter!"
   ]
  },
  {
   "cell_type": "markdown",
   "metadata": {},
   "source": []
  }
 ],
 "metadata": {
  "kernelspec": {
   "display_name": "Python 3",
   "language": "python",
   "name": "python3"
  },
  "language_info": {
   "codemirror_mode": {
    "name": "ipython",
    "version": 3
   },
   "file_extension": ".py",
   "mimetype": "text/x-python",
   "name": "python",
   "nbconvert_exporter": "python",
   "pygments_lexer": "ipython3",
   "version": "3.7.3"
  }
 },
 "nbformat": 4,
 "nbformat_minor": 2
}
