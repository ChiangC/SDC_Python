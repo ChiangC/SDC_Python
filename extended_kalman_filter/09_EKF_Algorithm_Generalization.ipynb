{
 "cells": [
  {
   "cell_type": "markdown",
   "metadata": {},
   "source": [
    "### Extended Kalman Filter Equations\n",
    "\n",
    "Although the mathematical proof is somewhat complex, it turns out that the Kalman filter equations and extended Kalman filter equations are very similar. The main differences are:\n",
    "\n",
    "*   the ${F}$ matrix will be replaced by ${F_j}$​ when calculating ${P'}$.\n",
    "*   the ${H}$ matrix in the Kalman filter will be replaced by the Jacobian matrix ${H_j}$​ when calculating ${S}$, ${K}$, and ${P}$.\n",
    "*   to calculate ${x'}$, the prediction update function, ${f}$, is used instead of the ${F}$ matrix.\n",
    "*   to calculate ${y}$, the ${h}$h function is used instead of the ${H}$ matrix.\n",
    "\n",
    "For this project, however, we do not need to use the ${f}$ function or ${F_j}$. If we had been using a non-linear model in the prediction step, we would need to replace the ${F}$ matrix with its Jacobian, ${F_j}$. However, we are using a linear model for the prediction step. So, for the prediction step, we can still use the regular Kalman filter equations and the ${F}$ matrix rather than the extended Kalman filter equations.\n",
    "\n",
    "The measurement update for lidar will also use the regular Kalman filter equations, since lidar uses linear equations. Only the measurement update for the radar sensor will use the extended Kalman filter equations.\n",
    "\n",
    "**One important point to reiterate is that the equation ${y = z - Hx'}$ for the Kalman filter does not become ${y = z - H_jx}$ for the extended Kalman filter. Instead, for extended Kalman filters, we'll use the h function directly to map predicted locations ${x'}$ from Cartesian to polar coordinates.**\n",
    "\n",
    " ![](./images/algorithm-generalization-900.jpg)\n",
    "\n",
    "### Clarification of u = 0\n",
    "\n",
    "In the above image, the prediction equation is written as ${x' = Fx + u}$ and ${x' = f(x,u)}$. Previously the equation was written ${x' = Fx + \\nu}$.\n",
    "\n",
    "It is just a question of notation where ${\\nu}$ is the greek letter \"nu\" and \"u\" is used in the code examples. Remember that ${\\nu}$ is represented by a gaussian distribution with mean zero. The equation ${x' = Fx + u}$ or the equivalent equation ${x' = Fx + \\nu}$ calculates the mean value of the state variable ${x}$; hence we set u = 0\\. The uncertainty in the gaussian distribution shows up in the ${Q}$ matrix.\n",
    "\n",
    "### More Details About Calculations with Radar Versus Lidar\n",
    "\n",
    "In the radar update step, the Jacobian matrix ${H_j}$ is used to calculate ${S}$, ${K}$ and ${P}$. To calculate ${y}$, we use the equations that map the predicted location ${x'}$ from Cartesian coordinates to polar coordinates:\n",
    "\n",
    "${h(x')= \\begin{pmatrix} \\sqrt{ p{'}_{x}^2 + p{'}_{y}^2 }\\\\ \\arctan(p_y' / p_x')\\\\ \\frac{p_x' v_x' + p_y' v_y'}{\\sqrt{p{'}_{x}^2 + p{'}_{y}^2}} \\end{pmatrix}}$\n",
    "\n",
    "The predicted measurement vector ${x'}$ is a vector containing values in the form ${\\begin{bmatrix} p_x, p_y, v_x, v_y \\end{bmatrix}}$. The radar sensor will output values in polar coordinates:\n",
    "\n",
    "${\\begin{pmatrix} \\rho\\\\ \\phi\\\\ \\dot{\\rho} \\end{pmatrix}}$\n",
    "\n",
    "In order to calculate ${y}$y for the radar sensor, we need to convert ${x'}$x′ to polar coordinates. In other words, the function ${h(x)}$h(x) maps values from Cartesian coordinates to polar coordinates. So the equation for radar becomes ${y = z_{radar} - h(x')}$y=zradar​−h(x′).\n",
    "\n",
    "One other important point when calculating ${y}$ with radar sensor data: the second value in the polar coordinate vector is the angle ${\\phi}$. You'll need to make sure to normalize ${\\phi}$ in the ${y}$ vector so that its angle is between ${-\\pi}$ and ${\\pi}$; in other words, add or subtract ${2\\pi}$ from ${\\phi}$ until it is between ${-\\pi}$ and ${\\pi}$.\n",
    "\n",
    "To summarize:\n",
    "\n",
    "*   for measurement updates with lidar, we can use the ${H}$ matrix for calculating ${y}$, ${S}$, ${K}$ and ${P}$.\n",
    "*   for radar, ${H_j}$​ is used to calculate ${S}$, ${K}$K and ${P}$.\n"
   ]
  },
  {
   "cell_type": "markdown",
   "metadata": {},
   "source": [
    "**练习题\n",
    "Compared to Kalman Filters, how would the Extended Kalman Filter result differ when the prediction function and measurement function are both linear?**\n",
    "\n",
    "A:The Extended Kalman Filter's result would be the same as the standard Kalman Filter's result.\n",
    "\n",
    ">If f and h are linear functions, then the Extended Kalman Filter generates exactly the same result as the standard Kalman Filter. Actually, if f and h are linear then the Extended Kalman Filter F_j turns into f and H_j turns into h. All that's left is the same ol' standard Kalman Filter!\n",
    "In our case we have a linear motion model, but a nonlinear measurement model when we use radar observations. So, we have to compute the Jacobian only for the measurement function.\n"
   ]
  }
 ],
 "metadata": {
  "kernelspec": {
   "display_name": "Python 3",
   "language": "python",
   "name": "python3"
  },
  "language_info": {
   "codemirror_mode": {
    "name": "ipython",
    "version": 3
   },
   "file_extension": ".py",
   "mimetype": "text/x-python",
   "name": "python",
   "nbconvert_exporter": "python",
   "pygments_lexer": "ipython3",
   "version": "3.7.3"
  }
 },
 "nbformat": 4,
 "nbformat_minor": 2
}
