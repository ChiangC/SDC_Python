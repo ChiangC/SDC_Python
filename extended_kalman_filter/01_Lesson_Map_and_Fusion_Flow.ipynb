{
 "cells": [
  {
   "cell_type": "markdown",
   "metadata": {},
   "source": [
    "\n",
    "![](./images/overview_of_kalman_filter_algorithm_map_01.png)\n",
    "\n",
    "Imagine you are in a car equipped with sensors on the outside. The car sensors can detect objects moving around: for example, the sensors might detect a pedestrian, as described in the video, or even a bicycle. For variety, let's step through the Kalman Filter algorithm using the bicycle example.\n",
    "\n",
    "The Kalman Filter algorithm will go through the following steps:\n",
    "\n",
    "* **first measurement** - the filter will receive initial measurements of the bicycle's position relative to the car. These measurements will come from a radar or lidar sensor.\n",
    "* **initialize state and covariance matrices** - the filter will initialize the bicycle's position based on the first measurement.\n",
    "* then the car will receive another sensor measurement after a time period ${\\Delta{t}}$.\n",
    "* **predict** - the algorithm will predict where the bicycle will be after time ${\\Delta{t}}$. One basic way to predict the bicycle location after ${\\Delta{t}}$ is to assume the bicycle's velocity is constant; thus the bicycle will have moved **velocity * ${\\Delta{t}}$**. In the extended Kalman filter lesson, we will assume the velocity is constant.\n",
    "* **update** - the filter compares the \"predicted\" location with what the sensor measurement says. The predicted location and the measured location are combined to give an updated location. The Kalman filter will put more weight on either the predicted location or the measured location depending on the uncertainty of each value.\n",
    "* then the car will receive another sensor measurement after a time period ${\\Delta{t}}$. The algorithm then does another **predict** and **update** step.\n"
   ]
  }
 ],
 "metadata": {
  "kernelspec": {
   "display_name": "Python 3",
   "language": "python",
   "name": "python3"
  },
  "language_info": {
   "codemirror_mode": {
    "name": "ipython",
    "version": 3
   },
   "file_extension": ".py",
   "mimetype": "text/x-python",
   "name": "python",
   "nbconvert_exporter": "python",
   "pygments_lexer": "ipython3",
   "version": "3.7.3"
  }
 },
 "nbformat": 4,
 "nbformat_minor": 2
}
