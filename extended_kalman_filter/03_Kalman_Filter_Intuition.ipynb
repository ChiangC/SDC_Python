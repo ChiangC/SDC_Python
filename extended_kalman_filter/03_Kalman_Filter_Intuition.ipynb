{
 "cells": [
  {
   "cell_type": "markdown",
   "metadata": {},
   "source": [
    "![](./images/kalman_filter_predict_update_equation1.png)\n",
    "![](./images/kalman_filter_predict_update_equation.png)\n",
    "### Kalman Filter Intuition\n",
    "The Kalman equation contains many variables, so here is a high level overview to get some intuition about what the Kalman filter is doing.\n",
    "\n",
    "#### Prediction\n",
    "Let's say we know an object's current position and velocity , which we keep in the x variable. Now one second has passed. We can predict where the object will be one second later because we knew the object position and velocity one second ago; we'll just assume the object kept going at the same velocity.\n",
    "\n",
    "The ${x' = Fx + \\nu}$  equation does these prediction calculations for us.\n",
    "\n",
    "But maybe the object didn't maintain the exact same velocity. Maybe the object changed direction, accelerated or decelerated. So when we predict the position one second later, our uncertainty increases. ${P' = FPF^T + Q}$  represents this increase in uncertainty.\n",
    "\n",
    "Process noise refers to the uncertainty in the prediction step. We assume the object travels at a constant velocity, but in reality, the object might accelerate or decelerate. The notation ${\\nu \\sim N(0, Q)}$ defines the process noise as a gaussian distribution with mean zero and covariance ${Q}$.\n",
    "\n",
    "#### Update\n",
    "Now we get some sensor information that tells where the object is relative to the car. First we compare where we think we are with what the sensor data tells us ${y = z - Hx'}$.\n",
    "\n",
    "The ${K}$ matrix, often called the Kalman filter gain, combines the uncertainty of where we think we are ${P'}$ with the uncertainty of our sensor measurement ${R}$. If our sensor measurements are very uncertain (${R}$ is high relative to ${P'}$), then the Kalman filter will give more weight to where we think we are: ${x'}$. If where we think we are is uncertain (${P'}$ is high relative to ${R}$), the Kalman filter will put more weight on the sensor measurement: ${z}$.\n",
    "\n",
    "Measurement noise refers to uncertainty in sensor measurements. The notation ${\\omega \\sim N(0, R)}$ defines the measurement noise as a gaussian distribution with mean zero and covariance ${R}$. Measurement noise comes from uncertainty in sensor measurements.\n",
    "\n",
    "#### A Note About the State Transition Function: ${Bu}$\n",
    "If you go back to the video, you'll notice that the state transition function was first given as ${x' = Fx + Bu + \\nu}$ .\n",
    "\n",
    "But then BuBu was crossed out leaving ${x' = Fx + \\nu}$.\n",
    "\n",
    "BB is a matrix called the control input matrix and uu is the control vector.\n",
    "\n",
    "As an example, let's say we were tracking a car and we knew for certain how much the car's motor was going to accelerate or decelerate over time; in other words, we had an equation to model the exact amount of acceleration at any given moment. ${Bu}$ would represent the updated position of the car due to the internal force of the motor. We would use ${\\nu}$ to represent any random noise that we could not precisely predict like if the car slipped on the road or a strong wind moved the car.\n",
    "\n",
    "For the Kalman filter lessons, we will assume that there is no way to measure or know the exact acceleration of a tracked object. For example, if we were in an autonomous vehicle tracking a bicycle, pedestrian or another car, we would not be able to model the internal forces of the other object; hence, we do not know for certain what the other object's acceleration is. Instead, we will set ${Bu = 0}$ and represent acceleration as a random noise with mean ${\\nu}$.\n",
    "\n",
    "\n"
   ]
  },
  {
   "cell_type": "markdown",
   "metadata": {},
   "source": []
  },
  {
   "cell_type": "markdown",
   "metadata": {},
   "source": []
  }
 ],
 "metadata": {
  "kernelspec": {
   "display_name": "Python 3",
   "language": "python",
   "name": "python3"
  },
  "language_info": {
   "codemirror_mode": {
    "name": "ipython",
    "version": 3
   },
   "file_extension": ".py",
   "mimetype": "text/x-python",
   "name": "python",
   "nbconvert_exporter": "python",
   "pygments_lexer": "ipython3",
   "version": "3.7.3"
  }
 },
 "nbformat": 4,
 "nbformat_minor": 2
}
