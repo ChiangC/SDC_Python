{
 "cells": [
  {
   "cell_type": "markdown",
   "metadata": {},
   "source": [
    "# 情感分类 & 建立神经网络时，应如何“搭建问题框架”\n",
    "讲师：Andrew Trask\n",
    "\n",
    "- **推特**: @iamtrask\n",
    "- **博客**: http://iamtrask.github.io\n",
    "\n",
    "### 你应该掌握的背景知识\n",
    "\n",
    "- 神经网络、前向传播、反向传播\n",
    "- 随机梯度下降\n",
    "- 均方误差\n",
    "- 训练集/测试集的切分\n",
    "\n",
    "### 如有需要，请\n",
    "- 重看优达学城以前的课程\n",
    "- 充分利用课程的推荐阅读材料 - [《深度学习详解》](https://www.manning.com/books/grokking-deep-learning) (请进入课室查看优惠码)\n",
    "- @iamtrask 给我发推特\n",
    "\n",
    "\n",
    "### 教学大纲：\n",
    "\n",
    "- 简介： “搭建问题框架”的重要性（本课）\n",
    "\n",
    "- [管护数据集](#lesson_1)\n",
    "- [提出“预测理论”](#lesson_2)\n",
    "- [**项目 1**：快速验证理论](#project_1)\n",
    "\n",
    "\n",
    "- [将文本转换成数字](#lesson_3)\n",
    "- [**项目 2**：创建输入/输出数据](#project_2)\n",
    "\n",
    "\n",
    "- 融会贯通，创建神经网络 (仅视频 - 无 notebook 内容)\n",
    "- [**项目 3**：创建神经网络](#project_3)\n",
    "\n",
    "\n",
    "- [理解神经噪声](#lesson_4)\n",
    "- [**项目 4**：通过降噪来提高网络学习速度](#project_4)\n",
    "\n",
    "\n",
    "- [分析网络的不足之处](#lesson_5)\n",
    "- [**项目 5**：提高网络训练和运行的速度](#project_5)\n",
    "\n",
    "\n",
    "- [进一步降噪](#lesson_6)\n",
    "- [**项目 6**：有策略地删减词汇，进行降噪](#project_6)\n",
    "\n",
    "\n",
    "- [分析：权重怎么了？](#lesson_7)\n",
    "\n",
    "# 课程：管护数据集<a id='lesson_1'></a>\n",
    "从此处开始到项目 1 为止的代码框包含了 Andrew 在迷你项目 1 教学视频之前用过的代码，因此你无需手动输入，即可跟着视频运行代码。"
   ]
  },
  {
   "cell_type": "code",
   "execution_count": 1,
   "metadata": {},
   "outputs": [],
   "source": [
    "def pretty_print_review_and_label(i):\n",
    "    print(labels[i] + \"\\t:\\t\" + reviews[i][:80] + \"...\")\n",
    "\n",
    "g = open('reviews.txt','r') # What we know!\n",
    "reviews = list(map(lambda x:x[:-1],g.readlines()))\n",
    "g.close()\n",
    "\n",
    "g = open('labels.txt','r') # What we WANT to know!\n",
    "labels = list(map(lambda x:x[:-1].upper(),g.readlines()))\n",
    "g.close()"
   ]
  },
  {
   "cell_type": "markdown",
   "metadata": {},
   "source": [
    "**注:** 对于正在使用的 `reviews.txt` 中的数据，我们已进行了一些预处理，现在数据只包含小写字符，但如果我们现在使用的是原始数据，因为不知道数据是否全为小写，所以此时应添加一步操作，进行大小写转换。处理同一个单词的不同形态时，如 `The`、 `the` 和 `THE`，也要进行同样的转换。"
   ]
  },
  {
   "cell_type": "code",
   "execution_count": 2,
   "metadata": {},
   "outputs": [
    {
     "data": {
      "text/plain": [
       "25000"
      ]
     },
     "execution_count": 2,
     "metadata": {},
     "output_type": "execute_result"
    }
   ],
   "source": [
    "len(reviews)"
   ]
  },
  {
   "cell_type": "code",
   "execution_count": 3,
   "metadata": {},
   "outputs": [
    {
     "data": {
      "text/plain": [
       "'bromwell high is a cartoon comedy . it ran at the same time as some other programs about school life  such as  teachers  . my   years in the teaching profession lead me to believe that bromwell high  s satire is much closer to reality than is  teachers  . the scramble to survive financially  the insightful students who can see right through their pathetic teachers  pomp  the pettiness of the whole situation  all remind me of the schools i knew and their students . when i saw the episode in which a student repeatedly tried to burn down the school  i immediately recalled . . . . . . . . . at . . . . . . . . . . high . a classic line inspector i  m here to sack one of your teachers . student welcome to bromwell high . i expect that many adults of my age think that bromwell high is far fetched . what a pity that it isn  t   '"
      ]
     },
     "execution_count": 3,
     "metadata": {},
     "output_type": "execute_result"
    }
   ],
   "source": [
    "reviews[0]"
   ]
  },
  {
   "cell_type": "code",
   "execution_count": 4,
   "metadata": {},
   "outputs": [
    {
     "data": {
      "text/plain": [
       "'POSITIVE'"
      ]
     },
     "execution_count": 4,
     "metadata": {},
     "output_type": "execute_result"
    }
   ],
   "source": [
    "labels[0]"
   ]
  },
  {
   "cell_type": "markdown",
   "metadata": {},
   "source": [
    "# 课程: 提出预测理论<a id='lesson_2'></a>"
   ]
  },
  {
   "cell_type": "code",
   "execution_count": 5,
   "metadata": {},
   "outputs": [
    {
     "name": "stdout",
     "output_type": "stream",
     "text": [
      "labels.txt \t : \t reviews.txt\n",
      "\n",
      "NEGATIVE\t:\tthis movie is terrible but it has some good effects .  ...\n",
      "POSITIVE\t:\tadrian pasdar is excellent is this film . he makes a fascinating woman .  ...\n",
      "NEGATIVE\t:\tcomment this movie is impossible . is terrible  very improbable  bad interpretat...\n",
      "POSITIVE\t:\texcellent episode movie ala pulp fiction .  days   suicides . it doesnt get more...\n",
      "NEGATIVE\t:\tif you haven  t seen this  it  s terrible . it is pure trash . i saw this about ...\n",
      "POSITIVE\t:\tthis schiffer guy is a real genius  the movie is of excellent quality and both e...\n"
     ]
    }
   ],
   "source": [
    "print(\"labels.txt \\t : \\t reviews.txt\\n\")\n",
    "pretty_print_review_and_label(2137)\n",
    "pretty_print_review_and_label(12816)\n",
    "pretty_print_review_and_label(6267)\n",
    "pretty_print_review_and_label(21934)\n",
    "pretty_print_review_and_label(5297)\n",
    "pretty_print_review_and_label(4998)"
   ]
  },
  {
   "cell_type": "markdown",
   "metadata": {},
   "source": [
    "# 项目 1: 快速验证理论<a id='project_1'></a>\n",
    "\n",
    "实现这些项目的方法有很多，但为了让你的代码接近 Andrew 在解决方案里使用的代码，我们在这个 notebook 里给出了一些提示和代码的开头部分。\n",
    "\n",
    "请在本练习中善加利用 [计数器](https://docs.python.org/2/library/collections.html#collections.Counter) 类和 [numpy](https://docs.scipy.org/doc/numpy/reference/) 库。"
   ]
  },
  {
   "cell_type": "code",
   "execution_count": 2,
   "metadata": {},
   "outputs": [],
   "source": [
    "from collections import Counter\n",
    "import numpy as np"
   ]
  },
  {
   "cell_type": "markdown",
   "metadata": {},
   "source": [
    "我们要创建三个 `计数器` 对象，其中一个为正面评价的单词计数，一个为负面评价的单词计数，还有一个为所有单词计数。"
   ]
  },
  {
   "cell_type": "code",
   "execution_count": 3,
   "metadata": {},
   "outputs": [],
   "source": [
    "# Create three Counter objects to store positive, negative and total counts\n",
    "positive_counts = Counter()\n",
    "negative_counts = Counter()\n",
    "total_counts = Counter()"
   ]
  },
  {
   "cell_type": "markdown",
   "metadata": {},
   "source": [
    "**待办：** 遍历所有评价，每遇到一个出现在正面评价里的单词，就为该单词的正面评价计数器和总计数器增量；同理，每遇到一个出现在负面评价里的单词，就为该单词的负面评价计数器和总计数器增量。\n",
    "\n",
    "**注:** 在这些项目中，请用 `split(' ')` 来将一段文本（比如一段评价）分割成独立的单词，如果你用的是 `split()`，那结果会和视频以及解决方案里的有所出入。"
   ]
  },
  {
   "cell_type": "code",
   "execution_count": 4,
   "metadata": {},
   "outputs": [],
   "source": [
    "# TODO: Loop over all the words in all the reviews and increment the counts in the appropriate counter objects\n",
    "for i in range(len(labels)):\n",
    "    strList = reviews[i].split(' ')\n",
    "    if labels[i] == 'POSITIVE':\n",
    "        positive_counts.update(strList)\n",
    "    elif labels[i] == 'NEGATIVE':\n",
    "        negative_counts.update(strList)\n",
    "    total_counts.update(strList)   \n",
    "    "
   ]
  },
  {
   "cell_type": "markdown",
   "metadata": {},
   "source": [
    "运行下方两个代码框，分别列出出现在正面评价和负面评价中的单词，并按出现频率由高到低排序。"
   ]
  },
  {
   "cell_type": "code",
   "execution_count": 7,
   "metadata": {},
   "outputs": [],
   "source": [
    "# Examine the counts of the most common words in positive reviews\n",
    "positive_counts.most_common()"
   ]
  },
  {
   "cell_type": "code",
   "execution_count": 8,
   "metadata": {},
   "outputs": [],
   "source": [
    "# Examine the counts of the most common words in negative reviews\n",
    "negative_counts.most_common()"
   ]
  },
  {
   "cell_type": "markdown",
   "metadata": {},
   "source": [
    "你可以发现，如 “the” 等常见单词在正面评价和负面评价中出现的频率都很高，因此，你要找的其实不是正面评价或负面评价中最常见的单词，而是在正面评价里的出现频率比在负面评价里的高的单词，以及在负面评价里的出现频率比在正面评价里的高的单词，为此，你需要计算单词在正面评价与负面评价中出现的次数的 **比值**。  \n",
    "\n",
    "**待办：** 查看所有你见过的单词，计算各单词在正面评价和负面评价中出现的次数的比值，并将这些比值存入 `pos_neg_ratios`。\n",
    ">提示：计算给定单词的正面评价/负面评价比，可使用 `positive_counts[word] / float(negative_counts[word]+1)`。注意，分母要 `+1`——这样如果遇到只在正面评价中出现的单词，分母不会变为 0。"
   ]
  },
  {
   "cell_type": "code",
   "execution_count": 5,
   "metadata": {},
   "outputs": [],
   "source": [
    "# Create Counter object to store positive/negative ratios\n",
    "pos_neg_ratios = Counter()\n",
    "\n",
    "# TODO: Calculate the ratios of positive and negative uses of the most common words\n",
    "#       Consider words to be \"common\" if they've been used at least 100 times \n",
    "# for element in positive_counts.most_common():\n",
    "#     pos_neg_ratios[element[0]] = positive_counts[element[0]] / float(negative_counts[element[0]]+1)\n",
    "    \n",
    "for term,cnt in list(total_counts.most_common()):\n",
    "    if(cnt > 100):\n",
    "        pos_neg_ratio = positive_counts[term] / float(negative_counts[term]+1)\n",
    "        pos_neg_ratios[term] = pos_neg_ratio"
   ]
  },
  {
   "cell_type": "markdown",
   "metadata": {},
   "source": [
    "查看若干单词的比值计算结果："
   ]
  },
  {
   "cell_type": "code",
   "execution_count": 6,
   "metadata": {},
   "outputs": [
    {
     "name": "stdout",
     "output_type": "stream",
     "text": [
      "Pos-to-neg ratio for 'the' = 1.0607993145235326\n",
      "Pos-to-neg ratio for 'amazing' = 4.022813688212928\n",
      "Pos-to-neg ratio for 'terrible' = 0.17744252873563218\n"
     ]
    }
   ],
   "source": [
    "print(\"Pos-to-neg ratio for 'the' = {}\".format(pos_neg_ratios[\"the\"]))\n",
    "print(\"Pos-to-neg ratio for 'amazing' = {}\".format(pos_neg_ratios[\"amazing\"]))\n",
    "print(\"Pos-to-neg ratio for 'terrible' = {}\".format(pos_neg_ratios[\"terrible\"]))"
   ]
  },
  {
   "cell_type": "markdown",
   "metadata": {},
   "source": [
    "仔细观察刚才算出的比值，我们可以发现：\n",
    "\n",
    "* 那些你觉得在正面评价里会更常见的单词——如 \"amazing\" ——比值大于 1。单词在正面评价中出现得越频繁，其正面评价/负面评价比就越大于 1。\n",
    "* 那些你觉得在负面评价里会更常见的单词——如 \"terrible\" ——比值小于 1。单词在负面评价里出现得越频繁，其正面评价/负面评价比就越接近 0。\n",
    "* 中性词不含任何感情色彩，毕竟它们在各类评论中都有出现——如 \"the\" —— 比值非常接近 1。 一个完全中性的词，也即在正面评价和负面评价中出现次数完全相同的词，比值会无限接近于 1。虽然因为上文的建议，分母进行了 `+1` 处理，使得单词稍稍偏向负面，但因为这个偏置很小，而我们稍后会忽略太接近于中性的词，所以影响不大。\n",
    "\n",
    "好了，虽然比值能告诉我们哪个单词在正面评价/负面评价中出现得更频繁，但要处理我们算出的这些具体数值还是有点麻烦。褒义色彩十分浓厚的词，如 \"amazing\"，其比值大于4，而贬义色彩十分浓厚的词，如 \"terrible\"，其比值则在 0.18 左右，要比较这些数值并不容易，原因如下：\n",
    "\n",
    "* 现在我们视 1 为中性，但因为褒义色彩十分浓厚的词的正面评价/负面评价比的绝对值比贬义色彩十分浓厚的词的比的绝对值大，所以我们无法直接比较这两者，也就无从确定这两个单词所包含的褒义/贬义程度是否相同，因此，我们应以中性值为所有数值的中心，这样一来，就可以用单词的正面评价/负面评价比与中性值之差的绝对值来衡量单词蕴含了多少感情色彩（褒义/贬义）了。\n",
    "* 在比较绝对值时，以 0 为中心要比以 1 为中心容易。\n",
    "\n",
    "要解决上述问题，我们要对所有比值进行对数变换，从而得出新值。\n",
    "\n",
    "**待办：** 遍历你计算出来的所有比值，将其转化为对数。(也就是说，使用 `np.log(ratio)`)\n",
    "\n",
    "到最后，褒义色彩极为浓厚的单词的正面评价/负面评价比会与贬义色彩极为浓厚的单词的比的大小相似，但符号相反。"
   ]
  },
  {
   "cell_type": "code",
   "execution_count": 7,
   "metadata": {},
   "outputs": [],
   "source": [
    "# TODO: Convert ratios to logs、\n",
    "#CHIANG\n",
    "# for element in positive_counts.most_common():\n",
    "#     pos_neg_ratios[element[0]] = np.log(pos_neg_ratios[element[0]])\n",
    "\n",
    "# for word,ratio in pos_neg_ratios.most_common():\n",
    "#     if ratio > 1:\n",
    "#         pos_neg_ratios[word] = np.log(ratio)\n",
    "#     else:\n",
    "#          pos_neg_ratios[word] = -np.log((1/(ratio + 0.01)))\n",
    "\n",
    "for word,ratio in pos_neg_ratios.most_common():\n",
    "    pos_neg_ratios[word] = np.log(ratio)"
   ]
  },
  {
   "cell_type": "markdown",
   "metadata": {},
   "source": [
    "查看之前那些单词的新比值计算结果："
   ]
  },
  {
   "cell_type": "code",
   "execution_count": 8,
   "metadata": {},
   "outputs": [
    {
     "name": "stdout",
     "output_type": "stream",
     "text": [
      "Pos-to-neg ratio for 'the' = 0.05902269426102881\n",
      "Pos-to-neg ratio for 'amazing' = 1.3919815802404802\n",
      "Pos-to-neg ratio for 'terrible' = -1.7291085042663878\n"
     ]
    }
   ],
   "source": [
    "print(\"Pos-to-neg ratio for 'the' = {}\".format(pos_neg_ratios[\"the\"]))\n",
    "print(\"Pos-to-neg ratio for 'amazing' = {}\".format(pos_neg_ratios[\"amazing\"]))\n",
    "print(\"Pos-to-neg ratio for 'terrible' = {}\".format(pos_neg_ratios[\"terrible\"]))"
   ]
  },
  {
   "cell_type": "markdown",
   "metadata": {},
   "source": [
    "如果一切顺利，现在中性词的比值应该接近于 0。此时，\"the\" 接近 0 但仍是个十分小的正数，所以这个单词可能在正面评价中出现的次数比在负面评价中的多，但我们来看 \"amazing\"，其比值大于 `1`，意味着这是个明确的褒义词，而 \"terrible\" 的比值与其相似，但符号不同，也就是小于 `-1`，由此我们可以清楚地得知这两个单词具有特定浓度且相反的感情色彩。\n",
    "\n",
    "现在，运行下方代码框，观察更多比值。\n",
    "\n",
    "第一个代码框会列出所有单词，并按单词与正面评价的相关性排序。（你的 notebook 很可能会对输出进行删减，所以你不会真的看到列表里的*所有*单词。）\n",
    "\n",
    "第二个代码框会列出 30 个与负面评价关系最紧密的单词——首先代码会反转第一张列表的顺序，然后查找前 30 个单词。（如果想让第二个代码框列出所有单词并按单词与负面评价的相关性排序，你可以写 `reversed(pos_neg_ratios.most_common())`。）\n",
    "\n",
    "你接下来看到的数值会和我们之前看到的类似——中性词的比值接近 `0`；单词在正面评价里出现得越频繁，其比值就越接近甚至大于 `1`；单词在负面评价里出现得越频繁，其比值就越接近甚至小于 `-1`。这就是我们用对数而非原始比值的原因所在。"
   ]
  },
  {
   "cell_type": "code",
   "execution_count": 13,
   "metadata": {},
   "outputs": [
    {
     "data": {
      "text/plain": [
       "[('edie', 4.6913478822291435),\n",
       " ('paulie', 4.0775374439057197),\n",
       " ('felix', 3.1527360223636558),\n",
       " ('polanski', 2.8233610476132043),\n",
       " ('matthau', 2.8067217286092401),\n",
       " ('victoria', 2.6810215287142909),\n",
       " ('mildred', 2.6026896854443837),\n",
       " ('gandhi', 2.5389738710582761),\n",
       " ('flawless', 2.451005098112319),\n",
       " ('superbly', 2.2600254785752498),\n",
       " ('perfection', 2.1594842493533721),\n",
       " ('astaire', 2.1400661634962708),\n",
       " ('captures', 2.0386195471595809),\n",
       " ('voight', 2.0301704926730531),\n",
       " ('wonderfully', 2.0218960560332353),\n",
       " ('powell', 1.9783454248084671),\n",
       " ('brosnan', 1.9547990964725592),\n",
       " ('lily', 1.9203768470501485),\n",
       " ('bakshi', 1.9029851043382795),\n",
       " ('lincoln', 1.9014583864844796),\n",
       " ('refreshing', 1.8551812956655511),\n",
       " ('breathtaking', 1.8481124057791867),\n",
       " ('bourne', 1.8478489358790986),\n",
       " ('lemmon', 1.8458266904983307),\n",
       " ('delightful', 1.8002701588959635),\n",
       " ('flynn', 1.7996646487351682),\n",
       " ('andrews', 1.7764919970972666),\n",
       " ('homer', 1.7692866133759964),\n",
       " ('beautifully', 1.7626953362841438),\n",
       " ('soccer', 1.7578579175523736),\n",
       " ('elvira', 1.7397031072720019),\n",
       " ('underrated', 1.7197859696029656),\n",
       " ('gripping', 1.7165360479904674),\n",
       " ('superb', 1.7091514458966952),\n",
       " ('delight', 1.6714733033535532),\n",
       " ('welles', 1.6677068205580761),\n",
       " ('sadness', 1.663505133704376),\n",
       " ('sinatra', 1.6389967146756448),\n",
       " ('touching', 1.637217476541176),\n",
       " ('timeless', 1.62924053973028),\n",
       " ('macy', 1.6211339521972916),\n",
       " ('unforgettable', 1.6177367152487956),\n",
       " ('favorites', 1.6158688027643908),\n",
       " ('stewart', 1.6119987332957739),\n",
       " ('sullivan', 1.6094379124341003),\n",
       " ('extraordinary', 1.6094379124341003),\n",
       " ('hartley', 1.6094379124341003),\n",
       " ('brilliantly', 1.5950491749820008),\n",
       " ('friendship', 1.5677652160335325),\n",
       " ('wonderful', 1.5645425925262093),\n",
       " ('palma', 1.5553706911638245),\n",
       " ('magnificent', 1.54663701119507),\n",
       " ('finest', 1.5462590108125689),\n",
       " ('jackie', 1.5439233053234738),\n",
       " ('ritter', 1.5404450409471491),\n",
       " ('tremendous', 1.5184661342283736),\n",
       " ('freedom', 1.5091151908062312),\n",
       " ('fantastic', 1.5048433868558566),\n",
       " ('terrific', 1.5026699370083942),\n",
       " ('noir', 1.493925025312256),\n",
       " ('sidney', 1.493925025312256),\n",
       " ('outstanding', 1.4910053152089213),\n",
       " ('pleasantly', 1.4894785973551214),\n",
       " ('mann', 1.4894785973551214),\n",
       " ('nancy', 1.488077055429833),\n",
       " ('marie', 1.4825711915553104),\n",
       " ('marvelous', 1.4739999415389962),\n",
       " ('excellent', 1.4647538505723599),\n",
       " ('ruth', 1.4596256342054401),\n",
       " ('stanwyck', 1.4412101187160054),\n",
       " ('widmark', 1.4350845252893227),\n",
       " ('splendid', 1.4271163556401458),\n",
       " ('chan', 1.423108334242607),\n",
       " ('exceptional', 1.4201959127955721),\n",
       " ('tender', 1.410986973710262),\n",
       " ('gentle', 1.4078005663408544),\n",
       " ('poignant', 1.4022947024663317),\n",
       " ('gem', 1.3932148039644643),\n",
       " ('amazing', 1.3919815802404802),\n",
       " ('chilling', 1.3862943611198906),\n",
       " ('fisher', 1.3862943611198906),\n",
       " ('davies', 1.3862943611198906),\n",
       " ('captivating', 1.3862943611198906),\n",
       " ('darker', 1.3652409519220583),\n",
       " ('april', 1.3499267169490159),\n",
       " ('kelly', 1.3461743673304654),\n",
       " ('blake', 1.3418425985490567),\n",
       " ('overlooked', 1.329135947279942),\n",
       " ('ralph', 1.32818673031261),\n",
       " ('bette', 1.3156767939059373),\n",
       " ('hoffman', 1.3150668518315229),\n",
       " ('cole', 1.3121863889661687),\n",
       " ('shines', 1.3049487216659381),\n",
       " ('powerful', 1.2999662776313934),\n",
       " ('notch', 1.2950456896547455),\n",
       " ('remarkable', 1.2883688239495823),\n",
       " ('pitt', 1.286210902562908),\n",
       " ('winters', 1.2833463918674481),\n",
       " ('vivid', 1.2762934659055623),\n",
       " ('gritty', 1.2757524867200667),\n",
       " ('giallo', 1.2745029551317739),\n",
       " ('portrait', 1.2704625455947689),\n",
       " ('innocence', 1.2694300209805796),\n",
       " ('psychiatrist', 1.2685113254635072),\n",
       " ('favorite', 1.2668956297860055),\n",
       " ('ensemble', 1.2656663733312759),\n",
       " ('stunning', 1.2622417124499117),\n",
       " ('burns', 1.259880436264232),\n",
       " ('garbo', 1.258954938743289),\n",
       " ('barbara', 1.2580400255962119),\n",
       " ('philip', 1.2527629684953681),\n",
       " ('panic', 1.2527629684953681),\n",
       " ('holly', 1.2527629684953681),\n",
       " ('carol', 1.2481440226390734),\n",
       " ('perfect', 1.246742480713785),\n",
       " ('appreciated', 1.2462482874741743),\n",
       " ('favourite', 1.2411123512753928),\n",
       " ('journey', 1.2367626271489269),\n",
       " ('rural', 1.235471471385307),\n",
       " ('bond', 1.2321436812926323),\n",
       " ('builds', 1.2305398317106577),\n",
       " ('brilliant', 1.2287554137664785),\n",
       " ('brooklyn', 1.2286654169163074),\n",
       " ('von', 1.225175011976539),\n",
       " ('recommended', 1.2163953243244932),\n",
       " ('unfolds', 1.2163953243244932),\n",
       " ('daniel', 1.20215296760895),\n",
       " ('perfectly', 1.1971931173405572),\n",
       " ('crafted', 1.1962507582320256),\n",
       " ('prince', 1.1939224684724346),\n",
       " ('troubled', 1.192138346678933),\n",
       " ('consequences', 1.1865810616140668),\n",
       " ('haunting', 1.1814999484738773),\n",
       " ('cinderella', 1.180052620608284),\n",
       " ('alexander', 1.1759989522835299),\n",
       " ('emotions', 1.1753049094563641),\n",
       " ('boxing', 1.1735135968412274),\n",
       " ('subtle', 1.1734135017508081),\n",
       " ('curtis', 1.1649873576129823),\n",
       " ('rare', 1.1566438362402944),\n",
       " ('loved', 1.1563661500586044),\n",
       " ('daughters', 1.1526795099383853),\n",
       " ('courage', 1.1438688802562305),\n",
       " ('dentist', 1.1426722784621401),\n",
       " ('highly', 1.1420208631618658),\n",
       " ('nominated', 1.1409146683587992),\n",
       " ('tony', 1.1397491942285991),\n",
       " ('draws', 1.1325138403437911),\n",
       " ('everyday', 1.1306150197542835),\n",
       " ('contrast', 1.1284652518177909),\n",
       " ('cried', 1.1213405397456659),\n",
       " ('fabulous', 1.1210851445201684),\n",
       " ('ned', 1.120591195386885),\n",
       " ('fay', 1.120591195386885),\n",
       " ('emma', 1.1184149159642893),\n",
       " ('sensitive', 1.113318436057805),\n",
       " ('smooth', 1.1089750757036563),\n",
       " ('dramas', 1.1080910326226534),\n",
       " ('today', 1.1050431789984001),\n",
       " ('helps', 1.1023091505494358),\n",
       " ('inspiring', 1.0986122886681098),\n",
       " ('jimmy', 1.0937696641923216),\n",
       " ('awesome', 1.0931328229034842),\n",
       " ('unique', 1.0881409888008142),\n",
       " ('tragic', 1.0871835928444868),\n",
       " ('intense', 1.0870514662670339),\n",
       " ('stellar', 1.0857088838322018),\n",
       " ('rival', 1.0822184788924332),\n",
       " ('provides', 1.0797081340289569),\n",
       " ('depression', 1.0782034170369026),\n",
       " ('shy', 1.0775588794702773),\n",
       " ('carrie', 1.076139432816051),\n",
       " ('blend', 1.0753554265038423),\n",
       " ('hank', 1.0736109864626924),\n",
       " ('diana', 1.0726368022648489),\n",
       " ('adorable', 1.0726368022648489),\n",
       " ('unexpected', 1.0722255334949147),\n",
       " ('achievement', 1.0668635903535293),\n",
       " ('bettie', 1.0663514264498881),\n",
       " ('happiness', 1.0632729222228008),\n",
       " ('glorious', 1.0608719606852626),\n",
       " ('davis', 1.0541605260972757),\n",
       " ('terrifying', 1.0525211814678428),\n",
       " ('beauty', 1.050410186850232),\n",
       " ('ideal', 1.0479685558493548),\n",
       " ('fears', 1.0467872208035236),\n",
       " ('hong', 1.0438040521731147),\n",
       " ('seasons', 1.0433496099930604),\n",
       " ('fascinating', 1.0414538748281612),\n",
       " ('carries', 1.0345904299031787),\n",
       " ('satisfying', 1.0321225473992768),\n",
       " ('definite', 1.0319209141694374),\n",
       " ('touched', 1.0296194171811581),\n",
       " ('greatest', 1.0248947127715422),\n",
       " ('creates', 1.0241097613701886),\n",
       " ('aunt', 1.023388867430522),\n",
       " ('walter', 1.022328983918479),\n",
       " ('spectacular', 1.0198314108149955),\n",
       " ('portrayal', 1.0189810189761024),\n",
       " ('ann', 1.0127808528183286),\n",
       " ('enterprise', 1.0116009116784799),\n",
       " ('musicals', 1.0096648026516135),\n",
       " ('deeply', 1.0094845087721023),\n",
       " ('incredible', 1.0061677561461084),\n",
       " ('mature', 1.0060195018402847),\n",
       " ('triumph', 0.99682959435816731),\n",
       " ('margaret', 0.99682959435816731),\n",
       " ('navy', 0.99493385919326827),\n",
       " ('harry', 0.99176919305006062),\n",
       " ('lucas', 0.990398704027877),\n",
       " ('sweet', 0.98966110487955483),\n",
       " ('joey', 0.98794672078059009),\n",
       " ('oscar', 0.98721905111049713),\n",
       " ('balance', 0.98649499054740353),\n",
       " ('warm', 0.98485340331145166),\n",
       " ('ages', 0.98449898190068863),\n",
       " ('guilt', 0.98082925301172619),\n",
       " ('glover', 0.98082925301172619),\n",
       " ('carrey', 0.98082925301172619),\n",
       " ('learns', 0.97881108885548895),\n",
       " ('unusual', 0.97788374278196932),\n",
       " ('sons', 0.97777581552483595),\n",
       " ('complex', 0.97761897738147796),\n",
       " ('essence', 0.97753435711487369),\n",
       " ('brazil', 0.9769153536905899),\n",
       " ('widow', 0.97650959186720987),\n",
       " ('solid', 0.97537964824416146),\n",
       " ('beautiful', 0.97326301262841053),\n",
       " ('holmes', 0.97246100334120955),\n",
       " ('awe', 0.97186058302896583),\n",
       " ('vhs', 0.97116734209998934),\n",
       " ('eerie', 0.97116734209998934),\n",
       " ('lonely', 0.96873720724669754),\n",
       " ('grim', 0.96873720724669754),\n",
       " ('sport', 0.96825047080486615),\n",
       " ('debut', 0.96508089604358704),\n",
       " ('destiny', 0.96343751029985703),\n",
       " ('thrillers', 0.96281074750904794),\n",
       " ('tears', 0.95977584381389391),\n",
       " ('rose', 0.95664202739772253),\n",
       " ('feelings', 0.95551144502743635),\n",
       " ('ginger', 0.95551144502743635),\n",
       " ('winning', 0.95471810900804055),\n",
       " ('stanley', 0.95387344302319799),\n",
       " ('cox', 0.95343027882361187),\n",
       " ('paris', 0.95278479030472663),\n",
       " ('heart', 0.95238806924516806),\n",
       " ('hooked', 0.95155887071161305),\n",
       " ('comfortable', 0.94803943018873538),\n",
       " ('mgm', 0.94446160884085151),\n",
       " ('masterpiece', 0.94155039863339296),\n",
       " ('themes', 0.94118828349588235),\n",
       " ('danny', 0.93967118051821874),\n",
       " ('anime', 0.93378388932167222),\n",
       " ('perry', 0.93328830824272613),\n",
       " ('joy', 0.93301752567946861),\n",
       " ('lovable', 0.93081883243706487),\n",
       " ('mysteries', 0.92953595862417571),\n",
       " ('hal', 0.92953595862417571),\n",
       " ('louis', 0.92871325187271225),\n",
       " ('charming', 0.92520609553210742),\n",
       " ('urban', 0.92367083917177761),\n",
       " ('allows', 0.92183091224977043),\n",
       " ('impact', 0.91815814604895041),\n",
       " ('italy', 0.91629073187415511),\n",
       " ('gradually', 0.91629073187415511),\n",
       " ('lifestyle', 0.91629073187415511),\n",
       " ('spy', 0.91289514287301687),\n",
       " ('treat', 0.91193342650519937),\n",
       " ('subsequent', 0.91056005716517008),\n",
       " ('kennedy', 0.90981821736853763),\n",
       " ('loving', 0.90967549275543591),\n",
       " ('surprising', 0.90937028902958128),\n",
       " ('quiet', 0.90648673177753425),\n",
       " ('winter', 0.90624039602065365),\n",
       " ('reveals', 0.90490540964902977),\n",
       " ('raw', 0.90445627422715225),\n",
       " ('funniest', 0.90078654533818991),\n",
       " ('pleased', 0.89994159387262562),\n",
       " ('norman', 0.89994159387262562),\n",
       " ('thief', 0.89874642222324552),\n",
       " ('season', 0.89827222637147675),\n",
       " ('secrets', 0.89794159320595857),\n",
       " ('colorful', 0.89705936994626756),\n",
       " ('highest', 0.8967461358011849),\n",
       " ('compelling', 0.89462923509297576),\n",
       " ('danes', 0.89248008318043659),\n",
       " ('castle', 0.88967708335606499),\n",
       " ('kudos', 0.88889175768604067),\n",
       " ('great', 0.88810470901464589),\n",
       " ('baseball', 0.88730319500090271),\n",
       " ('subtitles', 0.88730319500090271),\n",
       " ('bleak', 0.88730319500090271),\n",
       " ('winner', 0.88643776872447388),\n",
       " ('tragedy', 0.88563699078315261),\n",
       " ('todd', 0.88551907320740142),\n",
       " ('nicely', 0.87924946019380601),\n",
       " ('arthur', 0.87546873735389985),\n",
       " ('essential', 0.87373111745535925),\n",
       " ('gorgeous', 0.8731725250935497),\n",
       " ('fonda', 0.87294029100054127),\n",
       " ('eastwood', 0.87139541196626402),\n",
       " ('focuses', 0.87082835779739776),\n",
       " ('enjoyed', 0.87070195951624607),\n",
       " ('natural', 0.86997924506912838),\n",
       " ('intensity', 0.86835126958503595),\n",
       " ('witty', 0.86824103423244681),\n",
       " ('rob', 0.8642954367557748),\n",
       " ('worlds', 0.86377269759070874),\n",
       " ('health', 0.86113891179907498),\n",
       " ('magical', 0.85953791528170564),\n",
       " ('deeper', 0.85802182375017932),\n",
       " ('lucy', 0.85618680780444956),\n",
       " ('moving', 0.85566611005772031),\n",
       " ('lovely', 0.85290640004681306),\n",
       " ('purple', 0.8513711857748395),\n",
       " ('memorable', 0.84801189112086062),\n",
       " ('sings', 0.84729786038720367),\n",
       " ('craig', 0.84342938360928321),\n",
       " ('modesty', 0.84342938360928321),\n",
       " ('relate', 0.84326559685926517),\n",
       " ('episodes', 0.84223712084137292),\n",
       " ('strong', 0.84167135777060931),\n",
       " ('smith', 0.83959811108590054),\n",
       " ('tear', 0.83704136022001441),\n",
       " ('apartment', 0.83333115290549531),\n",
       " ('princess', 0.83290912293510388),\n",
       " ('disagree', 0.83290912293510388),\n",
       " ('kung', 0.83173334384609199),\n",
       " ('adventure', 0.83150561393278388),\n",
       " ('columbo', 0.82667857318446791),\n",
       " ('jake', 0.82667857318446791),\n",
       " ('adds', 0.82485652591452319),\n",
       " ('hart', 0.82472353834866463),\n",
       " ('strength', 0.82417544296634937),\n",
       " ('realizes', 0.82360006895738058),\n",
       " ('dave', 0.8232003088081431),\n",
       " ('childhood', 0.82208086393583857),\n",
       " ('forbidden', 0.81989888619908913),\n",
       " ('tight', 0.81883539572344199),\n",
       " ('surreal', 0.8178506590609026),\n",
       " ('manager', 0.81770990320170756),\n",
       " ('dancer', 0.81574950265227764),\n",
       " ('studios', 0.81093021621632877),\n",
       " ('con', 0.81093021621632877),\n",
       " ('miike', 0.80821651034473263),\n",
       " ('realistic', 0.80807714723392232),\n",
       " ('explicit', 0.80792269515237358),\n",
       " ('kurt', 0.8060875917405409),\n",
       " ('traditional', 0.80535917116687328),\n",
       " ('deals', 0.80535917116687328),\n",
       " ('holds', 0.80493858654806194),\n",
       " ('carl', 0.80437281567016972),\n",
       " ('touches', 0.80396154690023547),\n",
       " ('gene', 0.80314807577427383),\n",
       " ('albert', 0.8027669055771679),\n",
       " ('abc', 0.80234647252493729),\n",
       " ('cry', 0.80011930011211307),\n",
       " ('sides', 0.7995275841185171),\n",
       " ('develops', 0.79850769621777162),\n",
       " ('eyre', 0.79850769621777162),\n",
       " ('dances', 0.79694397424158891),\n",
       " ('oscars', 0.79633141679517616),\n",
       " ('legendary', 0.79600456599965308),\n",
       " ('hearted', 0.79492987486988764),\n",
       " ('importance', 0.79492987486988764),\n",
       " ('portraying', 0.79356592830699269),\n",
       " ('impressed', 0.79258107754813223),\n",
       " ('waters', 0.79112758892014912),\n",
       " ('empire', 0.79078565012386137),\n",
       " ('edge', 0.789774016249017),\n",
       " ('jean', 0.78845736036427028),\n",
       " ('environment', 0.78845736036427028),\n",
       " ('sentimental', 0.7864791203521645),\n",
       " ('captured', 0.78623760362595729),\n",
       " ('styles', 0.78592891401091158),\n",
       " ('daring', 0.78592891401091158),\n",
       " ('frank', 0.78275933924963248),\n",
       " ('tense', 0.78275933924963248),\n",
       " ('backgrounds', 0.78275933924963248),\n",
       " ('matches', 0.78275933924963248),\n",
       " ('gothic', 0.78209466657644144),\n",
       " ('sharp', 0.7814397877056235),\n",
       " ('achieved', 0.78015855754957497),\n",
       " ('court', 0.77947526404844247),\n",
       " ('steals', 0.7789140023173704),\n",
       " ('rules', 0.77844476107184035),\n",
       " ('colors', 0.77684619943659217),\n",
       " ('reunion', 0.77318988823348167),\n",
       " ('covers', 0.77139937745969345),\n",
       " ('tale', 0.77010822169607374),\n",
       " ('rain', 0.7683706017975328),\n",
       " ('denzel', 0.76804848873306297),\n",
       " ('stays', 0.76787072675588186),\n",
       " ('blob', 0.76725515271366718),\n",
       " ('maria', 0.76214005204689672),\n",
       " ('conventional', 0.76214005204689672),\n",
       " ('fresh', 0.76158434211317383),\n",
       " ('midnight', 0.76096977689870637),\n",
       " ('landscape', 0.75852993982279704),\n",
       " ('animated', 0.75768570169751648),\n",
       " ('titanic', 0.75666058628227129),\n",
       " ('sunday', 0.75666058628227129),\n",
       " ('spring', 0.7537718023763802),\n",
       " ('cagney', 0.7537718023763802),\n",
       " ('enjoyable', 0.75246375771636476),\n",
       " ('immensely', 0.75198768058287868),\n",
       " ('sir', 0.7507762933965817),\n",
       " ('nevertheless', 0.75067102469813185),\n",
       " ('driven', 0.74994477895307854),\n",
       " ('performances', 0.74883252516063137),\n",
       " ('memories', 0.74721440183022114),\n",
       " ('nowadays', 0.74721440183022114),\n",
       " ('simple', 0.74641420974143258),\n",
       " ('golden', 0.74533293373051557),\n",
       " ('leslie', 0.74533293373051557),\n",
       " ('lovers', 0.74497224842453125),\n",
       " ('relationship', 0.74484232345601786),\n",
       " ('supporting', 0.74357803418683721),\n",
       " ('che', 0.74262723782331497),\n",
       " ('packed', 0.7410032017375805),\n",
       " ('trek', 0.74021469141793106),\n",
       " ('provoking', 0.73840377214806618),\n",
       " ('strikes', 0.73759894313077912),\n",
       " ('depiction', 0.73682224406260699),\n",
       " ('emotional', 0.73678211645681524),\n",
       " ('secretary', 0.7366322924996842),\n",
       " ('influenced', 0.73511137965897755),\n",
       " ('florida', 0.73511137965897755),\n",
       " ('germany', 0.73288750920945944),\n",
       " ('brings', 0.73142936713096229),\n",
       " ('lewis', 0.73129894652432159),\n",
       " ('elderly', 0.73088750854279239),\n",
       " ('owner', 0.72743625403857748),\n",
       " ('streets', 0.72666987259858895),\n",
       " ('henry', 0.72642196944481741),\n",
       " ('portrays', 0.72593700338293632),\n",
       " ('bears', 0.7252354951114458),\n",
       " ('china', 0.72489587887452556),\n",
       " ('anger', 0.72439972406404984),\n",
       " ('society', 0.72433010799663333),\n",
       " ('available', 0.72415741730250549),\n",
       " ('best', 0.72347034060446314),\n",
       " ('bugs', 0.72270598280148979),\n",
       " ('magic', 0.71878961117328299),\n",
       " ('delivers', 0.71846498854423513),\n",
       " ('verhoeven', 0.71846498854423513),\n",
       " ('jim', 0.71783979315031676),\n",
       " ('donald', 0.71667767797013937),\n",
       " ('endearing', 0.71465338578090898),\n",
       " ('relationships', 0.71393795022901896),\n",
       " ('greatly', 0.71256526641704687),\n",
       " ('charlie', 0.71024161391924534),\n",
       " ('brad', 0.71024161391924534),\n",
       " ('simon', 0.70967648251115578),\n",
       " ('effectively', 0.70914752190638641),\n",
       " ('march', 0.70774597998109789),\n",
       " ('atmosphere', 0.70744773070214162),\n",
       " ('influence', 0.70733181555190172),\n",
       " ('genius', 0.706392407309966),\n",
       " ('emotionally', 0.70556970055850243),\n",
       " ('ken', 0.70526854109229009),\n",
       " ('identity', 0.70484322032313651),\n",
       " ('sophisticated', 0.70470800296102132),\n",
       " ('dan', 0.70457587638356811),\n",
       " ('andrew', 0.70329955202396321),\n",
       " ('india', 0.70144598337464037),\n",
       " ('roy', 0.69970458110610434),\n",
       " ('surprisingly', 0.6995780708902356),\n",
       " ('sky', 0.69780919366575667),\n",
       " ('romantic', 0.69664981111114743),\n",
       " ('match', 0.69566924999265523),\n",
       " ('meets', 0.69314718055994529),\n",
       " ('cowboy', 0.69314718055994529),\n",
       " ('wave', 0.69314718055994529),\n",
       " ('bitter', 0.69314718055994529),\n",
       " ('patient', 0.69314718055994529),\n",
       " ('stylish', 0.69314718055994529),\n",
       " ('britain', 0.69314718055994529),\n",
       " ('affected', 0.69314718055994529),\n",
       " ('beatty', 0.69314718055994529),\n",
       " ('love', 0.69198533541937324),\n",
       " ('paul', 0.68980827929443067),\n",
       " ('andy', 0.68846333124751902),\n",
       " ('performance', 0.68797386327972465),\n",
       " ('patrick', 0.68645819240914863),\n",
       " ('unlike', 0.68546468438792907),\n",
       " ('brooks', 0.68433655087779044),\n",
       " ('refuses', 0.68348526964820844),\n",
       " ('award', 0.6824518914431974),\n",
       " ('complaint', 0.6824518914431974),\n",
       " ('ride', 0.68229716453587952),\n",
       " ('dawson', 0.68171848473632257),\n",
       " ('luke', 0.68158635815886937),\n",
       " ('wells', 0.68087708796813096),\n",
       " ('france', 0.6804081547825156),\n",
       " ('sports', 0.68007509899259255),\n",
       " ('handsome', 0.68007509899259255),\n",
       " ('directs', 0.67875844310784572),\n",
       " ('rebel', 0.67875844310784572),\n",
       " ('greater', 0.67605274720064523),\n",
       " ('dreams', 0.67599410133369586),\n",
       " ('effective', 0.67565402311242806),\n",
       " ('interpretation', 0.67479804189174875),\n",
       " ('works', 0.67445504754779284),\n",
       " ('brando', 0.67445504754779284),\n",
       " ('noble', 0.6737290947028437),\n",
       " ('paced', 0.67314651385327573),\n",
       " ('le', 0.67067432470788668),\n",
       " ('master', 0.67015766233524654),\n",
       " ('h', 0.6696166831497512),\n",
       " ('rings', 0.66904962898088483),\n",
       " ('easy', 0.66895995494594152),\n",
       " ('city', 0.66820823221269321),\n",
       " ('sunshine', 0.66782937257565544),\n",
       " ('succeeds', 0.66647893347778397),\n",
       " ('relations', 0.664159643686693),\n",
       " ('england', 0.66387679825983203),\n",
       " ('glimpse', 0.66329421741026418),\n",
       " ('aired', 0.66268797307523675),\n",
       " ('sees', 0.66263163663399482),\n",
       " ('both', 0.66248336767382998),\n",
       " ('definitely', 0.66199789483898808),\n",
       " ('imaginative', 0.66139848224536502),\n",
       " ('appreciate', 0.66083893732728749),\n",
       " ('tricks', 0.66071190480679143),\n",
       " ('striking', 0.66071190480679143),\n",
       " ('carefully', 0.65999497324304479),\n",
       " ('complicated', 0.65981076029235353),\n",
       " ('perspective', 0.65962448852130173),\n",
       " ('trilogy', 0.65877953705573755),\n",
       " ('future', 0.65834665141052828),\n",
       " ('lion', 0.65742909795786608),\n",
       " ('douglas', 0.65540685257709819),\n",
       " ('victor', 0.65540685257709819),\n",
       " ('inspired', 0.65459851044271034),\n",
       " ('marriage', 0.65392646740666405),\n",
       " ('demands', 0.65392646740666405),\n",
       " ('father', 0.65172321672194655),\n",
       " ('page', 0.65123628494430852),\n",
       " ('instant', 0.65058756614114943),\n",
       " ('era', 0.6495567444850836),\n",
       " ('ruthless', 0.64934455790155243),\n",
       " ('saga', 0.64934455790155243),\n",
       " ('joan', 0.64891392558311978),\n",
       " ('joseph', 0.64841128671855386),\n",
       " ('workers', 0.64829661439459352),\n",
       " ('fantasy', 0.64726757480925168),\n",
       " ('distant', 0.64551913157069074),\n",
       " ('accomplished', 0.64551913157069074),\n",
       " ('manhattan', 0.64435701639051324),\n",
       " ('personal', 0.64355023942057321),\n",
       " ('meeting', 0.64313675998528386),\n",
       " ('individual', 0.64313675998528386),\n",
       " ('pushing', 0.64313675998528386),\n",
       " ('pleasant', 0.64250344774119039),\n",
       " ('brave', 0.64185388617239469),\n",
       " ('william', 0.64083139119578469),\n",
       " ('hudson', 0.64077919504262937),\n",
       " ('friendly', 0.63949446706762514),\n",
       " ('eccentric', 0.63907995928966954),\n",
       " ('awards', 0.63875310849414646),\n",
       " ('jack', 0.63838309514997038),\n",
       " ('seeking', 0.63808740337691783),\n",
       " ('divorce', 0.63757732940513456),\n",
       " ('colonel', 0.63757732940513456),\n",
       " ('jane', 0.63443957973316734),\n",
       " ('keeping', 0.63414883979798953),\n",
       " ('gives', 0.63383568159497883),\n",
       " ('ted', 0.63342794585832296),\n",
       " ('animation', 0.63208692379869902),\n",
       " ('progress', 0.6317782341836532),\n",
       " ('larger', 0.63127177684185776),\n",
       " ('concert', 0.63127177684185776),\n",
       " ('nation', 0.6296337748376194),\n",
       " ('albeit', 0.62739580299716491),\n",
       " ('adapted', 0.62613647027698516),\n",
       " ('discovers', 0.62542900650499444),\n",
       " ('classic', 0.62504956428050518),\n",
       " ('segment', 0.62335141862440335),\n",
       " ('morgan', 0.62303761437291871),\n",
       " ('mouse', 0.62294292188669675),\n",
       " ('impressive', 0.62211140744319349),\n",
       " ('artist', 0.62168821657780038),\n",
       " ('ultimate', 0.62168821657780038),\n",
       " ('griffith', 0.62117368093485603),\n",
       " ('drew', 0.62082651898031915),\n",
       " ('emily', 0.62082651898031915),\n",
       " ('moved', 0.6197197120051281),\n",
       " ('families', 0.61903920840622351),\n",
       " ('profound', 0.61903920840622351),\n",
       " ('innocent', 0.61851219917136446),\n",
       " ('versions', 0.61730910416844087),\n",
       " ('eddie', 0.61691981517206107),\n",
       " ('criticism', 0.61651395453902935),\n",
       " ('nature', 0.61594514653194088),\n",
       " ('recognized', 0.61518563909023349),\n",
       " ('sexuality', 0.61467556511845012),\n",
       " ('contract', 0.61400986000122149),\n",
       " ('brian', 0.61344043794920278),\n",
       " ('remembered', 0.6131044728864089),\n",
       " ('determined', 0.6123858239154869),\n",
       " ('offers', 0.61207935747116349),\n",
       " ('pleasure', 0.61195702582993206),\n",
       " ('washington', 0.61180154110599294),\n",
       " ('images', 0.61159731359583758),\n",
       " ('games', 0.61067095873570676),\n",
       " ('academy', 0.60872983874736208),\n",
       " ('fashioned', 0.60798937221963845),\n",
       " ('melodrama', 0.60749173598145145),\n",
       " ('rough', 0.60613580357031549),\n",
       " ('charismatic', 0.60613580357031549),\n",
       " ('peoples', 0.60613580357031549),\n",
       " ('dealing', 0.60517840761398811),\n",
       " ('fine', 0.60496962268013299),\n",
       " ('tap', 0.60391604683200273),\n",
       " ('trio', 0.60157998703445481),\n",
       " ('russell', 0.60120968523425966),\n",
       " ('figures', 0.60077386042893011),\n",
       " ('ward', 0.60005675749393339),\n",
       " ('shine', 0.59911823091166894),\n",
       " ('brady', 0.59911823091166894),\n",
       " ('job', 0.59845562125168661),\n",
       " ('satisfied', 0.59652034487087369),\n",
       " ('river', 0.59637962862495086),\n",
       " ('brown', 0.595773016534769),\n",
       " ('believable', 0.59566072133302495),\n",
       " ('always', 0.59470710774669278),\n",
       " ('bound', 0.59470710774669278),\n",
       " ('hall', 0.5933967777928858),\n",
       " ('cook', 0.5916777203950857),\n",
       " ('claire', 0.59136448625000293),\n",
       " ('broadway', 0.59033768669372433),\n",
       " ('anna', 0.58778666490211906),\n",
       " ('peace', 0.58628403501758408),\n",
       " ('visually', 0.58539431926349916),\n",
       " ('morality', 0.58525821854876026),\n",
       " ('falk', 0.58525821854876026),\n",
       " ('growing', 0.58466653756587539),\n",
       " ('experiences', 0.58314628534561685),\n",
       " ('stood', 0.58314628534561685),\n",
       " ('touch', 0.58122926435596001),\n",
       " ('lives', 0.5810976767513224),\n",
       " ('kubrick', 0.58066919713325493),\n",
       " ('timing', 0.58047401805583243),\n",
       " ('expressions', 0.57981849525294216),\n",
       " ('struggles', 0.57981849525294216),\n",
       " ('authentic', 0.57848427223980559),\n",
       " ('helen', 0.57763429343810091),\n",
       " ('pre', 0.57700753064729182),\n",
       " ('quirky', 0.5753641449035618),\n",
       " ('young', 0.57531672344534313),\n",
       " ('inner', 0.57454143815209846),\n",
       " ('mexico', 0.57443087372056334),\n",
       " ('clint', 0.57380042292737909),\n",
       " ('sisters', 0.57286101468544337),\n",
       " ('realism', 0.57226528899949558),\n",
       " ('french', 0.5720692490067093),\n",
       " ('personalities', 0.5720692490067093),\n",
       " ('surprises', 0.57113222999698177),\n",
       " ('adventures', 0.57113222999698177),\n",
       " ('overcome', 0.5697681593994407),\n",
       " ('timothy', 0.56953322459276867),\n",
       " ('tales', 0.56909453188996639),\n",
       " ('war', 0.56843317302781682),\n",
       " ('civil', 0.5679840376059393),\n",
       " ('countries', 0.56737779327091187),\n",
       " ('streep', 0.56710645966458029),\n",
       " ('tradition', 0.56685345523565323),\n",
       " ('oliver', 0.56673325570428668),\n",
       " ('australia', 0.56580775818334383),\n",
       " ('understanding', 0.56531380905006046),\n",
       " ('players', 0.56509525370004821),\n",
       " ('knowing', 0.56489284503626647),\n",
       " ('rogers', 0.56421349718405212),\n",
       " ('suspenseful', 0.56368911332305849),\n",
       " ('variety', 0.56368911332305849),\n",
       " ('true', 0.56281525180810066),\n",
       " ('jr', 0.56220982311246936),\n",
       " ('psychological', 0.56108745854687891),\n",
       " ('sent', 0.55961578793542266),\n",
       " ('grand', 0.55961578793542266),\n",
       " ('branagh', 0.55961578793542266),\n",
       " ('reminiscent', 0.55961578793542266),\n",
       " ('performing', 0.55961578793542266),\n",
       " ('wealth', 0.55961578793542266),\n",
       " ('overwhelming', 0.55961578793542266),\n",
       " ('odds', 0.55961578793542266),\n",
       " ('brothers', 0.55891181043362848),\n",
       " ('howard', 0.55811089675600245),\n",
       " ('david', 0.55693122256475369),\n",
       " ('generation', 0.55628799784274796),\n",
       " ('grow', 0.55612538299565417),\n",
       " ('survival', 0.55594605904646033),\n",
       " ('mainstream', 0.55574731115750231),\n",
       " ('dick', 0.55431073570572953),\n",
       " ('charm', 0.55288175575407861),\n",
       " ('kirk', 0.55278982286502287),\n",
       " ('twists', 0.55244729845681018),\n",
       " ('gangster', 0.55206858230003986),\n",
       " ('jeff', 0.55179306225421365),\n",
       " ('family', 0.55116244510065526),\n",
       " ('tend', 0.55053307336110335),\n",
       " ('thanks', 0.55049088015842218),\n",
       " ('world', 0.54744234723432639),\n",
       " ('sutherland', 0.54743536937855164),\n",
       " ('life', 0.54695514434959924),\n",
       " ('disc', 0.54654370636806993),\n",
       " ('bug', 0.54654370636806993),\n",
       " ('tribute', 0.5455111817538808),\n",
       " ('europe', 0.54522705048332309),\n",
       " ('sacrifice', 0.54430155296238014),\n",
       " ('color', 0.54405127139431109),\n",
       " ('superior', 0.54333490233128523),\n",
       " ('york', 0.54318235866536513),\n",
       " ('pulls', 0.54266622962164945),\n",
       " ('jackson', 0.54232429082536171),\n",
       " ('hearts', 0.54232429082536171),\n",
       " ('enjoy', 0.54124285135906114),\n",
       " ('redemption', 0.54056759296472823),\n",
       " ('madness', 0.540384426007535),\n",
       " ('stands', 0.5389965007326869),\n",
       " ('trial', 0.5389965007326869),\n",
       " ('greek', 0.5389965007326869),\n",
       " ('hamilton', 0.5389965007326869),\n",
       " ('each', 0.5388212312554177),\n",
       " ('faithful', 0.53773307668591508),\n",
       " ('received', 0.5372768098531604),\n",
       " ('documentaries', 0.53714293208336406),\n",
       " ('jealous', 0.53714293208336406),\n",
       " ('different', 0.53709860682460819),\n",
       " ('describes', 0.53680111016925136),\n",
       " ('shorts', 0.53596159703753288),\n",
       " ('brilliance', 0.53551823635636209),\n",
       " ('mountains', 0.53492317534505118),\n",
       " ('share', 0.53408248593025787),\n",
       " ('dealt', 0.53408248593025787),\n",
       " ('providing', 0.53329847961804933),\n",
       " ('explore', 0.53329847961804933),\n",
       " ('series', 0.5325809226575603),\n",
       " ('fellow', 0.5323318289869543),\n",
       " ('loves', 0.53062825106217038),\n",
       " ('revolution', 0.53062825106217038),\n",
       " ('olivier', 0.53062825106217038),\n",
       " ('roman', 0.53062825106217038),\n",
       " ('century', 0.53002783074992665),\n",
       " ('musical', 0.52966871156747064),\n",
       " ('heroic', 0.52925932545482868),\n",
       " ('approach', 0.52806743020049673),\n",
       " ('ironically', 0.52806743020049673),\n",
       " ('temple', 0.52806743020049673),\n",
       " ('moves', 0.5279372642387119),\n",
       " ('gift', 0.52702030968597136),\n",
       " ('julie', 0.52609309589677911),\n",
       " ('tells', 0.52415107836314001),\n",
       " ('radio', 0.52394671172868779),\n",
       " ('uncle', 0.52354439617376536),\n",
       " ('union', 0.52324814376454787),\n",
       " ('deep', 0.52309571635780505),\n",
       " ('reminds', 0.52157841554225237),\n",
       " ('famous', 0.52118841080153722),\n",
       " ('jazz', 0.52053443789295151),\n",
       " ('dennis', 0.51987545928590861),\n",
       " ('epic', 0.51919387343650736),\n",
       " ('adult', 0.519167695083386),\n",
       " ('shows', 0.51915322220375304),\n",
       " ('performed', 0.5191244265806858),\n",
       " ('demons', 0.5191244265806858),\n",
       " ('discovered', 0.51879379341516751),\n",
       " ('eric', 0.51879379341516751),\n",
       " ('youth', 0.5185626062681431),\n",
       " ('human', 0.51851411224987087),\n",
       " ('tarzan', 0.51813827061227724),\n",
       " ('ourselves', 0.51794309153485463),\n",
       " ('wwii', 0.51758240622887042),\n",
       " ('passion', 0.5162164724008671),\n",
       " ('desire', 0.51607497965213445),\n",
       " ('pays', 0.51581316527702981),\n",
       " ('dirty', 0.51557622652458857),\n",
       " ('fox', 0.51557622652458857),\n",
       " ('sympathetic', 0.51546600332249293),\n",
       " ('symbolism', 0.51546600332249293),\n",
       " ('attitude', 0.51530993621331933),\n",
       " ('appearances', 0.51466440007315639),\n",
       " ('jeremy', 0.51466440007315639),\n",
       " ('fun', 0.51439068993048687),\n",
       " ('south', 0.51420972175023116),\n",
       " ('arrives', 0.51409894911095988),\n",
       " ('present', 0.51341965894303732),\n",
       " ('com', 0.51326167856387173),\n",
       " ('smile', 0.51265880484765169),\n",
       " ('alan', 0.51082562376599072),\n",
       " ('ring', 0.51082562376599072),\n",
       " ('visit', 0.51082562376599072),\n",
       " ('fits', 0.51082562376599072),\n",
       " ('provided', 0.51082562376599072),\n",
       " ('carter', 0.51082562376599072),\n",
       " ('aging', 0.51082562376599072),\n",
       " ('countryside', 0.51082562376599072),\n",
       " ('begins', 0.51015650363396647),\n",
       " ('success', 0.50900578704900468),\n",
       " ('japan', 0.50900578704900468),\n",
       " ('accurate', 0.50895471583017893),\n",
       " ('proud', 0.50800474742434931),\n",
       " ('daily', 0.5075946031845443),\n",
       " ('karloff', 0.50724780241810674),\n",
       " ('atmospheric', 0.50724780241810674),\n",
       " ('recently', 0.50714914903668207),\n",
       " ('fu', 0.50704490092608467),\n",
       " ('horrors', 0.50656122497953315),\n",
       " ('finding', 0.50637127341661037),\n",
       " ('lust', 0.5059356384717989),\n",
       " ('hitchcock', 0.50574947073413001),\n",
       " ('among', 0.50334004951332734),\n",
       " ('viewing', 0.50302139827440906),\n",
       " ('investigation', 0.50262885656181222),\n",
       " ('shining', 0.50262885656181222),\n",
       " ('duo', 0.5020919437972361),\n",
       " ('cameron', 0.5020919437972361),\n",
       " ('finds', 0.50128303100539795),\n",
       " ('contemporary', 0.50077528791248915),\n",
       " ('genuine', 0.50046283673044401),\n",
       " ('frightening', 0.49995595152908684),\n",
       " ('plays', 0.49975983848890226),\n",
       " ('age', 0.49941323171424595),\n",
       " ('position', 0.49899116611898781),\n",
       " ('continues', 0.49863035067217237),\n",
       " ('roles', 0.49839716550752178),\n",
       " ('james', 0.49837216269470402),\n",
       " ('individuals', 0.49824684155913052),\n",
       " ('brought', 0.49783842823917956),\n",
       " ('hilarious', 0.49714551986191058),\n",
       " ('brutal', 0.49681488669639234),\n",
       " ('appropriate', 0.49643688631389105),\n",
       " ('dance', 0.49581998314812048),\n",
       " ('league', 0.49578774640145024),\n",
       " ('helping', 0.49578774640145024),\n",
       " ('answers', 0.49578774640145024),\n",
       " ('stunts', 0.49561620510246196),\n",
       " ('traveling', 0.49532143723002542),\n",
       " ('thoroughly', 0.49414593456733524),\n",
       " ('depicted', 0.49317068852726992),\n",
       " ('combination', 0.49247648509779424),\n",
       " ('honor', 0.49247648509779424),\n",
       " ('differences', 0.49247648509779424),\n",
       " ('fully', 0.49213349075383811),\n",
       " ('tracy', 0.49159426183810306),\n",
       " ('battles', 0.49140753790888908),\n",
       " ('possibility', 0.49112055268665822),\n",
       " ('romance', 0.4901589869574316),\n",
       " ('initially', 0.49002249613622745),\n",
       " ('happy', 0.4898997500608791),\n",
       " ('crime', 0.48977221456815834),\n",
       " ('singing', 0.4893852925281213),\n",
       " ('especially', 0.48901267837860624),\n",
       " ('shakespeare', 0.48754793889664511),\n",
       " ('hugh', 0.48729512635579658),\n",
       " ('detail', 0.48609484250827351),\n",
       " ('julia', 0.48550781578170082),\n",
       " ('san', 0.48550781578170082),\n",
       " ('guide', 0.48550781578170082),\n",
       " ('desperation', 0.48550781578170082),\n",
       " ('companion', 0.48550781578170082),\n",
       " ('strongly', 0.48460242866688824),\n",
       " ('necessary', 0.48302334245403883),\n",
       " ('humanity', 0.48265474679929443),\n",
       " ('drama', 0.48221998493060503),\n",
       " ('nonetheless', 0.48183808689273838),\n",
       " ('intrigue', 0.48183808689273838),\n",
       " ('warming', 0.48183808689273838),\n",
       " ('cuba', 0.48183808689273838),\n",
       " ('planned', 0.47957308026188628),\n",
       " ('pictures', 0.47929937011921681),\n",
       " ('broadcast', 0.47849024312305422),\n",
       " ('nine', 0.47803580094299974),\n",
       " ('settings', 0.47743860773325364),\n",
       " ('history', 0.47732966933780852),\n",
       " ('ordinary', 0.47725880012690741),\n",
       " ('trade', 0.47692407209030935),\n",
       " ('official', 0.47608267532211779),\n",
       " ('primary', 0.47608267532211779),\n",
       " ('episode', 0.47529620261150429),\n",
       " ('role', 0.47520268270188676),\n",
       " ('spirit', 0.47477690799839323),\n",
       " ('grey', 0.47409361449726067),\n",
       " ('ways', 0.47323464982718205),\n",
       " ('cup', 0.47260441094579297),\n",
       " ('piano', 0.47260441094579297),\n",
       " ('familiar', 0.47241617565111949),\n",
       " ('sinister', 0.47198579044972683),\n",
       " ('reveal', 0.47171449364936496),\n",
       " ('max', 0.47150852042515579),\n",
       " ('dated', 0.47121648567094482),\n",
       " ('losing', 0.47000362924573563),\n",
       " ('discovery', 0.47000362924573563),\n",
       " ('vicious', 0.47000362924573563),\n",
       " ('genuinely', 0.46871413841586385),\n",
       " ('hatred', 0.46734051182625186),\n",
       " ('mistaken', 0.46702300110759781),\n",
       " ('dream', 0.46608972992459924),\n",
       " ('challenge', 0.46608972992459924),\n",
       " ('crisis', 0.46575733836428446),\n",
       " ('photographed', 0.46488852857896512),\n",
       " ('critics', 0.46430560813109778),\n",
       " ('bird', 0.46430560813109778),\n",
       " ('machines', 0.46430560813109778),\n",
       " ('born', 0.46411383518967209),\n",
       " ('detective', 0.4636633473511525),\n",
       " ('higher', 0.46328467899699055),\n",
       " ('remains', 0.46262352194811296),\n",
       " ('inevitable', 0.46262352194811296),\n",
       " ('soviet', 0.4618180446592961),\n",
       " ('ryan', 0.46134556650262099),\n",
       " ('african', 0.46112595521371813),\n",
       " ('smaller', 0.46081520319132935),\n",
       " ('techniques', 0.46052488529119184),\n",
       " ('information', 0.46034171833399862),\n",
       " ('deserved', 0.45999798712841444),\n",
       " ('lynch', 0.45953232937844013),\n",
       " ('spielberg', 0.45953232937844013),\n",
       " ('cynical', 0.45953232937844013),\n",
       " ('tour', 0.45953232937844013),\n",
       " ('francisco', 0.45953232937844013),\n",
       " ('struggle', 0.45911782160048453),\n",
       " ('language', 0.45902121257712653),\n",
       " ('visual', 0.45823514408822852),\n",
       " ('warner', 0.45724137763188427),\n",
       " ('social', 0.45720078250735313),\n",
       " ('reality', 0.45719346885019546),\n",
       " ('hidden', 0.45675840249571492),\n",
       " ('breaking', 0.45601738727099561),\n",
       " ('sometimes', 0.45563021171182794),\n",
       " ('modern', 0.45500247579345005),\n",
       " ('surfing', 0.45425527227759638),\n",
       " ('popular', 0.45410691533051023),\n",
       " ('surprised', 0.4534409399850382),\n",
       " ('follows', 0.45245361754408348),\n",
       " ('keeps', 0.45234869400701483),\n",
       " ('john', 0.4520909494482197),\n",
       " ('mixed', 0.45198512374305722),\n",
       " ('defeat', 0.45198512374305722),\n",
       " ('justice', 0.45142724367280018),\n",
       " ('treasure', 0.45083371313801535),\n",
       " ('presents', 0.44973793178615257),\n",
       " ('years', 0.44919197032104968),\n",
       " ('chief', 0.44895022004790319),\n",
       " ('shadows', 0.44802472252696035),\n",
       " ('closely', 0.44701411102103689),\n",
       " ('segments', 0.44701411102103689),\n",
       " ('lose', 0.44658335503763702),\n",
       " ('caine', 0.44628710262841953),\n",
       " ('caught', 0.44610275383999071),\n",
       " ('hamlet', 0.44558510189758965),\n",
       " ('chinese', 0.44507424620321018),\n",
       " ('welcome', 0.44438052435783792),\n",
       " ('birth', 0.44368632092836219),\n",
       " ('represents', 0.44320543609101143),\n",
       " ('puts', 0.44279106572085081),\n",
       " ('visuals', 0.44183275227903923),\n",
       " ('fame', 0.44183275227903923),\n",
       " ('closer', 0.44183275227903923),\n",
       " ('web', 0.44183275227903923),\n",
       " ('criminal', 0.4412745608048752),\n",
       " ('minor', 0.4409224199448939),\n",
       " ('jon', 0.44086703515908027),\n",
       " ('liked', 0.44074991514020723),\n",
       " ('restaurant', 0.44031183943833246),\n",
       " ('de', 0.43983275161237217),\n",
       " ('flaws', 0.43983275161237217),\n",
       " ('searching', 0.4393666597838457),\n",
       " ('rap', 0.43891304217570443),\n",
       " ('light', 0.43884433018199892),\n",
       " ('elizabeth', 0.43872232986464682),\n",
       " ('marry', 0.43861731542506488),\n",
       " ('learned', 0.43825493093115531),\n",
       " ('controversial', 0.43825493093115531),\n",
       " ('oz', 0.43825493093115531),\n",
       " ('slowly', 0.43785660389939979),\n",
       " ('comedic', 0.43721380642274466),\n",
       " ('wayne', 0.43721380642274466),\n",
       " ('thrilling', 0.43721380642274466),\n",
       " ('bridge', 0.43721380642274466),\n",
       " ('married', 0.43658501682196887),\n",
       " ('nazi', 0.4361020775700542),\n",
       " ('murder', 0.4353180712578455),\n",
       " ('physical', 0.4353180712578455),\n",
       " ('johnny', 0.43483971678806865),\n",
       " ('michelle', 0.43445264498141672),\n",
       " ('wallace', 0.43403848055222038),\n",
       " ('comedies', 0.43395706390247063),\n",
       " ('silent', 0.43395706390247063),\n",
       " ('played', 0.43387244114515305),\n",
       " ('international', 0.43363598507486073),\n",
       " ('vision', 0.43286408229627887),\n",
       " ('intelligent', 0.43196704885367099),\n",
       " ('shop', 0.43078291609245434),\n",
       " ('also', 0.43036720209769169),\n",
       " ('levels', 0.4302451371066513),\n",
       " ('miss', 0.43006426712153217),\n",
       " ('movement', 0.4295626596872249),\n",
       " ...]"
      ]
     },
     "execution_count": 13,
     "metadata": {},
     "output_type": "execute_result"
    }
   ],
   "source": [
    "# words most frequently seen in a review with a \"POSITIVE\" label\n",
    "pos_neg_ratios.most_common()"
   ]
  },
  {
   "cell_type": "code",
   "execution_count": 14,
   "metadata": {},
   "outputs": [
    {
     "data": {
      "text/plain": [
       "[('boll', -4.9698132995760007),\n",
       " ('uwe', -4.6249728132842707),\n",
       " ('seagal', -3.6441435602725449),\n",
       " ('unwatchable', -3.2580965380214821),\n",
       " ('stinker', -3.2088254890146994),\n",
       " ('mst', -2.9502698994772336),\n",
       " ('incoherent', -2.9368917735310576),\n",
       " ('unfunny', -2.6922395950755678),\n",
       " ('waste', -2.6193845640165536),\n",
       " ('blah', -2.5704288232261625),\n",
       " ('horrid', -2.4849066497880004),\n",
       " ('pointless', -2.4553061800117097),\n",
       " ('atrocious', -2.4259083090260445),\n",
       " ('redeeming', -2.3682390632154826),\n",
       " ('prom', -2.3608540011180215),\n",
       " ('drivel', -2.3470368555648795),\n",
       " ('lousy', -2.3075726345050849),\n",
       " ('worst', -2.2869878961803778),\n",
       " ('laughable', -2.2643638801738479),\n",
       " ('awful', -2.2271942470274348),\n",
       " ('poorly', -2.2207550747464135),\n",
       " ('wasting', -2.2046046846338418),\n",
       " ('remotely', -2.1972245773362196),\n",
       " ('existent', -2.0794415416798357),\n",
       " ('boredom', -1.9951003932460849),\n",
       " ('miserably', -1.9924301646902063),\n",
       " ('sucks', -1.9870682215488209),\n",
       " ('uninspired', -1.9832976811269336),\n",
       " ('lame', -1.981767458946166),\n",
       " ('insult', -1.9783454248084671)]"
      ]
     },
     "execution_count": 14,
     "metadata": {},
     "output_type": "execute_result"
    }
   ],
   "source": [
    "# words most frequently seen in a review with a \"NEGATIVE\" label\n",
    "list(reversed(pos_neg_ratios.most_common()))[0:30]\n",
    "\n",
    "# Note：: Above is the code Andrew uses in his solution video, \n",
    "#       so we've included it here to avoid confusion.\n",
    "#       If you explore the documentation for the Counter class, \n",
    "#       you will see you could also find the 30 least common\n",
    "#       words like this: pos_neg_ratios.most_common()[:-31:-1]"
   ]
  },
  {
   "cell_type": "markdown",
   "metadata": {},
   "source": [
    "# 项目 1 到此结束\n",
    "## 请进入下一个视频，观看  Andrew 的解决方案，然后继续学习下一课。\n",
    "\n",
    "# 将文本转换成数字<a id='lesson_3'></a>\n",
    "此代码框包含 Andrew 在下一个视频中使用的代码，因此你无需手动输入，即可跟着视频运行代码。"
   ]
  },
  {
   "cell_type": "code",
   "execution_count": 9,
   "metadata": {},
   "outputs": [
    {
     "data": {
      "image/png": "[encoded data removed]",
      "text/plain": [
       "<IPython.core.display.Image object>"
      ]
     },
     "execution_count": 9,
     "metadata": {},
     "output_type": "execute_result"
    }
   ],
   "source": [
    "from IPython.display import Image\n",
    "\n",
    "review = \"This was a horrible, terrible movie.\"\n",
    "\n",
    "Image(filename='sentiment_network.png')"
   ]
  },
  {
   "cell_type": "code",
   "execution_count": 10,
   "metadata": {},
   "outputs": [
    {
     "data": {
      "image/png": "[encoded data removed]",
      "text/plain": [
       "<IPython.core.display.Image object>"
      ]
     },
     "execution_count": 10,
     "metadata": {},
     "output_type": "execute_result"
    }
   ],
   "source": [
    "review = \"The movie was excellent\"\n",
    "\n",
    "Image(filename='sentiment_network_pos.png')"
   ]
  },
  {
   "cell_type": "markdown",
   "metadata": {},
   "source": [
    "# 项目 2：创建输入/输出数据<a id='project_2'></a>\n",
    "\n",
    "**待办：** 创建一个名为 `vocab` 的[集合](https://docs.python.org/3/tutorial/datastructures.html#sets)，将词汇表的所有单词放入其中。"
   ]
  },
  {
   "cell_type": "code",
   "execution_count": null,
   "metadata": {},
   "outputs": [],
   "source": [
    "# TODO: Create set named \"vocab\" containing all of the words from all of the reviews\n",
    "vocab = None"
   ]
  },
  {
   "cell_type": "markdown",
   "metadata": {},
   "source": [
    "运行下方代码框，查看词汇表大小，如果一切顺利，代码输出的结果将是 **74074**"
   ]
  },
  {
   "cell_type": "code",
   "execution_count": null,
   "metadata": {},
   "outputs": [],
   "source": [
    "vocab_size = len(vocab)\n",
    "print(vocab_size)"
   ]
  },
  {
   "cell_type": "markdown",
   "metadata": {},
   "source": [
    "观察下图，图中包括了你将在这个 notebook 里创建的神经网络的各层，其中，`layer_0` 是输入层，`layer_1`是隐藏层，`layer_2` 是输出层。"
   ]
  },
  {
   "cell_type": "code",
   "execution_count": null,
   "metadata": {},
   "outputs": [],
   "source": [
    "from IPython.display import Image\n",
    "Image(filename='sentiment_network_2.png')"
   ]
  },
  {
   "cell_type": "markdown",
   "metadata": {},
   "source": [
    "![png](output_38_0.png)\n",
    "\n",
    "\n",
    "\n",
    "**待办：** 创建一个名为 `layer_0` 的 numpy 数组，将其所有元素初始化为 0。此处函数 [zeros](https://docs.scipy.org/doc/numpy/reference/generated/numpy.zeros.html) 可派上大用场。请确保你创建的 `layer_0` 是个二维矩阵，其行数为 1，列数为 `vocab_size` 的值。"
   ]
  },
  {
   "cell_type": "code",
   "execution_count": null,
   "metadata": {},
   "outputs": [],
   "source": [
    "# TODO: Create layer_0 matrix with dimensions 1 by vocab_size, initially filled with zeros\n",
    "layer_0 = None"
   ]
  },
  {
   "cell_type": "markdown",
   "metadata": {},
   "source": [
    "运行下方代码框，结果应为 `(1, 74074)`"
   ]
  },
  {
   "cell_type": "code",
   "execution_count": null,
   "metadata": {},
   "outputs": [],
   "source": [
    "layer_0.shape"
   ]
  },
  {
   "cell_type": "code",
   "execution_count": null,
   "metadata": {},
   "outputs": [],
   "source": [
    "from IPython.display import Image\n",
    "Image(filename='sentiment_network.png')"
   ]
  },
  {
   "cell_type": "markdown",
   "metadata": {},
   "source": [
    "`layer_0` 包含了词汇表里的所有单词，一项代表词汇表里的一个词，如上图所示。为了确保我们知道每个单词的索引，请运行下方代码框，创建查找表并将各单词的索引存储其中。"
   ]
  },
  {
   "cell_type": "code",
   "execution_count": null,
   "metadata": {},
   "outputs": [],
   "source": [
    "# Create a dictionary of words in the vocabulary mapped to index positions\n",
    "# (to be used in layer_0)\n",
    "word2index = {}\n",
    "for i,word in enumerate(vocab):\n",
    "    word2index[word] = i\n",
    "    \n",
    "# display the map of words to indices\n",
    "word2index"
   ]
  },
  {
   "cell_type": "markdown",
   "metadata": {},
   "source": [
    "**待办:**  实现函数 `update_input_layer`，使该函数统计每个单词出现在给定评论里的次数，并将统计结果存入 `layer_0` 相应的索引下。"
   ]
  },
  {
   "cell_type": "code",
   "execution_count": null,
   "metadata": {},
   "outputs": [],
   "source": [
    "def update_input_layer(review):\n",
    "    \"\"\" Modify the global layer_0 to represent the vector form of review.\n",
    "    The element at a given index of layer_0 should represent\n",
    "    how many times the given word occurs in the review.\n",
    "    Args:\n",
    "        review(string) - the string of the review\n",
    "    Returns:\n",
    "        None\n",
    "    \"\"\"\n",
    "    global layer_0\n",
    "    # clear out previous state by resetting the layer to be all 0s\n",
    "    layer_0 *= 0\n",
    "    \n",
    "    # TODO: count how many times each word is used in the given review and store the results in layer_0 "
   ]
  },
  {
   "cell_type": "markdown",
   "metadata": {},
   "source": [
    "运行下方代码框，测试用第一条评论更新输入层的效果。此处所赋索引可能与解决方案中的不同，但你应该也能看到 `layer_0` 中出现了一些非零数值。"
   ]
  },
  {
   "cell_type": "code",
   "execution_count": null,
   "metadata": {},
   "outputs": [],
   "source": [
    "update_input_layer(reviews[0])\n",
    "layer_0"
   ]
  },
  {
   "cell_type": "markdown",
   "metadata": {},
   "source": [
    "**待办：** 实现函数 `get_target_for_labels`，使其根据给定标签是 `NEGATIVE` （负面）还是 `POSITIVE` （正面）返回 `0` 或 `1`。"
   ]
  },
  {
   "cell_type": "code",
   "execution_count": null,
   "metadata": {},
   "outputs": [],
   "source": [
    "def get_target_for_label(label):\n",
    "    \"\"\"Convert a label to `0` or `1`.\n",
    "    Args:\n",
    "        label(string) - Either \"POSITIVE\" or \"NEGATIVE\".\n",
    "    Returns:\n",
    "        `0` or `1`.\n",
    "    \"\"\"\n",
    "    # TODO: Your code here"
   ]
  },
  {
   "cell_type": "markdown",
   "metadata": {},
   "source": [
    "运行下方两个代码框，结果应分别输出 `'POSITIVE'` 和 `1`。"
   ]
  },
  {
   "cell_type": "code",
   "execution_count": null,
   "metadata": {},
   "outputs": [],
   "source": [
    "labels[0]"
   ]
  },
  {
   "cell_type": "code",
   "execution_count": null,
   "metadata": {},
   "outputs": [],
   "source": [
    "get_target_for_label(labels[0])"
   ]
  },
  {
   "cell_type": "markdown",
   "metadata": {},
   "source": [
    "运行下方两个代码框，结果应分别输出 `'NEGATIVE'` 和 `0`。"
   ]
  },
  {
   "cell_type": "code",
   "execution_count": null,
   "metadata": {},
   "outputs": [],
   "source": [
    "labels[1]"
   ]
  },
  {
   "cell_type": "code",
   "execution_count": null,
   "metadata": {},
   "outputs": [],
   "source": [
    "get_target_for_label(labels[1])"
   ]
  },
  {
   "cell_type": "markdown",
   "metadata": {},
   "source": [
    "# 项目 2 到此结束。\n",
    "## 请进入下一个视频，观看 Andrew 的解决方案，然后继续学习下一课。\n",
    "\n",
    "# 项目 3：创建神经网络<a id='project_3'></a>\n",
    "\n",
    "**待办：** 此处使用了类 `SentimentNetork` 的框架，请实现代码里所有标有 `TODO` 的待办事项，具体操作内容如下：\n",
    "- 创建一个基本的神经网络，就像你在之前的课程和项目 1 中看到的一样，该网络应具备一个输入层、一个隐藏层和一个输出层。\n",
    "- 请**不要**在隐藏层中添加非线性元素，也就是说，请不要用激活函数计算隐藏层的输出。\n",
    "- 利用本 notebook 前面的代码来创建训练数据（请见代码中的 `TODO` 事项）\n",
    "- 实现函数 `pre_process_data`，为训练数据生成函数创建词汇表\n",
    "- 确保 `train` 会对整个语料库进行训练\n",
    "\n",
    "### 如有需要，请\n",
    "- 重看以前的优达学城课程\n",
    "- 查阅 [《深度学习详解》](https://www.manning.com/books/grokking-deep-learning)的第 3-5 章 - (请进入课室查看优惠码)"
   ]
  },
  {
   "cell_type": "code",
   "execution_count": null,
   "metadata": {},
   "outputs": [],
   "source": [
    "import time\n",
    "import sys\n",
    "import numpy as np\n",
    "\n",
    "# Encapsulate our neural network in a class\n",
    "class SentimentNetwork:\n",
    "    def __init__(self, reviews, labels, hidden_nodes = 10, learning_rate = 0.1):\n",
    "        \"\"\"Create a SentimenNetwork with the given settings\n",
    "        Args:\n",
    "            reviews(list) - List of reviews used for training\n",
    "            labels(list) - List of POSITIVE/NEGATIVE labels associated with the given reviews\n",
    "            hidden_nodes(int) - Number of nodes to create in the hidden layer\n",
    "            learning_rate(float) - Learning rate to use while training\n",
    "        \n",
    "        \"\"\"\n",
    "        # Assign a seed to our random number generator to ensure we get\n",
    "        # reproducable results during development \n",
    "        np.random.seed(1)\n",
    "\n",
    "        # process the reviews and their associated labels so that everything\n",
    "        # is ready for training\n",
    "        self.pre_process_data(reviews, labels)\n",
    "        \n",
    "        # Build the network to have the number of hidden nodes and the learning rate that\n",
    "        # were passed into this initializer. Make the same number of input nodes as\n",
    "        # there are vocabulary words and create a single output node.\n",
    "        self.init_network(len(self.review_vocab),hidden_nodes, 1, learning_rate)\n",
    "\n",
    "    def pre_process_data(self, reviews, labels):\n",
    "        \n",
    "        review_vocab = set()\n",
    "        # TODO: populate review_vocab with all of the words in the given reviews \n",
    "        #       Remember to split reviews into individual words \n",
    "        #       using \"split(' ')\" instead of \"split()\".\n",
    "        \n",
    "        # Convert the vocabulary set to a list so we can access words via indices \n",
    "        self.review_vocab = list(review_vocab)\n",
    "        \n",
    "        label_vocab = set()\n",
    "        # TODO: populate label_vocab with all of the words in the given labels.\n",
    "        #       There is no need to split the labels because each one is a single word.\n",
    "        \n",
    "        # Convert the label vocabulary set to a list so we can access labels via indices\n",
    "        self.label_vocab = list(label_vocab)\n",
    "        \n",
    "        # Store the sizes of the review and label vocabularies.\n",
    "        self.review_vocab_size = len(self.review_vocab)\n",
    "        self.label_vocab_size = len(self.label_vocab)\n",
    "        \n",
    "        # Create a dictionary of words in the vocabulary mapped to index positions\n",
    "        self.word2index = {}\n",
    "        # TODO: populate self.word2index with indices for all the words in self.review_vocab\n",
    "        #       like you saw earlier in the notebook \n",
    "        \n",
    "        # Create a dictionary of labels mapped to index positions \n",
    "        self.label2index = {}\n",
    "        # TODO: do the same thing you did for self.word2index and self.review_vocab, \n",
    "        #       but for self.label2index and self.label_vocab instead \n",
    "         \n",
    "        \n",
    "    def init_network(self, input_nodes, hidden_nodes, output_nodes, learning_rate):\n",
    "        # Store the number of nodes in input, hidden, and output layers.\n",
    "        self.input_nodes = input_nodes\n",
    "        self.hidden_nodes = hidden_nodes\n",
    "        self.output_nodes = output_nodes\n",
    "\n",
    "        # Store the learning rate\n",
    "        self.learning_rate = learning_rate\n",
    "\n",
    "        # Initialize weights\n",
    "        \n",
    "        # TODO: initialize self.weights_0_1 as a matrix of zeros. These are the weights between\n",
    "        #       the input layer and the hidden layer.\n",
    "        self.weights_0_1 = None\n",
    "        \n",
    "        # TODO: initialize self.weights_1_2 as a matrix of random values. \n",
    "        #       These are the weights between the hidden layer and the output layer.\n",
    "        self.weights_1_2 = None\n",
    "        \n",
    "        # TODO: Create the input layer, a two-dimensional matrix with shape \n",
    "        #       1 x input_nodes, with all values initialized to zero 1 x input_nodes，\n",
    "        self.layer_0 = np.zeros((1,input_nodes))\n",
    "    \n",
    "        \n",
    "    def update_input_layer(self,review):\n",
    "        # TODO: You can copy most of the code you wrote for update_input_layer \n",
    "        #       earlier in this notebook. \n",
    "        #\n",
    "        #       However, MAKE SURE YOU CHANGE ALL VARIABLES TO REFERENCE\n",
    "        #       THE VERSIONS STORED IN THIS OBJECT, NOT THE GLOBAL OBJECTS.\n",
    "        #       For example, replace \"layer_0 *= 0\" with \"self.layer_0 *= 0\"\n",
    "        pass\n",
    "                \n",
    "    def get_target_for_label(self,label):\n",
    "        # TODO: Copy the code you wrote for get_target_for_label \n",
    "        #       earlier in this notebook. \n",
    "        pass\n",
    "        \n",
    "    def sigmoid(self,x):\n",
    "        # TODO: Return the result of calculating the sigmoid activation function\n",
    "        #       shown in the lectures \n",
    "        pass\n",
    "    \n",
    "    def sigmoid_output_2_derivative(self,output):\n",
    "        # TODO: Return the derivative of the sigmoid activation function, \n",
    "        #       where \"output\" is the original output from the sigmoid fucntion \n",
    "        pass\n",
    "\n",
    "    def train(self, training_reviews, training_labels):\n",
    "        \n",
    "        # make sure out we have a matching number of reviews and labels\n",
    "        assert(len(training_reviews) == len(training_labels))\n",
    "        \n",
    "        # Keep track of correct predictions to display accuracy during training\n",
    "        correct_so_far = 0\n",
    "        \n",
    "        # Remember when we started for printing time statistics\n",
    "        start = time.time()\n",
    "\n",
    "        # loop through all the given reviews and run a forward and backward pass,\n",
    "        # updating weights for every item\n",
    "        for i in range(len(training_reviews)):\n",
    "            \n",
    "            # TODO: Get the next review and its correct label\n",
    "            \n",
    "            # TODO: Implement the forward pass through the network. \n",
    "            #       That means use the given review to update the input layer, \n",
    "            #       then calculate values for the hidden layer,\n",
    "            #       and finally calculate the output layer.\n",
    "            # \n",
    "            #       Do not use an activation function for the hidden layer,\n",
    "            #       but use the sigmoid activation function for the output layer.\n",
    "            \n",
    "            # TODO: Implement the back propagation pass here. \n",
    "            #       That means calculate the error for the forward pass's prediction\n",
    "            #       and update the weights in the network according to their\n",
    "            #       contributions toward the error, as calculated via the\n",
    "            #       gradient descent and back propagation algorithms you \n",
    "            #       learned in class.\n",
    "            \n",
    "            # TODO: Keep track of correct predictions. To determine if the prediction was\n",
    "            #       correct, check that the absolute value of the output error \n",
    "            #       is less than 0.5. If so, add one to the correct_so_far count.\n",
    "            \n",
    "            # For debug purposes, print out our prediction accuracy and speed \n",
    "            # throughout the training process. \n",
    "\n",
    "            elapsed_time = float(time.time() - start)\n",
    "            reviews_per_second = i / elapsed_time if elapsed_time > 0 else 0\n",
    "            \n",
    "            sys.stdout.write(\"\\rProgress:\" + str(100 * i/float(len(training_reviews)))[:4] \\\n",
    "                             + \"% Speed(reviews/sec):\" + str(reviews_per_second)[0:5] \\\n",
    "                             + \" #Correct:\" + str(correct_so_far) + \" #Trained:\" + str(i+1) \\\n",
    "                             + \" Training Accuracy:\" + str(correct_so_far * 100 / float(i+1))[:4] + \"%\")\n",
    "            if(i % 2500 == 0):\n",
    "                print(\"\")\n",
    "    \n",
    "    def test(self, testing_reviews, testing_labels):\n",
    "        \"\"\"\n",
    "        Attempts to predict the labels for the given testing_reviews,\n",
    "        and uses the test_labels to calculate the accuracy of those predictions.\n",
    "        \"\"\"\n",
    "        \n",
    "        # keep track of how many correct predictions we make\n",
    "        correct = 0\n",
    "\n",
    "        # we'll time how many predictions per second we make\n",
    "        start = time.time()\n",
    "\n",
    "        # Loop through each of the given reviews and call run to predict\n",
    "        # its label. \n",
    "        for i in range(len(testing_reviews)):\n",
    "            pred = self.run(testing_reviews[i])\n",
    "            if(pred == testing_labels[i]):\n",
    "                correct += 1\n",
    "            \n",
    "            # For debug purposes, print out our prediction accuracy and speed \n",
    "            # throughout the prediction process. \n",
    "\n",
    "            elapsed_time = float(time.time() - start)\n",
    "            reviews_per_second = i / elapsed_time if elapsed_time > 0 else 0\n",
    "            \n",
    "            sys.stdout.write(\"\\rProgress:\" + str(100 * i/float(len(testing_reviews)))[:4] \\\n",
    "                             + \"% Speed(reviews/sec):\" + str(reviews_per_second)[0:5] \\\n",
    "                             + \" #Correct:\" + str(correct) + \" #Tested:\" + str(i+1) \\\n",
    "                             + \" Testing Accuracy:\" + str(correct * 100 / float(i+1))[:4] + \"%\")\n",
    "    \n",
    "    def run(self, review):\n",
    "        \"\"\"\n",
    "        Returns a POSITIVE or NEGATIVE prediction for the given review.\n",
    "        \"\"\"\n",
    "        # TODO: Run a forward pass through the network, like you did in the\n",
    "        #       \"train\" function. That means use the given review to \n",
    "        #       update the input layer, then calculate values for the hidden layer,\n",
    "        #       and finally calculate the output layer.\n",
    "        #\n",
    "        #       Note: The review passed into this function for prediction \n",
    "        #             might come from anywhere, so you should convert it \n",
    "        #             to lower case prior to using it.\n",
    "        \n",
    "        # TODO: The output layer should now contain a prediction. \n",
    "        #       Return `POSITIVE` for predictions greater-than-or-equal-to `0.5`, \n",
    "        #       and `NEGATIVE` otherwise.\n",
    "        pass\n"
   ]
  },
  {
   "cell_type": "markdown",
   "metadata": {},
   "source": [
    "运行下方代码框，创建 `SentimentNetwork`，使之训练除最后一千条评论之外的所有评论（那一千条评论将用于测试），此处我们使用的学习率为 `0.1`。"
   ]
  },
  {
   "cell_type": "code",
   "execution_count": null,
   "metadata": {},
   "outputs": [],
   "source": [
    "mlp = SentimentNetwork(reviews[:-1000],labels[:-1000], learning_rate=0.1)"
   ]
  },
  {
   "cell_type": "markdown",
   "metadata": {},
   "source": [
    "运行下方代码框，用最后一千条评论测试网络的性能（即我们不用作训练集的那部分评论）。\n",
    "\n",
    "**我们还没有训练模型，所以模型只是单纯地在猜测，鉴于可选的值只有两个，因此准确率应该在   50% 左右。**"
   ]
  },
  {
   "cell_type": "code",
   "execution_count": null,
   "metadata": {},
   "outputs": [],
   "source": [
    "mlp.test(reviews[-1000:],labels[-1000:])"
   ]
  },
  {
   "cell_type": "markdown",
   "metadata": {},
   "source": [
    "运行下方代码框，开始训练网络。训练时，代码会不断输出模型的准确性，以便你观察模型的训练效果。"
   ]
  },
  {
   "cell_type": "code",
   "execution_count": null,
   "metadata": {},
   "outputs": [],
   "source": [
    "mlp.train(reviews[:-1000],labels[:-1000])"
   ]
  },
  {
   "cell_type": "markdown",
   "metadata": {},
   "source": [
    "很可能训练效果并不好，部分原因可能在于学习率太高了。运行下方代码框，将学习率调小为 `0.01`，重建并重新训练网络。"
   ]
  },
  {
   "cell_type": "code",
   "execution_count": null,
   "metadata": {},
   "outputs": [],
   "source": [
    "mlp = SentimentNetwork(reviews[:-1000],labels[:-1000], learning_rate=0.01)\n",
    "mlp.train(reviews[:-1000],labels[:-1000])"
   ]
  },
  {
   "cell_type": "markdown",
   "metadata": {},
   "source": [
    "可能效果还是不好。运行下方代码框，再次将学习率调小为 `0.001`，再次重建并重新训练网络。"
   ]
  },
  {
   "cell_type": "code",
   "execution_count": null,
   "metadata": {},
   "outputs": [],
   "source": [
    "mlp = SentimentNetwork(reviews[:-1000],labels[:-1000], learning_rate=0.001)\n",
    "mlp.train(reviews[:-1000],labels[:-1000])"
   ]
  },
  {
   "cell_type": "markdown",
   "metadata": {},
   "source": [
    "当学习率为 `0.001` 时，网络应该终于开始随着训练进行改进了，虽然效果还是不尽人意，但起码说明了这个解决方案是可行的。我们会在下一课进一步改进这个网络。\n",
    "\n",
    "# 项目 3 到此结束。\n",
    "## 请进入下一个视频，观看  Andrew 的解决方案，然后继续学习下一课。\n",
    "\n",
    "# 理解神经噪声<a id='lesson_4'></a>\n",
    "\n",
    "下方代码框包含了 Andrew 在下一个视频里使用的代码，因此你无须手动输入，只需运行代码框，即可跟着视频运行代码。。"
   ]
  },
  {
   "cell_type": "code",
   "execution_count": null,
   "metadata": {},
   "outputs": [],
   "source": [
    "from IPython.display import Image\n",
    "Image(filename='sentiment_network.png')"
   ]
  },
  {
   "cell_type": "code",
   "execution_count": null,
   "metadata": {},
   "outputs": [],
   "source": [
    "def update_input_layer(review):\n",
    "    \n",
    "    global layer_0\n",
    "    \n",
    "    # clear out previous state, reset the layer to be all 0s\n",
    "    layer_0 *= 0\n",
    "    for word in review.split(\" \"):\n",
    "        layer_0[0][word2index[word]] += 1\n",
    "\n",
    "update_input_layer(reviews[0])"
   ]
  },
  {
   "cell_type": "code",
   "execution_count": null,
   "metadata": {},
   "outputs": [],
   "source": [
    "layer_0"
   ]
  },
  {
   "cell_type": "code",
   "execution_count": null,
   "metadata": {},
   "outputs": [],
   "source": [
    "review_counter = Counter()"
   ]
  },
  {
   "cell_type": "code",
   "execution_count": null,
   "metadata": {},
   "outputs": [],
   "source": [
    "for word in reviews[0].split(\" \"):\n",
    "    review_counter[word] += 1"
   ]
  },
  {
   "cell_type": "code",
   "execution_count": null,
   "metadata": {},
   "outputs": [],
   "source": [
    "review_counter.most_common()"
   ]
  },
  {
   "cell_type": "markdown",
   "metadata": {},
   "source": [
    "# 项目 4：减小输入数据的噪声<a id='project_4'></a>\n",
    "\n",
    "**待办：** 学习 Andrew 上一个视频的操作，尝试为输入数据减小噪声，具体操作内容如下：\n",
    "* 将你之前创建的类 `SentimentNetwork` 复制到下方的代码框中。\n",
    "* 修改 `update_input_layer`，使其不再统计各单词出现的次数，而只记录单词是否出现过。"
   ]
  },
  {
   "cell_type": "code",
   "execution_count": null,
   "metadata": {},
   "outputs": [],
   "source": [
    "# TODO: -Copy the SentimentNetwork class from Projet 3 lesson\n",
    "#       -Modify it to reduce noise, like in the video "
   ]
  },
  {
   "cell_type": "markdown",
   "metadata": {},
   "source": [
    "运行下方代码框，重建网络并对其进行训练。注意，此处重新采纳了较高的学习率，即 `0.1` 。"
   ]
  },
  {
   "cell_type": "code",
   "execution_count": null,
   "metadata": {},
   "outputs": [],
   "source": [
    "mlp = SentimentNetwork(reviews[:-1000],labels[:-1000], learning_rate=0.1)\n",
    "mlp.train(reviews[:-1000],labels[:-1000])"
   ]
  },
  {
   "cell_type": "markdown",
   "metadata": {},
   "source": [
    "这次的训练效果应该比之前的好多了，虽然还不够完美，但进步很大。运行下方代码框，用那一千条预测对模型进行测试。"
   ]
  },
  {
   "cell_type": "code",
   "execution_count": null,
   "metadata": {},
   "outputs": [],
   "source": [
    "mlp.test(reviews[-1000:],labels[-1000:])"
   ]
  },
  {
   "cell_type": "markdown",
   "metadata": {},
   "source": [
    "# 项目 4 到此结束。\n",
    "## 实际上 Andrew 关于本项目的解决方案已在上一个视频中有所提及，如果你对那个项目还有问题，请重看视频，然后继续学习下一课。\n",
    "\n",
    "# 下方代码框包含 Andrew 在下一个视频中使用的代码，因此你无须手动输入，只需运行代码框，即可跟着视频运行代码。"
   ]
  },
  {
   "cell_type": "code",
   "execution_count": null,
   "metadata": {},
   "outputs": [],
   "source": [
    "Image(filename='sentiment_network_sparse.png')"
   ]
  },
  {
   "cell_type": "code",
   "execution_count": null,
   "metadata": {},
   "outputs": [],
   "source": [
    "layer_0 = np.zeros(10)"
   ]
  },
  {
   "cell_type": "code",
   "execution_count": null,
   "metadata": {},
   "outputs": [],
   "source": [
    "layer_0"
   ]
  },
  {
   "cell_type": "code",
   "execution_count": null,
   "metadata": {},
   "outputs": [],
   "source": [
    "layer_0[4] = 1\n",
    "layer_0[9] = 1"
   ]
  },
  {
   "cell_type": "code",
   "execution_count": null,
   "metadata": {},
   "outputs": [],
   "source": [
    "layer_0"
   ]
  },
  {
   "cell_type": "code",
   "execution_count": null,
   "metadata": {},
   "outputs": [],
   "source": [
    "weights_0_1 = np.random.randn(10,5)"
   ]
  },
  {
   "cell_type": "code",
   "execution_count": null,
   "metadata": {},
   "outputs": [],
   "source": [
    "layer_0.dot(weights_0_1)"
   ]
  },
  {
   "cell_type": "code",
   "execution_count": null,
   "metadata": {},
   "outputs": [],
   "source": [
    "indices = [4,9]"
   ]
  },
  {
   "cell_type": "code",
   "execution_count": null,
   "metadata": {},
   "outputs": [],
   "source": [
    "layer_1 = np.zeros(5)"
   ]
  },
  {
   "cell_type": "code",
   "execution_count": null,
   "metadata": {},
   "outputs": [],
   "source": [
    "for index in indices:\n",
    "    layer_1 += (1 * weights_0_1[index])"
   ]
  },
  {
   "cell_type": "code",
   "execution_count": null,
   "metadata": {},
   "outputs": [],
   "source": [
    "layer_1"
   ]
  },
  {
   "cell_type": "code",
   "execution_count": null,
   "metadata": {},
   "outputs": [],
   "source": [
    "Image(filename='sentiment_network_sparse_2.png')"
   ]
  },
  {
   "cell_type": "code",
   "execution_count": null,
   "metadata": {},
   "outputs": [],
   "source": [
    "layer_1 = np.zeros(5)"
   ]
  },
  {
   "cell_type": "code",
   "execution_count": null,
   "metadata": {},
   "outputs": [],
   "source": [
    "for index in indices:\n",
    "    layer_1 += (weights_0_1[index])"
   ]
  },
  {
   "cell_type": "code",
   "execution_count": null,
   "metadata": {},
   "outputs": [],
   "source": [
    "layer_1"
   ]
  },
  {
   "cell_type": "markdown",
   "metadata": {},
   "source": [
    "# 项目 5：提高网络效率<a id='project_5'></a>\n",
    "**待办：** 删除前向传播和反向传播造成的冗余相乘和相加，从而提高类 `SentimentNetwork` 的效率，为此，可进行如下操作：\n",
    "* 将上一个项目的类 `SentimentNetwork` 复制到下方代码框中。\n",
    "* 删除函数 `update_input_layer`——本版本不需要该函数。\n",
    "* 修改 `init_network`；\n",
    ">* 因为你已经不需要单独的输入层了，所以删除任何与 `self.layer_0` 有关的内容\n",
    ">* 因为你要更直接地处理之前的隐藏层，所以要创建一个二维矩阵 `self.layer_1`，使其形状为 1 x hidden_nodes，并将其所有值初始化为 0。\n",
    "* 修改 `train`：\n",
    ">* 将输入参数名从 `training_reviews` 改为 `training_reviews_raw`，为下一步做好准备。\n",
    ">* 你需要在函数开头部分对评论进行预处理，将其转换成一张索引列表，其中的索引（源自 `word2index` ）是在评论中真正出现过的，这与 Andrew 在视频中将具体索引设为 1 的操作有异曲同工之妙。你应该用代码创建一个局部的`列表`变量 `training_reviews`，对于 `training_reviews_raw` 中的 每一条评论，该变量都会建立一个与之相关的列表，而这些列表应包含在评论里出现过的单词的索引。\n",
    ">* 取消对函数 `update_input_layer` 的调用。\n",
    ">* 在前向传播部分，将更新 `layer_1` 的代码替换为新的逻辑代码，只为在评论里出现过的索引添加权重。\n",
    ">* 更新 `weights_0_1` 时，只更新用于前向传播的各权重。\n",
    "* 修改 `run`；\n",
    ">* 取消对函数 `update_input_layer` 的调用。\n",
    ">* 使用 `self` 的 `layer_1` 而非局部的 `layer_1` 对象。\n",
    ">* 和修改 `train` 一样，你需要对 `评论` 进行预处理，以便利用单词索引，然后给在评论中出现过的索引增加权重，从而对 `layer_1` 进行更新。"
   ]
  },
  {
   "cell_type": "code",
   "execution_count": null,
   "metadata": {},
   "outputs": [],
   "source": [
    "# TODO: -Copy the SentimentNetwork class from Project 4 lesson\n",
    "#       -Modify it according to the above instructions "
   ]
  },
  {
   "cell_type": "markdown",
   "metadata": {},
   "source": [
    "运行下方代码框，再次重建网络并对网络进行训练。"
   ]
  },
  {
   "cell_type": "code",
   "execution_count": null,
   "metadata": {},
   "outputs": [],
   "source": [
    "mlp = SentimentNetwork(reviews[:-1000],labels[:-1000], learning_rate=0.1)\n",
    "mlp.train(reviews[:-1000],labels[:-1000])"
   ]
  },
  {
   "cell_type": "markdown",
   "metadata": {},
   "source": [
    "训练效果应该比之前的要好得多了。运行下方代码框，用那一千条预测来测试你的模型。"
   ]
  },
  {
   "cell_type": "code",
   "execution_count": null,
   "metadata": {},
   "outputs": [],
   "source": [
    "mlp.test(reviews[-1000:],labels[-1000:])"
   ]
  },
  {
   "cell_type": "markdown",
   "metadata": {},
   "source": [
    "# 项目 5 到此结束。\n",
    "## 请进入下一个视频，观看  Andrew 的解决方案，然后继续学习下一课。\n",
    "# 进一步降噪<a id='lesson_6'></a>"
   ]
  },
  {
   "cell_type": "code",
   "execution_count": null,
   "metadata": {},
   "outputs": [],
   "source": [
    "Image(filename='sentiment_network_sparse_2.png')"
   ]
  },
  {
   "cell_type": "code",
   "execution_count": null,
   "metadata": {},
   "outputs": [],
   "source": [
    "# words most frequently seen in a review with a \"POSITIVE\" label\n",
    "pos_neg_ratios.most_common()"
   ]
  },
  {
   "cell_type": "code",
   "execution_count": null,
   "metadata": {},
   "outputs": [],
   "source": [
    "# words most frequently seen in a review with a \"NEGATIVE\" label\n",
    "list(reversed(pos_neg_ratios.most_common()))[0:30]"
   ]
  },
  {
   "cell_type": "code",
   "execution_count": null,
   "metadata": {},
   "outputs": [],
   "source": [
    "from bokeh.models import ColumnDataSource, LabelSet\n",
    "from bokeh.plotting import figure, show, output_file\n",
    "from bokeh.io import output_notebook\n",
    "output_notebook()"
   ]
  },
  {
   "cell_type": "code",
   "execution_count": null,
   "metadata": {},
   "outputs": [],
   "source": [
    "hist, edges = np.histogram(list(map(lambda x:x[1],pos_neg_ratios.most_common())), density=True, bins=100, normed=True)\n",
    "\n",
    "p = figure(tools=\"pan,wheel_zoom,reset,save\",\n",
    "           toolbar_location=\"above\",\n",
    "           title=\"Word Positive/Negative Affinity Distribution\")\n",
    "p.quad(top=hist, bottom=0, left=edges[:-1], right=edges[1:], line_color=\"#555555\")\n",
    "show(p)"
   ]
  },
  {
   "cell_type": "code",
   "execution_count": null,
   "metadata": {},
   "outputs": [],
   "source": [
    "frequency_frequency = Counter()\n",
    "\n",
    "for word, cnt in total_counts.most_common():\n",
    "    frequency_frequency[cnt] += 1"
   ]
  },
  {
   "cell_type": "code",
   "execution_count": null,
   "metadata": {},
   "outputs": [],
   "source": [
    "hist, edges = np.histogram(list(map(lambda x:x[1],frequency_frequency.most_common())), density=True, bins=100, normed=True)\n",
    "\n",
    "p = figure(tools=\"pan,wheel_zoom,reset,save\",\n",
    "           toolbar_location=\"above\",\n",
    "           title=\"The frequency distribution of the words in our corpus\")\n",
    "p.quad(top=hist, bottom=0, left=edges[:-1], right=edges[1:], line_color=\"#555555\")\n",
    "show(p)"
   ]
  },
  {
   "cell_type": "markdown",
   "metadata": {},
   "source": [
    "# 项目 6：有策略地删减词汇，进行降噪<a id='project_6'></a>\n",
    "\n",
    "**待办：** 进一步减小词汇表的噪声，以便提高 `SentimentNetwork` 的性能，具体操作如下：\n",
    "* 将在之前项目里创建的类 `SentimentNetwork` 复制到下方代码框中。\n",
    "* 修改  `pre_process_data`；\n",
    ">* 新增两个参数：`min_count` 和 `polarity_cutoff`\n",
    ">* 计算在评论中出现的单词的正面评价/负面评价比。（你可以利用在 notebook 其它地方写下的代码，但跟之前那些辅助代码一样，我们要把代码放到本类中。）\n",
    ">* Andrew 的解决方案只计算了出现次数不少于 50 次的单词的正面评价/负面评价比，这样能防止网络赋予罕见单词太多的感情色彩，如果你喜欢，也可以在你的解决方案里添加这一步。\n",
    ">* 修改本函数，使单词只有在词汇表中出现次数大于 `min_count` 时才得以添加到词汇表中。\n",
    ">* 修改本函数，使单词只有在正面评价/负面评价比的绝对值不小于 `polarity_cutoff`时 才得以添加到词汇表中。\n",
    "* 修改 `__init__`：\n",
    ">* 还是新增那两个参数 (`min_count` 和 `polarity_cutoff`) 并在调用 `pre_process_data` 时使用它们。"
   ]
  },
  {
   "cell_type": "code",
   "execution_count": null,
   "metadata": {},
   "outputs": [],
   "source": [
    "# TODO: -Copy the SentimentNetwork class from Project 5 lesson\n",
    "#       -Modify it according to the above instructions "
   ]
  },
  {
   "cell_type": "markdown",
   "metadata": {},
   "source": [
    "运行下方代码框，用较小的 polarity cutoff 参数值来训练网络。"
   ]
  },
  {
   "cell_type": "code",
   "execution_count": null,
   "metadata": {},
   "outputs": [],
   "source": [
    "mlp = SentimentNetwork(reviews[:-1000],labels[:-1000],min_count=20,polarity_cutoff=0.05,learning_rate=0.01)\n",
    "mlp.train(reviews[:-1000],labels[:-1000])"
   ]
  },
  {
   "cell_type": "markdown",
   "metadata": {},
   "source": [
    "运行下方代码框以测试网络性能，结果应为"
   ]
  },
  {
   "cell_type": "code",
   "execution_count": null,
   "metadata": {},
   "outputs": [],
   "source": [
    "mlp.test(reviews[-1000:],labels[-1000:])"
   ]
  },
  {
   "cell_type": "markdown",
   "metadata": {},
   "source": [
    "运行下方代码框，用大许多的 polarity cutoff 参数值来训练网络。"
   ]
  },
  {
   "cell_type": "code",
   "execution_count": null,
   "metadata": {},
   "outputs": [],
   "source": [
    "mlp = SentimentNetwork(reviews[:-1000],labels[:-1000],min_count=20,polarity_cutoff=0.8,learning_rate=0.01)\n",
    "mlp.train(reviews[:-1000],labels[:-1000])"
   ]
  },
  {
   "cell_type": "markdown",
   "metadata": {},
   "source": [
    "运行下方代码框，测试网络性能。"
   ]
  },
  {
   "cell_type": "code",
   "execution_count": null,
   "metadata": {},
   "outputs": [],
   "source": [
    "mlp.test(reviews[-1000:],labels[-1000:])"
   ]
  },
  {
   "cell_type": "markdown",
   "metadata": {},
   "source": [
    "# 项目 6 到此结束。\n",
    "## 请进入下一个视频， 观看 Andrew 的解决方案，然后继续学习下一课。\n",
    "\n",
    "# 分析：权重怎么了？<a id='lesson_7'></a>"
   ]
  },
  {
   "cell_type": "code",
   "execution_count": null,
   "metadata": {},
   "outputs": [],
   "source": [
    "mlp_full = SentimentNetwork(reviews[:-1000],labels[:-1000],min_count=0,polarity_cutoff=0,learning_rate=0.01)"
   ]
  },
  {
   "cell_type": "code",
   "execution_count": null,
   "metadata": {},
   "outputs": [],
   "source": [
    "mlp_full.train(reviews[:-1000],labels[:-1000])"
   ]
  },
  {
   "cell_type": "code",
   "execution_count": null,
   "metadata": {},
   "outputs": [],
   "source": [
    "Image(filename='sentiment_network_sparse.png')"
   ]
  },
  {
   "cell_type": "code",
   "execution_count": null,
   "metadata": {},
   "outputs": [],
   "source": [
    "def get_most_similar_words(focus = \"horrible\"):\n",
    "    most_similar = Counter()\n",
    "\n",
    "    for word in mlp_full.word2index.keys():\n",
    "        most_similar[word] = np.dot(mlp_full.weights_0_1[mlp_full.word2index[word]],mlp_full.weights_0_1[mlp_full.word2index[focus]])\n",
    "    \n",
    "    return most_similar.most_common()"
   ]
  },
  {
   "cell_type": "code",
   "execution_count": null,
   "metadata": {},
   "outputs": [],
   "source": [
    "get_most_similar_words(\"excellent\")"
   ]
  },
  {
   "cell_type": "code",
   "execution_count": null,
   "metadata": {},
   "outputs": [],
   "source": [
    "get_most_similar_words(\"terrible\")"
   ]
  },
  {
   "cell_type": "code",
   "execution_count": null,
   "metadata": {},
   "outputs": [],
   "source": [
    "import matplotlib.colors as colors\n",
    "\n",
    "words_to_visualize = list()\n",
    "for word, ratio in pos_neg_ratios.most_common(500):\n",
    "    if(word in mlp_full.word2index.keys()):\n",
    "        words_to_visualize.append(word)\n",
    "    \n",
    "for word, ratio in list(reversed(pos_neg_ratios.most_common()))[0:500]:\n",
    "    if(word in mlp_full.word2index.keys()):\n",
    "        words_to_visualize.append(word)"
   ]
  },
  {
   "cell_type": "code",
   "execution_count": null,
   "metadata": {},
   "outputs": [],
   "source": [
    "pos = 0\n",
    "neg = 0\n",
    "\n",
    "colors_list = list()\n",
    "vectors_list = list()\n",
    "for word in words_to_visualize:\n",
    "    if word in pos_neg_ratios.keys():\n",
    "        vectors_list.append(mlp_full.weights_0_1[mlp_full.word2index[word]])\n",
    "        if(pos_neg_ratios[word] > 0):\n",
    "            pos+=1\n",
    "            colors_list.append(\"#00ff00\")\n",
    "        else:\n",
    "            neg+=1\n",
    "            colors_list.append(\"#000000\")"
   ]
  },
  {
   "cell_type": "code",
   "execution_count": null,
   "metadata": {},
   "outputs": [],
   "source": [
    "from sklearn.manifold import TSNE\n",
    "tsne = TSNE(n_components=2, random_state=0)\n",
    "words_top_ted_tsne = tsne.fit_transform(vectors_list)"
   ]
  },
  {
   "cell_type": "code",
   "execution_count": null,
   "metadata": {},
   "outputs": [],
   "source": [
    "p = figure(tools=\"pan,wheel_zoom,reset,save\",\n",
    "           toolbar_location=\"above\",\n",
    "           title=\"vector T-SNE for most polarized words\")\n",
    "\n",
    "source = ColumnDataSource(data=dict(x1=words_top_ted_tsne[:,0],\n",
    "                                    x2=words_top_ted_tsne[:,1],\n",
    "                                    names=words_to_visualize,\n",
    "                                    color=colors_list))\n",
    "\n",
    "p.scatter(x=\"x1\", y=\"x2\", size=8, source=source, fill_color=\"color\")\n",
    "\n",
    "word_labels = LabelSet(x=\"x1\", y=\"x2\", text=\"names\", y_offset=6,\n",
    "                  text_font_size=\"8pt\", text_color=\"#555555\",\n",
    "                  source=source, text_align='center')\n",
    "p.add_layout(word_labels)\n",
    "\n",
    "show(p)\n",
    "\n",
    "# green indicates positive words, black indicates negative words"
   ]
  }
 ],
 "metadata": {
  "kernelspec": {
   "display_name": "Python 3",
   "language": "python",
   "name": "python3"
  },
  "language_info": {
   "codemirror_mode": {
    "name": "ipython",
    "version": 3
   },
   "file_extension": ".py",
   "mimetype": "text/x-python",
   "name": "python",
   "nbconvert_exporter": "python",
   "pygments_lexer": "ipython3",
   "version": "3.7.3"
  }
 },
 "nbformat": 4,
 "nbformat_minor": 2
}
