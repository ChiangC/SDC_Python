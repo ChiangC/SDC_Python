{
 "cells": [
  {
   "cell_type": "markdown",
   "metadata": {},
   "source": [
    "# 交通信号灯分类器\n",
    "---\n",
    "\n",
    "在这个项目中，你将使用计算机视觉技术的知识为交通信号灯图像建立一个分类器！你会获得一个交通信号灯图像数据集，里面包含三种交通信号灯，即红灯、黄灯或绿灯，其中，三分之一的灯是亮起的。\n",
    "\n",
    "在该 notebook 中，你将对这些图像进行预处理，提取有助于我们区分不同类型图像的特征，并使用这些特征将交通信号灯图像分为三类：红灯、黄灯或绿灯。所有这些任务将会分解成几个部分：\n",
    "\n",
    "1. **加载和可视化数据**。\n",
    "      任何一种分类任务的第一步都是熟悉你的数据；在这里，你需要加载交通信号灯的图像并将其可视化！\n",
    "\n",
    "2. **预处理**。\n",
    "    输入的图像和输出的标签都需要是标准化的。通过这种方式，你可以使用相同的分类器分析所有输入的图像，并且知道在最终对一个*新*图像进行分类时需要输出什么样的图像。\n",
    "\n",
    "3. **特征提取**。\n",
    "    接下来，你需要从每幅图像中提取一些特征，从而帮助区分这些图像，并最终对这些图像进行分类。\n",
    "\n",
    "4. **进行分类，并将错误可视化**。\n",
    "     最后，你需要编写一个利用你提取的特征对*任何一个*交通信号灯图像进行分类的函数。该函数将输入一个图像，然后输出一个标签。你还会获得相关代码，用于确定分类模型的准确度。   \n",
    "\n",
    "5. **评估你的模型**。\n",
    "    要通过此项目，你的分类器的准确度必须 > 90％，并且不能将任何一个红灯归类为绿灯；你很可能需要通过更改现有特征或添加新特征来提高分类器的准确度。我也鼓励你多进行尝试，让准确度尽可能接近100％！\n",
    "\n",
    "以下是数据集中的一些示例图像（从左到右：红灯、绿灯与黄灯）：\n",
    "<img src=\"images/all_lights.png\" width=\"50%\" height=\"50%\">\n",
    "\n",
    "---\n",
    "### *以下是完成该项目所需了解的内容：*\n",
    "\n",
    "我们已经为你提供了一些模板代码，但你需要执行其他代码步骤才能成功完成此项目。任何一个通过此项目所需的代码的标题中都标有**'(IMPLEMENTATION)'**。在完成此项目时，你还需要回答一些关于你的思路的问题，这些问题在标题中都标有**'(QUESTION)'**。请务必回答所有问题，并根据 [项目审阅标准](https://review.udacity.com/#!/rubrics/1213/view) 检查你的代码，确保你完成了必要的几个分类步骤！\n",
    "\n",
    "你提交的项目将根据你提供的代码运行情况以及两个主要分类标准进行评估。\n",
    "提交的完整交通信号灯分类器应满足下面两个标准：\n",
    "1. **准确度超过90％**\n",
    "2. ***不要* 将任何一个红灯分类为绿灯**\n",
    "\n",
    "\n",
    "# 1. 加载交通信号灯数据集，并将其可视化\n",
    "\n",
    "这个交通信号灯数据集由3个类别1484个彩色图像组成，即红灯、黄灯和绿灯。与大多数人工获取的数据一样，该数据在这些类型之间的分布并不均匀，具体为：\n",
    "* 904个红色交通灯图像\n",
    "* 536个绿色交通灯图像\n",
    "* 44个黄色交通灯图像\n",
    "\n",
    "*注：所有图像都来自[麻省理工学院的无人驾驶课程](https://selfdrivingcars.mit.edu/)，并符合 [知识共享署名许可协议-相同方式共享 4.0 国际许可协议](https://creativecommons.org/licenses/by-sa/4.0/) 。*\n",
    "\n",
    "### 导入资源\n",
    "\n",
    "在开始编写项目代码之前，请导入你需要的库和资源。"
   ]
  },
  {
   "cell_type": "code",
   "execution_count": 1,
   "metadata": {},
   "outputs": [],
   "source": [
    "import cv2 # computer vision library\n",
    "import helpers # helper functions\n",
    "\n",
    "import random\n",
    "import numpy as np\n",
    "import matplotlib.pyplot as plt\n",
    "import matplotlib.image as mpimg # for loading in images\n",
    "\n",
    "%matplotlib inline"
   ]
  },
  {
   "cell_type": "markdown",
   "metadata": {},
   "source": [
    "## 训练并测试数据\n",
    "\n",
    "所有1484个交通信号灯图像被将分成训练数据集和测试数据集。\n",
    "\n",
    "* 这些图像中的80％是训练图像，供你在创建分类器时使用。\n",
    "* 其余20％是测试图像，用于测试分类器的准确度。\n",
    "* 所有图像都是含有3种信号灯的交通灯图像，其中有一盏灯是亮起的。\n",
    "\n",
    "## 定义图像目录\n",
    "\n",
    "首先，我们设置一些变量来跟踪这些图像的存储位置："
   ]
  },
  {
   "cell_type": "code",
   "execution_count": null,
   "metadata": {},
   "outputs": [],
   "source": [
    "#IMAGE_DIR_TRAINING: the directory where our training image data is stored\n",
    "#IMAGE_DIR_TEST: the directory where our test image data is stored\n"
   ]
  },
  {
   "cell_type": "code",
   "execution_count": 2,
   "metadata": {},
   "outputs": [],
   "source": [
    "# Image data directories\n",
    "IMAGE_DIR_TRAINING = \"traffic_light_images/training/\"\n",
    "IMAGE_DIR_TEST = \"traffic_light_images/test/\""
   ]
  },
  {
   "cell_type": "markdown",
   "metadata": {},
   "source": [
    "## 加载数据集\n",
    "\n",
    "这些前几行代码将对训练交通信号灯图像进行加载，并将其全部存储在变量`IMAGE_LIST`中。该列表包含图像及其相关标签（“红灯”，“黄灯”，“绿灯”）。\n",
    "\n",
    "我们建议你查看helpers.py文件中的`load_dataset`函数。这个函数可以为你提供一个很好的思路，即如何使用[glob 库](https://pymotw.com/2/glob/)从一个目录中读取大量图像文件。 `load_dataset`函数可以输入图像目录的名称，然后返回图像及其相关标签的列表。\n",
    "\n",
    "例如，`IMAGE_LIST`中的第一个图像标签对可以通过索引访问："
   ]
  },
  {
   "cell_type": "code",
   "execution_count": 3,
   "metadata": {
    "attributes": {
     "classes": [
      "IMAGE_LIST[0][:]```"
     ],
     "id": ""
    }
   },
   "outputs": [],
   "source": [
    "\n",
    "\n",
    "\n",
    "#```python\n",
    "# Using the load_dataset function in helpers.py\n",
    "# Load training data\n",
    "IMAGE_LIST = helpers.load_dataset(IMAGE_DIR_TRAINING)\n",
    "IMAGE_TEST_LIST_CH = helpers.load_dataset(IMAGE_DIR_TEST)"
   ]
  },
  {
   "cell_type": "markdown",
   "metadata": {},
   "source": [
    "## 可视化数据\n",
    "\n",
    "分析任何一个数据集的前两个步骤都是：1.加载数据；2.查看数据。看一看这些数据，你就会知道要在图像中寻找什么，需要处理什么样的噪音或不一致性等。这可以帮助你了解图像数据集，并且明白**了解数据集是对数据进行预测的一部分**。\n",
    "\n",
    "---\n",
    "### 将输入图像可视化\n",
    "\n",
    "将这些图像可视化，并对这些图像数据进行探究！编写代码，使其可以在`IMAGE_LIST`中显示图像：\n",
    "* 显示图像\n",
    "* 输出图像的形状\n",
    "* 输出相应的标签\n",
    "\n",
    "看一看是否可以显示出每种交通信号灯图像中的至少一种，即红灯，绿灯或黄灯，并查看它们的相似之处与差异之处。"
   ]
  },
  {
   "cell_type": "code",
   "execution_count": 4,
   "metadata": {},
   "outputs": [
    {
     "name": "stdout",
     "output_type": "stream",
     "text": [
      "Shape: (71, 30, 3)\n",
      "Label: yellow\n"
     ]
    },
    {
     "data": {
      "image/png": "[encoded data removed]",
      "text/plain": [
       "<Figure size 432x288 with 1 Axes>"
      ]
     },
     "metadata": {
      "needs_background": "light"
     },
     "output_type": "display_data"
    }
   ],
   "source": [
    "## TODO: Write code to display an image in IMAGE_LIST (try finding a yellow traffic light!)\n",
    "## TODO: Print out 1. The shape of the image and 2. The image's label\n",
    "\n",
    "# The first image in IMAGE_LIST is displayed below (without information about shape or label)\n",
    "selected_image = IMAGE_LIST[0][0]\n",
    "plt.imshow(selected_image)\n",
    "\n",
    "\n",
    "for i in range(len(IMAGE_LIST)):\n",
    "    if(\"yellow\" == IMAGE_LIST[i][1]):\n",
    "        print(\"Shape: \"+str(IMAGE_LIST[i][0].shape))\n",
    "        print(\"Label: \" + str(IMAGE_LIST[i][1]))\n",
    "        plt.imshow(IMAGE_LIST[i][0])\n",
    "        break;"
   ]
  },
  {
   "cell_type": "markdown",
   "metadata": {},
   "source": [
    "# 2. 预处理数据\n",
    "\n",
    "每个图像中加载完成后，你必须使输入和输出标准化！\n",
    "\n",
    "### 输入\n",
    "\n",
    "这意味着每个输入图像都应采用相同的格式，大小相同等。我们将通过对每个图像执行相同的分析来创建特征，对于这样的分类任务，重要的是**类似的图像创建类似的特征**！\n",
    "\n",
    "### 输出\n",
    "\n",
    "我们还需要将输出结果作为易于阅读且易于与其他标签进行比较的标签。将“红灯”和“绿灯”等分类数据转换为数字数据，这是一种不错的做法。\n",
    "\n",
    "一个非常常见的分类输出是一维列表，它是指分类数的长度：在红灯、黄灯和绿灯的情况下为3； 值为0或1表示某个图像是某一类。例如，由于我们有三个类（红灯、黄灯和绿灯），则可以按顺序列出一个列表：[红灯值，黄灯值，绿灯值]。一般来说，顺序无关紧要，在这种情况下，我们选择的顺序是[红灯值，黄灯值，绿灯值]，便于反映垂直顺序中每个灯的位置。\n",
    "\n",
    "红灯的标签应该是：[1,0,0]，黄灯应该是：[0，1，0]，绿灯应该是：[0，0，1]。这些标签被称为**独热编码标签**。\n",
    "\n",
    "*（注：使用 [机器学习算法 ](https://machinelearningmastery.com/how-to-one-hot-encode-sequence-data-in-python/)时，独热编码将尤为重要）。*\n",
    "\n",
    "<img src=\"images/processing_steps.png\" width=\"80%\" height=\"80%\">\n",
    "\n",
    "---\n",
    "<a id='task2'></a>\n",
    "### （实现）：使输入图像标准化\n",
    "\n",
    "* 将每个图像调整为所需的输入尺寸：32x32px。\n",
    "* （可选）你也可以选择在此步骤中对图像进行裁剪、移动或旋转。\n",
    "\n",
    "一种很常见的尺寸是可旋转的方形输入尺寸（且保持相同尺寸），并且以较小的方块进行分析。将所有图像制作成相同的尺寸，便于它们可以通过相同的分类器步骤进行发送，这一点也很重要！"
   ]
  },
  {
   "cell_type": "code",
   "execution_count": 5,
   "metadata": {},
   "outputs": [],
   "source": [
    "# This function should take in an RGB image and return a new, standardized version\n",
    "def standardize_input(image):\n",
    "    \n",
    "    ## TODO: Resize image and pre-process so that all \"standard\" images are the same size  \n",
    "    standard_im = np.copy(image)\n",
    "    standard_im = cv2.resize(standard_im, (32, 32))\n",
    "    return standard_im\n",
    "    "
   ]
  },
  {
   "cell_type": "markdown",
   "metadata": {},
   "source": [
    "## 标准化输出\n",
    "\n",
    "对于每个加载的图像，我们还指定了预期的输出。为此，我们使用**独热编码**。\n",
    "\n",
    "* 对标签进行独热编码。为此，请创建一个代表每类交通信号灯（红灯、黄灯、绿灯）的零数组，并将预期类别号的索引设置为1。\n",
    "\n",
    "由于我们有三类（红灯、黄灯和绿灯）交通信号灯图像，我们已经强制使用了一个顺序：[红灯值，黄灯值，绿灯值]。对于独热编码，例如黄灯，我们首先将数组初始化为[0,0,0]，然后将中间值（黄灯值）更改为1：[0,1,0]。\n",
    "\n",
    "---\n",
    "<a id='task3'></a>\n",
    "### （实现）：实现独热编码"
   ]
  },
  {
   "cell_type": "code",
   "execution_count": 6,
   "metadata": {},
   "outputs": [],
   "source": [
    "## TODO: One hot encode an image label\n",
    "## Given a label - \"red\", \"green\", or \"yellow\" - return a one-hot encoded label\n",
    "\n",
    "# Examples: \n",
    "# one_hot_encode(\"red\") should return: [1, 0, 0]\n",
    "# one_hot_encode(\"yellow\") should return: [0, 1, 0]\n",
    "# one_hot_encode(\"green\") should return: [0, 0, 1]\n",
    "\n",
    "def one_hot_encode(label):\n",
    "    \n",
    "    ## TODO: Create a one-hot encoded label that works for all classes of traffic lights\n",
    "    one_hot_encoded = [] \n",
    "    if \"red\" == label:\n",
    "        one_hot_encoded = [1, 0, 0] \n",
    "    elif \"yellow\" == label:\n",
    "        one_hot_encoded = [0, 1, 0]\n",
    "    elif \"green\" == label:\n",
    "        one_hot_encoded = [0, 0, 1]\n",
    "    return one_hot_encoded\n"
   ]
  },
  {
   "cell_type": "markdown",
   "metadata": {},
   "source": [
    "### 测试你的代码\n",
    "\n",
    "在对这样的函数完成编程之后，对它进行测试并查看它是否能够产生预期的输出。**一般来说，编写代码之后，最好在小的功能块中测试这些代码**。这样，不仅可以确保你的代码在继续构建分类器时是正确的，而且你也可以尽早地发现错误，以免它们混合。\n",
    "\n",
    "所有的测试代码都可以在文件`test_functions.py`中找到。如果你觉得有用的话，我们建议你查看该代码并添加自己的测试代码！\n",
    "\n",
    "你会在上述文件夹中看到一个测试函数：`test_one_hot(self, one_hot_function)`，它会输入一个参数，一个one_hot_encode函数，并测试该函数的函数性。如果你的one_hot_label代码无法按预期工作，则此测试将输出一条错误消息，告诉你一些关于代码失败的原因。你的代码开始运行后，应该输出TEST PASSED。"
   ]
  },
  {
   "cell_type": "code",
   "execution_count": 7,
   "metadata": {},
   "outputs": [
    {
     "data": {
      "text/markdown": [
       "**<span style=\"color: green;\">TEST PASSED</span>**"
      ],
      "text/plain": [
       "<IPython.core.display.Markdown object>"
      ]
     },
     "metadata": {},
     "output_type": "display_data"
    }
   ],
   "source": [
    "# Importing the tests\n",
    "import test_functions\n",
    "tests = test_functions.Tests()\n",
    "\n",
    "# Test for one_hot_encode function\n",
    "tests.test_one_hot(one_hot_encode)\n"
   ]
  },
  {
   "cell_type": "markdown",
   "metadata": {},
   "source": [
    "## 构建一个输入图像并输出标签的`STANDARDIZED_LIST` 函数。\n",
    "\n",
    "该函数会输入一个图像标签对列表，并输出一个已调整过大小的图像和独热编码标签的**标准化**列表。\n",
    "\n",
    "这需要使用你在上面定义的那个函数来使输入和输出标准化，所以这些函数必须完整才能使完成这次标准化工作！"
   ]
  },
  {
   "cell_type": "code",
   "execution_count": 8,
   "metadata": {},
   "outputs": [],
   "source": [
    "def standardize(image_list):\n",
    "    \n",
    "    # Empty image data array\n",
    "    standard_list = []\n",
    "\n",
    "    # Iterate through all the image-label pairs\n",
    "    for item in image_list:\n",
    "        image = item[0]\n",
    "        label = item[1]\n",
    "\n",
    "        # Standardize the image\n",
    "        standardized_im = standardize_input(image)\n",
    "\n",
    "        # One-hot encode the label\n",
    "        one_hot_label = one_hot_encode(label)    \n",
    "\n",
    "        # Append the image, and it's one hot encoded label to the full, processed list of image data \n",
    "        standard_list.append((standardized_im, one_hot_label))\n",
    "        \n",
    "    return standard_list\n",
    "\n",
    "# Standardize all training images\n",
    "STANDARDIZED_LIST = standardize(IMAGE_LIST)"
   ]
  },
  {
   "cell_type": "markdown",
   "metadata": {},
   "source": [
    "## 将标准化数据可视化\n",
    "\n",
    "显示来自STANDARDIZED_LIST的标准化图像，并将其与来自IMAGE_LIST的非标准化图像进行比较。请注意，它们的尺寸和外观是不同的！"
   ]
  },
  {
   "cell_type": "code",
   "execution_count": 9,
   "metadata": {},
   "outputs": [
    {
     "name": "stdout",
     "output_type": "stream",
     "text": [
      "Shape: (32, 32, 3)\n"
     ]
    },
    {
     "data": {
      "image/png": "[encoded data removed]",
      "text/plain": [
       "<Figure size 432x288 with 1 Axes>"
      ]
     },
     "metadata": {
      "needs_background": "light"
     },
     "output_type": "display_data"
    }
   ],
   "source": [
    "## TODO: Display a standardized image and its label\n",
    "plt.imshow(STANDARDIZED_LIST[0][0])\n",
    "print(\"Shape:\", str(STANDARDIZED_LIST[0][0].shape))"
   ]
  },
  {
   "cell_type": "markdown",
   "metadata": {},
   "source": [
    "# 3. 特征提取\n",
    "\n",
    "现在，你需要根据颜色空间、形状分析和特征构建方面的现有知识来创建特征，帮助区分和分类三种类型的交通信号灯图像。\n",
    "\n",
    "你需要创建至少**一项特征**（可选择创建更多特征）。必需的特征是**使用HSV颜色空间创建的亮度特征**：\n",
    "\n",
    "1. 亮度特征。\n",
    "    - 使用HSV颜色空间，创建一个特征，可用于帮你识别3种不同类别的交通信号灯。\n",
    "    - 稍后，你需要回答一个问题，即你刚刚试图用哪些方法来识别交通信号灯。所以，当你浏览这个notebook 时，需要一直思考你要使用的方法：什么方法有效，什么方法不可行？\n",
    "\n",
    "2. （可选）：创建更多特征！\n",
    "\n",
    "是否要创建更多特征，这取决于你，但是你创建的特征应该能提高交通信号灯分类算法的准确度！有一点需要注意的是，要通过这个项目，**绝不能将任何一个红灯归类为绿灯**，因为这会对无人驾驶汽车造成严重的安全风险。为了避免这种错误分类，你可以考虑添加另一个特别区分红灯和绿灯的特征。\n",
    "\n",
    "这些特征将会被合并在这个 notebook 的末尾处，从而形成一个完整的分类算法。\n",
    "\n",
    "## 创建亮度特征 \n",
    "\n",
    "创建亮度特征的方法有很多。亮度特征可以帮助你表示交通信号灯的图像特征。决定完成亮度特征创建的最佳步骤将由你来定。你应该随时查看并测试你的代码。\n",
    "\n",
    "下图是一个用于创建亮度特征（从左到右：标准化图像、HSV彩色图像、裁剪图像、亮度特征）的示例步骤：\n",
    "\n",
    "<img src=\"images/feature_ext_steps.png\" width=\"70%\" height=\"70%\">\n",
    "\n",
    "\n",
    "## RGB到HSV的转换\n",
    "\n",
    "下面，将测试图像从RGB转换为HSV颜色空间，并将每个组件显示在图像中。"
   ]
  },
  {
   "cell_type": "code",
   "execution_count": 10,
   "metadata": {
    "scrolled": true
   },
   "outputs": [
    {
     "name": "stdout",
     "output_type": "stream",
     "text": [
      "Label [red, yellow, green]: [1, 0, 0]\n",
      "V shape:32\n"
     ]
    },
    {
     "data": {
      "text/plain": [
       "<matplotlib.image.AxesImage at 0x1f643e48198>"
      ]
     },
     "execution_count": 10,
     "metadata": {},
     "output_type": "execute_result"
    },
    {
     "data": {
      "image/png": "[encoded data removed]",
      "text/plain": [
       "<Figure size 1440x720 with 4 Axes>"
      ]
     },
     "metadata": {
      "needs_background": "light"
     },
     "output_type": "display_data"
    }
   ],
   "source": [
    "# Convert and image to HSV colorspace\n",
    "# Visualize the individual color channels\n",
    "\n",
    "image_num = 0#red\n",
    "#image_num = 800#green\n",
    "#image_num = 730#yellow\n",
    "test_im = STANDARDIZED_LIST[image_num][0]\n",
    "test_label = STANDARDIZED_LIST[image_num][1]\n",
    "\n",
    "# Convert to HSV\n",
    "hsv = cv2.cvtColor(test_im, cv2.COLOR_RGB2HSV)\n",
    "\n",
    "# Print image label\n",
    "print('Label [red, yellow, green]: ' + str(test_label))\n",
    "\n",
    "# HSV channels\n",
    "h = hsv[:,:,0]\n",
    "s = hsv[:,:,1]\n",
    "v = hsv[:,:,2]\n",
    "\n",
    "print(\"V shape:\"+str(v.shape[0]))\n",
    "\n",
    "# Plot the original image and the three channels\n",
    "f, (ax1, ax2, ax3, ax4) = plt.subplots(1, 4, figsize=(20,10))\n",
    "ax1.set_title('Standardized image')\n",
    "ax1.imshow(test_im)\n",
    "ax2.set_title('H channel')\n",
    "ax2.imshow(h, cmap='gray')\n",
    "# ax2.imshow(h)\n",
    "ax3.set_title('S channel')\n",
    "ax3.imshow(s, cmap='gray')\n",
    "ax4.set_title('V channel')\n",
    "ax4.imshow(v, cmap='gray')\n"
   ]
  },
  {
   "cell_type": "code",
   "execution_count": 11,
   "metadata": {},
   "outputs": [
    {
     "data": {
      "text/plain": [
       "<matplotlib.image.AxesImage at 0x1f64406c5c0>"
      ]
     },
     "execution_count": 11,
     "metadata": {},
     "output_type": "execute_result"
    },
    {
     "data": {
      "image/png": "[encoded data removed]",
      "text/plain": [
       "<Figure size 432x288 with 1 Axes>"
      ]
     },
     "metadata": {
      "needs_background": "light"
     },
     "output_type": "display_data"
    }
   ],
   "source": [
    "# lower_hsv = np.array([0, 0, 0])                                      \n",
    "# high_hsv = np.array([168, 168, 168])                       \n",
    "                     \n",
    "# mask = cv2.inRange(hsv, lowerb = lower_hsv, upperb = high_hsv)\n",
    "# plt.imshow(mask, cmap='gray')\n",
    "\n",
    "lower_hsv = np.array([0, 0, 0])                                      \n",
    "high_hsv = np.array([180, 180, 180])                    \n",
    "\n",
    "mask = cv2.inRange(test_im, lowerb = lower_hsv, upperb = high_hsv)\n",
    "masked_image = np.copy(test_im)\n",
    "\n",
    "masked_image[mask != 0] = [0, 0, 0]\n",
    "plt.imshow(masked_image)    "
   ]
  },
  {
   "cell_type": "markdown",
   "metadata": {},
   "source": [
    "---\n",
    "<a id='task7'></a>\n",
    "### （实现）：创建一个使用HSV颜色空间的亮度特征\n",
    "\n",
    "编写一个函数，它会输入一张RGB图像并返回一个一维特征矢量和/或单值，这有助于对交通信号灯图像进行分类。唯一的要求是该函数应该应用HSV颜色空间转换，其余的由你来决定。\n",
    "\n",
    "通过此函数，你应该能够判断一张图像的标签，并将其分类为红灯、绿灯或黄灯。如果辅助函数能够简化你的代码，你也可以定义几个辅助函数。"
   ]
  },
  {
   "cell_type": "code",
   "execution_count": 12,
   "metadata": {},
   "outputs": [
    {
     "name": "stdout",
     "output_type": "stream",
     "text": [
      "测试：=================================\n",
      "brightness avg:[90.33333333333333, 68.98518518518519, 7.446666666666666], Label:red\n",
      "brightness avg:[19.610101744186046, 12.783066860465116, 32.4921875], Label:red\n",
      "brightness avg:[117.12153846153846, 36.315384615384616, 54.41168091168091], Label:red\n",
      "brightness avg:[83.06, 9.79, 0.0], Label:red\n",
      "brightness avg:[61.238461538461536, 0.0, 0.0], Label:red\n",
      "brightness avg:[142.01111111111112, 0.0, 0.0], Label:red\n",
      "brightness avg:[219.23886639676113, 131.21255060728745, 99.63562753036437], Label:red\n",
      "brightness avg:[152.36032388663966, 42.469635627530366, 20.13765182186235], Label:red\n",
      "brightness avg:[237.39518633540374, 166.791149068323, 122.18440779610195], Label:red\n",
      "brightness avg:[134.44444444444446, 18.632478632478634, 25.82905982905983], Label:red\n",
      "brightness avg:[136.41358024691357, 0.0, 0.0], Label:red\n",
      "brightness avg:[13.914529914529915, 33.782051282051285, 0.0], Label:red\n",
      "brightness avg:[108.589774078478, 21.161712247324612, 6.345939933259177], Label:red\n",
      "brightness avg:[86.7625, 0.0, 0.0], Label:red\n",
      "brightness avg:[222.90338164251207, 146.6425120772947, 91.5695652173913], Label:red\n",
      "brightness avg:[70.5046904315197, 9.304878048780488, 11.220383275261325], Label:red\n",
      "brightness avg:[85.89090909090909, 22.045454545454547, 0.0], Label:red\n",
      "brightness avg:[63.27878787878788, 8.23030303030303, 0.0], Label:red\n",
      "brightness avg:[46.92916666666667, 18.208333333333332, 21.383333333333333], Label:red\n",
      "brightness avg:[123.8406432748538, 68.2266081871345, 67.80291005291005], Label:red\n",
      "brightness avg:[77.11904761904762, 40.897619047619045, 36.90966386554622], Label:red\n",
      "brightness avg:[195.59722222222223, 70.23379629629629, 66.53508771929825], Label:red\n",
      "brightness avg:[130.70909090909092, 11.372727272727273, 50.43478260869565], Label:red\n",
      "brightness avg:[215.91666666666666, 45.8525641025641, 32.59384615384615], Label:red\n",
      "brightness avg:[132.92727272727274, 13.393939393939394, 1.8871794871794871], Label:red\n",
      "brightness avg:[188.62962962962962, 48.5, 41.13227513227513], Label:red\n",
      "brightness avg:[176.70833333333334, 31.23611111111111, 46.65384615384615], Label:red\n",
      "brightness avg:[141.26739926739927, 76.06959706959707, 58.02302459445317], Label:red\n",
      "brightness avg:[93.52884615384616, 9.615384615384615, 0.0], Label:red\n",
      "brightness avg:[130.17032967032966, 60.48194662480377, 70.29883381924198], Label:red\n",
      "brightness avg:[220.51379310344828, 114.66379310344827, 144.2512315270936], Label:red\n",
      "brightness avg:[186.9436090225564, 78.87781954887218, 73.70488721804512], Label:red\n",
      "brightness avg:[60.863324175824175, 37.145604395604394, 48.35769230769231], Label:red\n",
      "brightness avg:[0.0, 0.0, 0.0], Label:red\n",
      "brightness avg:[200.44444444444446, 22.733333333333334, 23.88888888888889], Label:red\n",
      "brightness avg:[107.48743386243386, 22.09656084656085, 5.676883780332056], Label:red\n",
      "brightness avg:[107.72551724137931, 18.702758620689654, 3.963225806451613], Label:red\n",
      "brightness avg:[137.4281045751634, 0.0, 0.0], Label:red\n",
      "brightness avg:[77.35833333333333, 0.0, 0.0], Label:red\n",
      "brightness avg:[128.37394957983193, 69.59348739495799, 110.33772819472617], Label:red\n",
      "brightness avg:[181.64285714285714, 50.86507936507937, 48.80701754385965], Label:red\n",
      "brightness avg:[191.640522875817, 98.42265795206971, 107.20576131687243], Label:red\n",
      "brightness avg:[16.55925925925926, 0.0, 0.0], Label:red\n",
      "brightness avg:[91.14619883040936, 27.260233918128655, 43.18005540166205], Label:red\n",
      "brightness avg:[122.84704184704185, 50.64502164502164, 48.68109668109668], Label:red\n",
      "brightness avg:[148.475, 0.0, 1.525], Label:red\n",
      "brightness avg:[79.7940108892922, 26.11070780399274, 10.985087719298246], Label:red\n",
      "brightness avg:[231.44708994708995, 102.29629629629629, 62.08201058201058], Label:red\n",
      "brightness avg:[181.65450310559007, 83.33462732919254, 93.34057971014492], Label:red\n",
      "brightness avg:[121.95923913043478, 17.19836956521739, 0.0], Label:red\n",
      "brightness avg:[93.39855072463769, 5.483091787439614, 14.379227053140097], Label:red\n",
      "brightness avg:[227.2722222222222, 115.71111111111111, 51.93888888888889], Label:red\n",
      "brightness avg:[96.35450695704779, 27.36055656382335, 13.189352692075015], Label:red\n",
      "brightness avg:[55.3012987012987, 26.955844155844154, 30.335403726708076], Label:red\n",
      "brightness avg:[67.60666666666667, 2.5933333333333333, 0.0], Label:red\n",
      "brightness avg:[221.8015873015873, 99.13492063492063, 45.92142857142857], Label:red\n",
      "brightness avg:[100.025, 13.75, 0.0], Label:red\n",
      "brightness avg:[154.83675675675676, 57.63675675675675, 19.058212058212057], Label:red\n",
      "brightness avg:[179.24137931034483, 65.16515426497277, 68.50862068965517], Label:red\n",
      "brightness avg:[97.5840909090909, 26.345454545454544, 40.95454545454545], Label:red\n",
      "brightness avg:[120.6304012345679, 52.35725308641975, 62.045524691358025], Label:red\n",
      "brightness avg:[133.3834422657952, 64.29702251270879, 73.35835023664639], Label:red\n",
      "brightness avg:[183.43962848297213, 31.473684210526315, 25.04093567251462], Label:red\n",
      "brightness avg:[138.93, 8.8675, 0.8738095238095238], Label:red\n",
      "brightness avg:[100.43359375, 7.74609375, 0.0], Label:red\n",
      "brightness avg:[84.67724867724868, 0.0, 0.0], Label:red\n",
      "brightness avg:[120.71604938271605, 22.530864197530864, 0.0], Label:red\n",
      "brightness avg:[116.31481481481481, 10.944444444444445, 15.61111111111111], Label:red\n",
      "brightness avg:[90.48639455782313, 7.639455782312925, 0.0], Label:red\n",
      "brightness avg:[67.3449074074074, 10.381944444444445, 0.0], Label:red\n",
      "brightness avg:[88.99961729812476, 28.319938767699963, 0.5384055333090645], Label:red\n",
      "brightness avg:[116.38593030900724, 24.643655489809337, 30.086303939962477], Label:red\n",
      "brightness avg:[134.3494983277592, 64.68450390189521, 55.323913043478264], Label:red\n",
      "brightness avg:[21.234294688749287, 0.0, 0.0], Label:red\n",
      "brightness avg:[64.11923076923077, 0.0, 0.0], Label:red\n",
      "brightness avg:[36.36363636363637, 12.041322314049587, 0.0], Label:red\n",
      "brightness avg:[98.03238866396761, 21.356275303643724, 19.530364372469634], Label:red\n",
      "brightness avg:[148.88486842105263, 18.49671052631579, 78.07236842105263], Label:red\n",
      "brightness avg:[125.10239651416121, 54.19389978213508, 55.37816764132553], Label:red\n",
      "brightness avg:[164.81736909323115, 49.839080459770116, 51.54661558109834], Label:red\n",
      "brightness avg:[206.86363636363637, 147.9090909090909, 63.53333333333333], Label:red\n",
      "brightness avg:[57.81318681318681, 30.934065934065934, 32.785714285714285], Label:red\n",
      "brightness avg:[137.5094752186589, 58.79081632653061, 76.85860058309038], Label:red\n",
      "brightness avg:[72.13131313131314, 8.742424242424242, 1.0], Label:red\n",
      "brightness avg:[200.47666666666666, 48.665, 48.12461538461538], Label:red\n",
      "brightness avg:[164.2, 0.0, 0.0], Label:red\n",
      "brightness avg:[82.7094017094017, 27.384615384615383, 2.9846153846153847], Label:red\n",
      "brightness avg:[189.60180995475113, 51.63800904977376, 32.32773109243698], Label:red\n",
      "brightness avg:[157.46524064171123, 77.38680926916221, 96.7843137254902], Label:red\n",
      "brightness avg:[111.925, 0.4775, 3.9833333333333334], Label:red\n",
      "brightness avg:[101.1139455782313, 0.9387755102040817, 0.0], Label:red\n",
      "brightness avg:[91.1159420289855, 17.695652173913043, 8.933503836317136], Label:red\n",
      "brightness avg:[220.9155701754386, 126.14802631578948, 146.82287449392712], Label:red\n",
      "brightness avg:[115.09649122807018, 17.07017543859649, 17.0], Label:red\n",
      "brightness avg:[106.4794921875, 14.9814453125, 12.917279411764707], Label:red\n",
      "brightness avg:[114.79861111111111, 21.84027777777778, 0.0], Label:red\n",
      "brightness avg:[34.308519437551695, 16.774193548387096, 30.486765922249795], Label:red\n",
      "brightness avg:[153.640522875817, 26.326797385620914, 71.2156862745098], Label:red\n",
      "brightness avg:[40.078048780487805, 3.051219512195122, 0.0], Label:red\n",
      "brightness avg:[84.07466666666667, 13.152, 14.0675], Label:red\n",
      "brightness avg:[97.20238095238095, 3.3541666666666665, 1.1076254826254825], Label:red\n",
      "brightness avg:[173.63227513227514, 16.015873015873016, 7.65], Label:red\n",
      "brightness avg:[90.47552447552448, 0.0, 0.0], Label:red\n",
      "brightness avg:[216.03619909502262, 112.60407239819004, 134.90811965811966], Label:red\n",
      "brightness avg:[222.65656565656565, 175.58080808080808, 154.0956937799043], Label:red\n",
      "brightness avg:[122.35990338164251, 0.0, 0.0], Label:red\n",
      "brightness avg:[59.10357142857143, 13.389285714285714, 22.613333333333333], Label:red\n",
      "brightness avg:[64.83928571428571, 7.707142857142857, 0.0], Label:red\n",
      "brightness avg:[167.92929292929293, 6.08080808080808, 9.595959595959595], Label:red\n",
      "brightness avg:[51.64358974358974, 2.523076923076923, 0.0], Label:red\n",
      "brightness avg:[96.60837438423646, 36.85406403940887, 23.531510107015457], Label:red\n",
      "brightness avg:[57.69007936507936, 18.644444444444446, 31.565079365079367], Label:red\n",
      "brightness avg:[88.69444444444444, 17.305555555555557, 0.0], Label:red\n",
      "brightness avg:[106.00109649122807, 22.26864035087719, 13.472587719298245], Label:red\n",
      "brightness avg:[60.364583333333336, 4.169642857142857, 0.0], Label:red\n",
      "brightness avg:[229.49122807017545, 197.7280701754386, 204.3234126984127], Label:red\n",
      "brightness avg:[118.53030303030303, 64.12587412587412, 93.28395061728395], Label:red\n",
      "brightness avg:[126.91666666666667, 0.0, 0.0], Label:red\n",
      "brightness avg:[231.07142857142858, 99.3952380952381, 91.62063492063493], Label:red\n",
      "brightness avg:[65.7511961722488, 30.492822966507177, 30.8133971291866], Label:red\n",
      "brightness avg:[117.74166666666666, 0.0, 0.0], Label:red\n",
      "brightness avg:[148.03806228373702, 3.3771626297577853, 0.0], Label:red\n",
      "brightness avg:[138.6143790849673, 0.0, 0.0], Label:red\n",
      "brightness avg:[147.25277777777777, 44.480555555555554, 17.63888888888889], Label:red\n",
      "brightness avg:[71.9228650137741, 8.52754820936639, 17.112373737373737], Label:red\n",
      "brightness avg:[219.91875, 212.16875, 216.51470588235293], Label:red\n",
      "brightness avg:[41.49583333333333, 8.448611111111111, 0.0], Label:red\n",
      "brightness avg:[21.96938775510204, 0.0, 0.0], Label:red\n",
      "brightness avg:[75.62299465240642, 3.820855614973262, 0.0], Label:red\n",
      "brightness avg:[217.79, 199.4975, 204.75058823529412], Label:red\n",
      "brightness avg:[192.5, 45.99470899470899, 43.76190476190476], Label:red\n",
      "brightness avg:[136.4265734265734, 44.37762237762238, 62.83216783216783], Label:red\n",
      "brightness avg:[54.8421875, 0.0, 0.0], Label:red\n",
      "brightness avg:[220.2816091954023, 103.955938697318, 48.87295825771325], Label:red\n",
      "brightness avg:[110.64583333333333, 15.36111111111111, 0.0], Label:red\n",
      "brightness avg:[42.86363636363637, 5.130681818181818, 2.0794270833333335], Label:red\n",
      "brightness avg:[218.70289855072463, 140.85507246376812, 81.38215102974829], Label:red\n",
      "brightness avg:[154.42382445141067, 74.36802507836991, 91.29384164222874], Label:red\n",
      "brightness avg:[95.16975308641975, 0.2839506172839506, 0.0], Label:red\n",
      "brightness avg:[74.32417582417582, 0.0, 0.0], Label:red\n",
      "brightness avg:[88.46349206349207, 16.62857142857143, 2.365079365079365], Label:red\n",
      "brightness avg:[137.31172839506172, 0.0, 0.0], Label:red\n",
      "brightness avg:[86.63235294117646, 0.0, 0.0], Label:red\n",
      "brightness avg:[104.27149321266968, 12.868778280542987, 4.840336134453781], Label:red\n",
      "brightness avg:[110.75816993464052, 20.209150326797385, 28.515432098765434], Label:red\n",
      "brightness avg:[222.9, 202.22826086956522, 206.91458333333333], Label:red\n",
      "brightness avg:[78.89596273291926, 39.69875776397515, 49.75595238095238], Label:red\n",
      "brightness avg:[187.58529411764707, 37.39411764705882, 36.43235294117647], Label:red\n",
      "brightness avg:[182.98039215686273, 44.32156862745098, 43.11029411764706], Label:red\n",
      "brightness avg:[79.82307692307693, 2.1826923076923075, 0.0], Label:red\n",
      "brightness avg:[128.75555555555556, 4.155555555555556, 0.0], Label:red\n",
      "brightness avg:[59.58974358974359, 10.384615384615385, 11.978461538461538], Label:red\n",
      "brightness avg:[119.36029411764706, 65.41360294117646, 74.51838235294117], Label:red\n",
      "brightness avg:[44.31156462585034, 2.804081632653061, 0.0], Label:red\n",
      "brightness avg:[203.1027777777778, 49.705555555555556, 36.386842105263156], Label:red\n",
      "brightness avg:[126.3030303030303, 0.0, 0.0], Label:red\n",
      "brightness avg:[104.14367816091954, 22.26309067688378, 7.66358024691358], Label:red\n",
      "brightness avg:[72.60551724137932, 40.43655172413793, 55.48], Label:red\n",
      "brightness avg:[136.40865384615384, 5.453525641025641, 23.37846153846154], Label:red\n",
      "brightness avg:[89.7827380952381, 21.208333333333332, 16.838541666666668], Label:red\n",
      "brightness avg:[87.65384615384616, 24.027972027972027, 39.17832167832168], Label:red\n",
      "brightness avg:[101.41806020066889, 42.59531772575251, 34.84280936454849], Label:red\n",
      "brightness avg:[140.27777777777777, 0.0, 0.0], Label:red\n",
      "brightness avg:[92.26262626262626, 0.0, 0.0], Label:red\n",
      "brightness avg:[76.53639846743295, 21.4272030651341, 2.707803992740472], Label:red\n",
      "brightness avg:[51.83609022556391, 0.0, 0.0], Label:red\n",
      "brightness avg:[40.35064935064935, 0.0, 0.0], Label:red\n",
      "brightness avg:[199.47058823529412, 120.22128851540616, 91.04621848739495], Label:red\n",
      "brightness avg:[118.01503759398496, 0.9398496240601504, 0.0], Label:red\n",
      "brightness avg:[175.40833333333333, 56.666666666666664, 85.26666666666667], Label:red\n",
      "brightness avg:[189.03439153439155, 49.05820105820106, 49.06265664160401], Label:red\n",
      "brightness avg:[124.84642857142858, 74.48214285714286, 75.61111111111111], Label:red\n",
      "brightness avg:[90.04273504273505, 16.858974358974358, 8.321153846153846], Label:red\n",
      "brightness avg:[192.1, 44.811764705882354, 39.09736842105263], Label:red\n",
      "brightness avg:[48.036764705882355, 3.623529411764706, 0.0], Label:red\n",
      "brightness avg:[223.1435185185185, 155.58564814814815, 92.45416666666667], Label:red\n",
      "brightness avg:[217.265350877193, 151.79166666666666, 78.51535087719299], Label:red\n",
      "brightness avg:[67.64615384615385, 16.323076923076922, 0.0], Label:red\n",
      "brightness avg:[100.64333333333333, 12.033333333333333, 5.7], Label:red\n",
      "brightness avg:[146.5561877667141, 73.1778093883357, 91.85405405405406], Label:red\n",
      "brightness avg:[114.25106837606837, 49.69337606837607, 40.526315789473685], Label:red\n",
      "brightness avg:[31.8875, 84.77916666666667, 4.552941176470588], Label:yellow\n",
      "brightness avg:[48.60511363636363, 44.00426136363637, 36.861979166666664], Label:yellow\n",
      "brightness avg:[38.54509803921569, 157.64705882352942, 37.294117647058826], Label:yellow\n",
      "brightness avg:[15.506666666666666, 114.98666666666666, 11.973333333333333], Label:yellow\n",
      "brightness avg:[24.52892561983471, 114.04132231404958, 38.19580419580419], Label:yellow\n",
      "brightness avg:[8.856187290969899, 118.31103678929766, 8.934782608695652], Label:yellow\n",
      "brightness avg:[56.88194444444444, 120.30902777777777, 48.31944444444444], Label:yellow\n",
      "brightness avg:[22.3710407239819, 78.51018099547511, 6.12962962962963], Label:yellow\n",
      "brightness avg:[9.25098814229249, 85.28656126482214, 98.7572463768116], Label:yellow\n",
      "brightness avg:[1.5538461538461539, 0.0, 42.92], Label:green\n",
      "brightness avg:[0.0, 2.635174418604651, 56.94113372093023], Label:green\n",
      "brightness avg:[0.0, 0.0, 35.910714285714285], Label:green\n",
      "brightness avg:[21.19851851851852, 7.362962962962963, 18.85754985754986], Label:green\n",
      "brightness avg:[11.528205128205128, 11.406410256410256, 41.26806526806527], Label:green\n",
      "brightness avg:[40.88156288156288, 34.04884004884005, 46.222610722610725], Label:green\n",
      "brightness avg:[0.0, 0.0, 14.787185354691076], Label:green\n",
      "brightness avg:[53.43282498184459, 32.95134350036311, 64.6078431372549], Label:green\n",
      "brightness avg:[20.144, 15.144, 63.72], Label:green\n",
      "brightness avg:[144.39814814814815, 79.05092592592592, 172.3095238095238], Label:green\n",
      "brightness avg:[80.24279835390946, 38.71399176954733, 84.6588693957115], Label:green\n",
      "brightness avg:[6.220779220779221, 5.311688311688312, 131.6813186813187], Label:green\n",
      "brightness avg:[5.236111111111111, 0.0, 73.89285714285714], Label:green\n",
      "brightness avg:[19.037037037037038, 0.0, 17.17283950617284], Label:green\n",
      "brightness avg:[187.30769230769232, 170.85207100591717, 204.6153846153846], Label:green\n",
      "brightness avg:[80.3452380952381, 26.351190476190474, 129.1904761904762], Label:green\n",
      "brightness avg:[180.67410714285714, 169.39732142857142, 204.625], Label:green\n",
      "brightness avg:[89.36413043478261, 44.016304347826086, 103.59661835748793], Label:green\n",
      "brightness avg:[0.0, 0.0, 69.76157082748948], Label:green\n",
      "brightness avg:[210.4715789473684, 183.70315789473685, 187.4821052631579], Label:green\n",
      "brightness avg:[0.0, 0.0, 52.66017316017316], Label:green\n",
      "brightness avg:[32.230555555555554, 15.869444444444444, 69.92328042328042], Label:green\n",
      "brightness avg:[47.27272727272727, 20.027272727272727, 156.30833333333334], Label:green\n",
      "brightness avg:[62.182203389830505, 52.88559322033898, 89.44430992736078], Label:green\n",
      "brightness avg:[102.3893214682981, 53.10066740823137, 85.66285119667013], Label:green\n",
      "brightness avg:[4.835164835164835, 0.0, 9.47278911564626], Label:green\n",
      "brightness avg:[0.0, 0.0, 77.54074074074074], Label:green\n",
      "brightness avg:[0.0, 0.0, 13.027459954233409], Label:green\n",
      "brightness avg:[47.25852272727273, 16.522727272727273, 58.65909090909091], Label:green\n",
      "brightness avg:[0.0, 0.0, 69.56153846153846], Label:green\n",
      "brightness avg:[107.00513573000734, 99.28539985326486, 192.20247083047357], Label:green\n",
      "brightness avg:[51.41607142857143, 46.288690476190474, 83.71071428571429], Label:green\n",
      "brightness avg:[7.3389423076923075, 7.805288461538462, 36.07905982905983], Label:green\n",
      "brightness avg:[25.971153846153847, 3.5384615384615383, 44.27350427350427], Label:green\n",
      "brightness avg:[42.99107142857143, 12.348214285714286, 75.36428571428571], Label:green\n",
      "brightness avg:[229.4798761609907, 211.08668730650155, 169.28529411764706], Label:green\n",
      "brightness avg:[0.0, 0.0, 126.80952380952381], Label:green\n",
      "brightness avg:[0.0, 0.0, 58.83613445378151], Label:green\n",
      "brightness avg:[0.0, 0.0, 20.258928571428573], Label:green\n",
      "brightness avg:[0.0, 0.0, 13.071111111111112], Label:green\n",
      "brightness avg:[39.65, 34.0, 70.02857142857142], Label:green\n",
      "brightness avg:[51.94074074074074, 10.933333333333334, 73.52592592592593], Label:green\n",
      "brightness avg:[0.0, 0.0, 75.85714285714286], Label:green\n",
      "brightness avg:[88.58928571428571, 77.03571428571429, 141.24603174603175], Label:green\n"
     ]
    },
    {
     "name": "stdout",
     "output_type": "stream",
     "text": [
      "brightness avg:[8.080882352941176, 0.0, 0.0], Label:green\n",
      "brightness avg:[196.71296296296296, 158.66666666666666, 190.2051282051282], Label:green\n",
      "brightness avg:[54.043800539083556, 47.389487870619945, 79.73975276512687], Label:green\n",
      "brightness avg:[6.274247491638796, 0.0, 14.879598662207357], Label:green\n",
      "brightness avg:[71.10955710955712, 23.181818181818183, 38.65440356744705], Label:green\n",
      "brightness avg:[63.9625, 22.0, 135.63333333333333], Label:green\n",
      "brightness avg:[97.95692307692308, 95.55538461538461, 140.57714285714286], Label:green\n",
      "brightness avg:[17.91346153846154, 0.0, 77.40833333333333], Label:green\n",
      "brightness avg:[48.09915966386555, 34.8235294117647, 180.3063492063492], Label:green\n",
      "brightness avg:[0.0, 0.0, 70.40816326530613], Label:green\n",
      "brightness avg:[64.16903225806452, 63.59483870967742, 111.13523573200993], Label:green\n",
      "brightness avg:[9.760416666666666, 0.0, 64.66666666666667], Label:green\n",
      "brightness avg:[9.019480519480519, 12.469696969696969, 92.32467532467533], Label:green\n",
      "brightness avg:[42.330357142857146, 20.776785714285715, 80.36507936507937], Label:green\n",
      "brightness avg:[0.0, 0.0, 44.02038043478261], Label:green\n",
      "brightness avg:[56.14401858304297, 43.78861788617886, 52.90137857900318], Label:green\n",
      "brightness avg:[67.5909090909091, 80.63636363636364, 134.47692307692307], Label:green\n",
      "brightness avg:[14.344693701466781, 10.814926660914582, 2.0117696511139136], Label:green\n",
      "brightness avg:[13.575438596491228, 0.0, 28.028070175438597], Label:green\n",
      "brightness avg:[0.0, 0.0, 12.183574879227054], Label:green\n",
      "brightness avg:[120.33986928104575, 105.96078431372548, 170.45315904139434], Label:green\n",
      "brightness avg:[227.64141414141415, 191.8661616161616, 148.02651515151516], Label:green\n",
      "brightness avg:[162.22096774193548, 66.23870967741935, 96.85560675883256], Label:green\n",
      "brightness avg:[107.77777777777777, 91.34858387799564, 193.93827160493828], Label:green\n",
      "brightness avg:[85.28541374474054, 71.0610098176718, 136.30995792426367], Label:green\n",
      "brightness avg:[49.60956521739131, 49.93304347826087, 74.8938127090301], Label:green\n",
      "brightness avg:[98.11355311355311, 85.85347985347985, 188.21245421245422], Label:green\n",
      "brightness avg:[0.0, 0.0, 140.42142857142858], Label:green\n",
      "brightness avg:[5.8307692307692305, 0.0, 109.78571428571429], Label:green\n",
      "brightness avg:[13.843720930232559, 13.948837209302326, 26.792558139534883], Label:green\n",
      "brightness avg:[65.09166666666667, 54.90833333333333, 175.74137931034483], Label:green\n",
      "brightness avg:[120.52307692307693, 33.723076923076924, 149.56410256410257], Label:green\n",
      "brightness avg:[51.06666666666667, 19.175, 143.40151515151516], Label:green\n",
      "brightness avg:[101.81632653061224, 65.34183673469387, 155.1875], Label:green\n",
      "brightness avg:[101.51121794871794, 70.0849358974359, 95.02175602175602], Label:green\n",
      "brightness avg:[0.0, 0.0, 137.92857142857142], Label:green\n",
      "brightness avg:[8.348765432098766, 6.643518518518518, 49.104166666666664], Label:green\n",
      "brightness avg:[17.535087719298247, 23.076023391812864, 101.76023391812865], Label:green\n",
      "brightness avg:[124.35353535353535, 144.07070707070707, 161.73737373737373], Label:green\n",
      "brightness avg:[94.15333333333334, 27.766666666666666, 57.65555555555556], Label:green\n",
      "brightness avg:[71.80193236714976, 45.34057971014493, 66.61739130434782], Label:green\n",
      "brightness avg:[0.0, 0.0, 74.74761904761905], Label:green\n",
      "brightness avg:[0.0, 0.0, 79.8961937716263], Label:green\n",
      "brightness avg:[94.75500770416025, 102.20390344119157, 198.09152542372883], Label:green\n",
      "brightness avg:[0.0, 0.0, 28.312403100775192], Label:green\n",
      "brightness avg:[23.0675, 7.89, 78.78], Label:green\n",
      "brightness avg:[42.075630252100844, 36.865546218487395, 148.62132352941177], Label:green\n",
      "brightness avg:[53.25529100529101, 57.53108465608466, 73.5925925925926], Label:green\n",
      "brightness avg:[52.147869674185465, 36.21637426900585, 91.95530492898914], Label:green\n",
      "brightness avg:[25.926666666666666, 0.0, 40.74], Label:green\n",
      "brightness avg:[42.67632850241546, 44.19565217391305, 104.98695652173913], Label:green\n",
      "brightness avg:[11.601706970128022, 6.112375533428165, 47.693693693693696], Label:green\n",
      "brightness avg:[211.453125, 197.41875, 194.96666666666667], Label:green\n",
      "brightness avg:[5.226890756302521, 5.282913165266106, 5.361344537815126], Label:green\n",
      "brightness avg:[84.93518518518519, 73.11018518518519, 158.68548387096774], Label:green\n",
      "brightness avg:[209.81025641025641, 201.4, 220.1822222222222], Label:green\n",
      "brightness avg:[75.44123931623932, 69.36004273504274, 93.69337606837607], Label:green\n",
      "brightness avg:[12.96358543417367, 0.0, 53.05263157894737], Label:green\n",
      "brightness avg:[26.757575757575758, 23.954545454545453, 126.07638888888889], Label:green\n",
      "brightness avg:[51.759197324414714, 37.5685618729097, 138.91185897435898], Label:green\n",
      "brightness avg:[84.4957264957265, 74.90598290598291, 140.82517482517483], Label:green\n",
      "brightness avg:[90.18161094224924, 88.11094224924013, 152.31534954407294], Label:green\n",
      "brightness avg:[47.24812030075188, 17.849624060150376, 17.448979591836736], Label:green\n"
     ]
    }
   ],
   "source": [
    "def avg_brightness_4_lights(rgb_image):\n",
    "    lower_hsv = np.array([0, 0, 0])                                      \n",
    "    high_hsv = np.array([180, 180, 180])                   \n",
    "\n",
    "    mask = cv2.inRange(rgb_image, lowerb = lower_hsv, upperb = high_hsv)\n",
    "    masked_image = np.copy(rgb_image)\n",
    "\n",
    "    masked_image[mask != 0] = [0, 0, 0]\n",
    "   \n",
    "    ## TODO: Convert image to HSV color space\n",
    "    hsv = cv2.cvtColor(masked_image, cv2.COLOR_RGB2HSV)\n",
    "    hsv = hsv[4:-4, 4:-4, :]\n",
    "    \n",
    "    v = hsv[:,:,2]\n",
    "\n",
    "    #将图片分为三部分，与红，黄，绿灯一一对应，再分别计算每一部分的HSV亮度平均值\n",
    "    slice_size = (int)(v.shape[0]/3)\n",
    "    sum_brightness_red = np.sum(v[0:slice_size])\n",
    "    sum_brightness_yellow = np.sum(v[slice_size:slice_size*2])\n",
    "    sum_brightness_green = np.sum(v[slice_size*2:])\n",
    "    \n",
    "#     print(\"V shape:\"+str(v.shape) + \", Slice size:\"+str(slice_size))\n",
    "    \n",
    "    #计算V平均值\n",
    "    red_light_v_avg = sum_brightness_red/(slice_size*hsv.shape[1])\n",
    "    yellow_light_v_avg = sum_brightness_yellow/(slice_size*hsv.shape[1])\n",
    "    green_light_v_avg = sum_brightness_green/((v.shape[0] - slice_size*2)*hsv.shape[1])\n",
    "    avgs = []\n",
    "    avgs.append(red_light_v_avg)\n",
    "    avgs.append(yellow_light_v_avg)\n",
    "    avgs.append(green_light_v_avg)\n",
    "    return avgs\n",
    "\n",
    "print(\"测试：=================================\")\n",
    "for i in range(len(IMAGE_TEST_LIST_CH)):\n",
    "    print(\"brightness avg:%s, Label:%s\" %(str(avg_brightness_4_lights(IMAGE_TEST_LIST_CH[i][0])), IMAGE_TEST_LIST_CH[i][1]))\n",
    "    "
   ]
  },
  {
   "cell_type": "code",
   "execution_count": 30,
   "metadata": {},
   "outputs": [],
   "source": [
    "## TODO: Create a brightness feature that takes in an RGB image and outputs a feature vector and/or value\n",
    "## This feature should use HSV colorspace values\n",
    "def create_feature(rgb_image):\n",
    "    lower_hsv = np.array([0, 0, 0])                                      \n",
    "    high_hsv = np.array([170, 170, 170])                   \n",
    "\n",
    "    mask = cv2.inRange(rgb_image, lowerb = lower_hsv, upperb = high_hsv)\n",
    "    masked_image = np.copy(rgb_image)\n",
    "\n",
    "    masked_image[mask != 0] = [0, 0, 0]\n",
    "   \n",
    "    ## TODO: Convert image to HSV color space\n",
    "    hsv = cv2.cvtColor(masked_image, cv2.COLOR_RGB2HSV)\n",
    "    hsv = hsv[4:-4, 7:-7, :]\n",
    "    ## TODO: Create and return a feature value and/or vector\n",
    "    v = hsv[:,:,2]\n",
    "\n",
    "    #将图片分为三部分，与红，黄，绿灯一一对应，再分别计算每一部分的HSV亮度平均值\n",
    "    slice_size = (int)(v.shape[0]/3)\n",
    "    sum_brightness_red = np.sum(v[0:slice_size])\n",
    "    sum_brightness_yellow = np.sum(v[slice_size:slice_size*2])\n",
    "    sum_brightness_green = np.sum(v[slice_size*2:])\n",
    "    \n",
    "    #计算V平均值\n",
    "    red_light_v_avg = sum_brightness_red/(slice_size*hsv.shape[1])\n",
    "    yellow_light_v_avg = sum_brightness_yellow/(slice_size*hsv.shape[1])\n",
    "    green_light_v_avg = sum_brightness_green/((v.shape[0] - slice_size*2)*hsv.shape[1])\n",
    "    \n",
    "    feature = [red_light_v_avg, yellow_light_v_avg, green_light_v_avg]\n",
    "\n",
    "    return feature\n",
    "\n",
    "\n"
   ]
  },
  {
   "cell_type": "markdown",
   "metadata": {},
   "source": [
    "## （可选）创建更多特征，用于帮助准确标记交通信号灯图像"
   ]
  },
  {
   "cell_type": "code",
   "execution_count": null,
   "metadata": {},
   "outputs": [],
   "source": [
    "# (Optional) Add more image analysis and create more features\n"
   ]
  },
  {
   "cell_type": "markdown",
   "metadata": {},
   "source": [
    "## （问题1）：你创建的特征如何帮你区分这3类交通信号灯图像？\n",
    "\n",
    "**答案：**\n",
    "在这个单元格中写下你的答案。\n",
    "\n",
    "# 4. 进行分类，并将错误可视化\n",
    "\n",
    "使用你创建的所有特征，编写一个可以输入一张RGB图像的函数，并使用提取的特征，输出一个灯光是红色、绿色或者黄色，并将该结果作为独热编码标签。这种分类函数应该能够对任何一张交通信灯图像进行分类！\n",
    "\n",
    "我们建议你编写可能会用到的任何一种辅助函数或可视化代码，但为了测试准确度，请确保此`estimate_label`函数返回一个独热编码标签。\n",
    "\n",
    "---\n",
    "<a id='task8'></a>\n",
    "### （实现）：构建一个完整的分类器"
   ]
  },
  {
   "cell_type": "code",
   "execution_count": 14,
   "metadata": {},
   "outputs": [],
   "source": [
    "# This function should take in RGB image input\n",
    "# Analyze that image using your feature creation code and output a one-hot encoded label\n",
    "def estimate_label(rgb_image):\n",
    "    \n",
    "    ## TODO: Extract feature(s) from the RGB image and use those features to\n",
    "    ## classify the image and output a one-hot encoded label\n",
    "    avg_brightness = create_feature(rgb_image)\n",
    "    r_light_label_value = 1 if (avg_brightness[0] > avg_brightness[1] and avg_brightness[0] > avg_brightness[2]) else 0\n",
    "    y_light_label_value = 1 if (avg_brightness[1] > avg_brightness[0] and avg_brightness[1] > avg_brightness[2]) else 0\n",
    "    g_light_label_value = 1 if (avg_brightness[2] > avg_brightness[0] and avg_brightness[2] > avg_brightness[1]) else 0\n",
    "   \n",
    "    predicted_label = [r_light_label_value, y_light_label_value, g_light_label_value]\n",
    "\n",
    "    return predicted_label   \n",
    "    "
   ]
  },
  {
   "cell_type": "markdown",
   "metadata": {},
   "source": [
    "## 测试分类器\n",
    "\n",
    "这里，我们使用这个 notebook 开始部分的测试数据集，对你的分类算法进行测试！编写完了一个“好”的分类器后，这个项目就算是完整的。\n",
    "\n",
    "在这种案例中，一个“好”的分类器应符合以下标准（只要符合，就可以随时提交你的项目）：\n",
    "1. 分类准确度达到90％以上。\n",
    "2. 切勿将任何一个红灯归类为绿灯。\n",
    "\n",
    "### 测试数据集\n",
    "\n",
    "在下面，我们首先加载测试数据集，然后使用上面定义的`standardize`函数对其进行标准化，然后对其进行**混洗**；这样可以确保顺序不会对准确度测试造成影响。"
   ]
  },
  {
   "cell_type": "code",
   "execution_count": 15,
   "metadata": {},
   "outputs": [],
   "source": [
    "# Using the load_dataset function in helpers.py\n",
    "# Load test data\n",
    "TEST_IMAGE_LIST = helpers.load_dataset(IMAGE_DIR_TEST)\n",
    "\n",
    "# Standardize the test data\n",
    "STANDARDIZED_TEST_LIST = standardize(TEST_IMAGE_LIST)\n",
    "\n",
    "# Shuffle the standardized test data\n",
    "random.shuffle(STANDARDIZED_TEST_LIST)"
   ]
  },
  {
   "cell_type": "markdown",
   "metadata": {},
   "source": [
    "## 确定准确度\n",
    "\n",
    "将你的分类算法（也称为“模型”）的输出与真实标签进行比较并确定准确度。\n",
    "\n",
    "此代码将所有错误分类的图像、其预测标签以及它们的真实标签存储在名为`MISCLASSIFIED`的列表中。此代码用于测试，*不应更改*。"
   ]
  },
  {
   "cell_type": "code",
   "execution_count": 31,
   "metadata": {},
   "outputs": [
    {
     "name": "stdout",
     "output_type": "stream",
     "text": [
      "Accuracy: 0.9595959595959596\n",
      "Number of misclassified images = 12 out of 297\n"
     ]
    }
   ],
   "source": [
    "# Constructs a list of misclassified images given a list of test images and their labels\n",
    "# This will throw an AssertionError if labels are not standardized (one-hot encoded)\n",
    "\n",
    "def get_misclassified_images(test_images):\n",
    "    # Track misclassified images by placing them into a list\n",
    "    misclassified_images_labels = []\n",
    "\n",
    "    # Iterate through all the test images\n",
    "    # Classify each image and compare to the true label\n",
    "    for image in test_images:\n",
    "\n",
    "        # Get true data\n",
    "        im = image[0]\n",
    "        true_label = image[1]\n",
    "        assert(len(true_label) == 3), \"The true_label is not the expected length (3).\"\n",
    "        \n",
    "        # Get predicted label from your classifier\n",
    "        predicted_label = estimate_label(im)\n",
    "        assert(len(predicted_label) == 3), \"The predicted_label is not the expected length (3).\"\n",
    "\n",
    "        # Compare true and predicted labels \n",
    "        if(predicted_label != true_label):\n",
    "            # If these labels are not equal, the image has been misclassified\n",
    "            misclassified_images_labels.append((im, predicted_label, true_label))\n",
    "            \n",
    "    # Return the list of misclassified [image, predicted_label, true_label] values\n",
    "    return misclassified_images_labels\n",
    "\n",
    "\n",
    "# Find all misclassified images in a given test set\n",
    "MISCLASSIFIED = get_misclassified_images(STANDARDIZED_TEST_LIST)\n",
    "\n",
    "# Accuracy calculations\n",
    "total = len(STANDARDIZED_TEST_LIST)\n",
    "num_correct = total - len(MISCLASSIFIED)\n",
    "accuracy = num_correct/total\n",
    "\n",
    "print('Accuracy: ' + str(accuracy))\n",
    "print(\"Number of misclassified images = \" + str(len(MISCLASSIFIED)) +' out of '+ str(total))\n"
   ]
  },
  {
   "cell_type": "markdown",
   "metadata": {},
   "source": [
    "---\n",
    "<a id='task9'></a>\n",
    "### 将错误分类的图像可视化\n",
    "\n",
    "将分类错误的一些图像（在`MISCLASSIFIED`列表中）可视化，并注意那些难以使它们归类的任何一个特征。这样做可以帮助你识别分类算法中的缺陷。"
   ]
  },
  {
   "cell_type": "code",
   "execution_count": 17,
   "metadata": {
    "scrolled": false
   },
   "outputs": [
    {
     "name": "stdout",
     "output_type": "stream",
     "text": [
      "Predicted label:[1, 0, 0], True label:[0, 0, 1]\n",
      "brightness avg:[95.04166666666667, 41.244791666666664, 76.421875]\n",
      "Label [red, yellow, green]: [1, 0, 0]\n"
     ]
    },
    {
     "data": {
      "text/plain": [
       "<matplotlib.image.AxesImage at 0x1f645872358>"
      ]
     },
     "execution_count": 17,
     "metadata": {},
     "output_type": "execute_result"
    },
    {
     "data": {
      "image/png": "[encoded data removed]",
      "text/plain": [
       "<Figure size 1440x720 with 4 Axes>"
      ]
     },
     "metadata": {
      "needs_background": "light"
     },
     "output_type": "display_data"
    }
   ],
   "source": [
    "# Visualize misclassified example(s)\n",
    "## TODO: Display an image in the `MISCLASSIFIED` list \n",
    "## TODO: Print out its predicted label - to see what the image *was* incorrectly classified as\n",
    "idx = 11\n",
    "miss_img = MISCLASSIFIED[idx][0]\n",
    "# plt.imshow(miss_img)\n",
    "print(\"Predicted label:\" +str(MISCLASSIFIED[idx][1]) + \", True label:\"+str(MISCLASSIFIED[idx][2]))\n",
    "\n",
    "\n",
    "#=======================================================\n",
    "avg = avg_brightness_4_lights(miss_img)\n",
    "print(\"brightness avg:%s\" %(str(avg)))\n",
    "\n",
    "# Convert to HSV\n",
    "hsv = cv2.cvtColor(miss_img, cv2.COLOR_RGB2HSV)\n",
    "\n",
    "# Print image label\n",
    "print('Label [red, yellow, green]: ' + str(test_label))\n",
    "\n",
    "# HSV channels\n",
    "h = hsv[:,:,0]\n",
    "s = hsv[:,:,1]\n",
    "v = hsv[:,:,2]\n",
    "\n",
    "# Plot the original image and the three channels\n",
    "f, (ax1, ax2, ax3, ax4) = plt.subplots(1, 4, figsize=(20,10))\n",
    "ax1.set_title('Standardized image')\n",
    "ax1.imshow(miss_img)\n",
    "ax2.set_title('H channel')\n",
    "ax2.imshow(h, cmap='gray')\n",
    "ax3.set_title('S channel')\n",
    "ax3.imshow(s, cmap='gray')\n",
    "ax4.set_title('V channel')\n",
    "ax4.imshow(v, cmap='gray')"
   ]
  },
  {
   "cell_type": "code",
   "execution_count": 29,
   "metadata": {
    "scrolled": true
   },
   "outputs": [
    {
     "data": {
      "text/plain": [
       "<matplotlib.image.AxesImage at 0x1f648553eb8>"
      ]
     },
     "execution_count": 29,
     "metadata": {},
     "output_type": "execute_result"
    },
    {
     "data": {
      "image/png": "[encoded data removed]",
      "text/plain": [
       "<Figure size 1440x720 with 5 Axes>"
      ]
     },
     "metadata": {
      "needs_background": "light"
     },
     "output_type": "display_data"
    }
   ],
   "source": [
    "lower_hsv = np.array([0, 0, 0])                                      \n",
    "high_hsv = np.array([170, 170, 170])                \n",
    "\n",
    "mask = cv2.inRange(miss_img, lowerb = lower_hsv, upperb = high_hsv)\n",
    "masked_image = np.copy(miss_img)\n",
    "\n",
    "masked_image[mask != 0] = [0, 0, 0]\n",
    "# plt.imshow(mask, cmap='gray')\n",
    "# plt.imshow(masked_image)\n",
    "# cv2.imwrite(\"masked_image.jpg\", masked_image)\n",
    "\n",
    "hsv_masked = cv2.cvtColor(masked_image, cv2.COLOR_RGB2HSV)\n",
    "v_masked = hsv_masked[:,:,2]\n",
    "\n",
    "f, (ax1, ax2, ax3, ax4, ax5) = plt.subplots(1, 5, figsize=(20,10))\n",
    "ax1.set_title('Standarded image')\n",
    "ax1.imshow(miss_img)\n",
    "ax2.set_title('Mask')\n",
    "ax2.imshow(mask, cmap='gray')\n",
    "ax3.set_title('Masked image')\n",
    "ax3.imshow(masked_image)\n",
    "ax4.set_title('V channel')\n",
    "ax4.imshow(v, cmap='gray')\n",
    "ax5.set_title('V_masked channel')\n",
    "ax5.imshow(v_masked, cmap='gray')"
   ]
  },
  {
   "cell_type": "markdown",
   "metadata": {},
   "source": [
    "---\n",
    "<a id='question2'></a>\n",
    "## （问题2）：在将这些误分类可视化之后，你认为你的分类算法存在哪些缺陷？请至少发现两个缺陷。\n",
    "\n",
    "**答案：** 在这个单元格中写下你的答案。\n",
    "\n",
    "## 测试你是否将某一个红灯归类为绿灯\n",
    "\n",
    "**要通过这个项目，你不能将任何一个红灯归类为绿灯！**将红灯分类为绿灯会将导致汽车出现闯红灯行驶的情况，因此这种“把红灯误看做是绿灯”的错误在现实世界中非常危险。\n",
    "\n",
    "下面的代码可以让你测试是否将测试集中的任何一个红灯错误归类为绿灯。**这个测试假定 `MISCLASSIFIED` 是一个元组列表，其顺序是： [misclassified_image, predicted_label, true_label]** 。\n",
    "\n",
    "注：这不是一个全面的测试，但它是一个很好的指标。如果你通过了这个测试，说明你已经掌握了这部分知识！这个测试会遍历错误分类的例子列表，并检查是否存在任何一个红灯被错误标记为[0,1,0]（绿灯）的情况。"
   ]
  },
  {
   "cell_type": "code",
   "execution_count": 125,
   "metadata": {},
   "outputs": [
    {
     "name": "stdout",
     "output_type": "stream",
     "text": [
      "10\n"
     ]
    },
    {
     "data": {
      "text/markdown": [
       "**<span style=\"color: green;\">TEST PASSED</span>**"
      ],
      "text/plain": [
       "<IPython.core.display.Markdown object>"
      ]
     },
     "metadata": {},
     "output_type": "display_data"
    }
   ],
   "source": [
    "# Importing the tests\n",
    "import test_functions\n",
    "tests = test_functions.Tests()\n",
    "print(len(MISCLASSIFIED))\n",
    "if(len(MISCLASSIFIED) > 0):\n",
    "    # Test code for one_hot_encode function\n",
    "    tests.test_red_as_green(MISCLASSIFIED)\n",
    "else:\n",
    "    print(\"MISCLASSIFIED may not have been populated with images.\")\n"
   ]
  },
  {
   "cell_type": "markdown",
   "metadata": {},
   "source": [
    "# 5. 改进你的算法！\n",
    "\n",
    "**完成所有任务并且符合以下两个标准，并回答完所有问题后，请提交你的项目：**\n",
    "1. 分类准确度超过90％；\n",
    "2. 没有将任何一个红灯归类为绿灯。\n",
    "\n",
    "如果不符合这两个要求（这在第一次尝试中很常见！），请重新查看你的算法并对其进行改进，改善光线识别 - 这可能意味着更改亮度特征，执行一些背景减除或添加其他特征！\n",
    "\n",
    "---\n",
    "\n",
    "### 接受进一步挑战（可选性挑战项目）\n",
    "\n",
    "如果你发现这个挑战项目太过容易，我建议你去挑战一些更有难度的项目！ 这里有几个**可选** 项目（意思是说，执行下面这些项目后，你不需要进行提交，也不需要必须通过这些项目）：\n",
    "* （可选）尽可能使分类准确度> 95％。\n",
    "* （可选）图像中的一些灯是带形状的，eg：箭头形状；尝试在区分灯的颜色以外，进一步将灯光的形状建模得到分类结果，圆形或箭头形。\n",
    "* （可选）添加另一个特征，尽可能使准确度接近100％！"
   ]
  }
 ],
 "metadata": {
  "kernelspec": {
   "display_name": "Python 3",
   "language": "python",
   "name": "python3"
  },
  "language_info": {
   "codemirror_mode": {
    "name": "ipython",
    "version": 3
   },
   "file_extension": ".py",
   "mimetype": "text/x-python",
   "name": "python",
   "nbconvert_exporter": "python",
   "pygments_lexer": "ipython3",
   "version": "3.7.3"
  }
 },
 "nbformat": 4,
 "nbformat_minor": 2
}
