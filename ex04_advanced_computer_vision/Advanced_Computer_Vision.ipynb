{
 "cells": [
  {
   "cell_type": "markdown",
   "metadata": {},
   "source": [
    "### Project Steps\n",
    "\n",
    "#### Steps we’ve covered so far:\n",
    "\n",
    "1. Camera calibration\n",
    "2. Distortion correction\n",
    "3. Color/gradient threshold\n",
    "4. Perspective transform\n",
    "\n",
    "#### After doing these steps, you’ll be given two additional steps for the project:\n",
    "\n",
    "5. Detect lane lines\n",
    "6. Determine the lane curvature"
   ]
  },
  {
   "cell_type": "markdown",
   "metadata": {},
   "source": [
    "### 1.Processing Each Image\n",
    "![](./img/color-shadow-example.jpg)\n",
    "\n",
    "In the project at the end of this module, the first thing you'll do is to compute the camera calibration matrix and distortion coefficients. You `only need to compute these once, and then you'll apply them to undistort each new frame`. Next, you'll apply thresholds to create a binary image and then apply a perspective transform.\n",
    "\n",
    "#### Thresholding\n",
    "You'll want to try out various combinations of color and gradient thresholds to generate a binary image where the lane lines are clearly visible. There's more than one way to achieve a good result, but for example, given the image above, the output you're going for should look something like this:\n",
    "\n",
    "![](./img/binary-combo-img.jpg)\n",
    "\n",
    "#### Perspective Transform\n",
    "Next, you want to identify `four source points` for your perspective transform. In this case, you can assume the road is a flat plane. This isn't strictly true, but it can serve as an approximation for this project. You would like to pick four points in a trapezoidal shape (similar to region masking) that would represent a rectangle when looking down on the road from above.\n",
    "\n",
    "The easiest way to do this is to investigate an image where the lane lines are straight, and find four points lying along the lines that, after perspective transform, make the lines look straight and vertical from a bird's eye view perspective.\n",
    "\n",
    "#### Here's an example of the result you are going for with straight lane lines:\n",
    "![](./img/warped-straight-lines.jpg)\n",
    "\n",
    "#### Now for curved lines\n",
    "Those same four source points will now work to transform any image (again, under the assumption that the road is flat and the camera perspective hasn't changed). When applying the transform to new images, the test of whether or not you got the transform correct, is that the lane lines should appear parallel in the warped images, whether they are straight or curved.\n",
    "\n",
    "Here's an example of applying a perspective transform to your thresholded binary image, using the same source and destination points as above, showing that the curved lines are (more or less) parallel in the transformed image:\n",
    "![](./img/warped-curved-lines.jpg)\n",
    "\n"
   ]
  },
  {
   "cell_type": "markdown",
   "metadata": {},
   "source": []
  },
  {
   "cell_type": "markdown",
   "metadata": {},
   "source": [
    "### 2.Finding the Lines: Histogram Peaks\n",
    "\n",
    "#### Locate the Lane Lines\n",
    "![SDC](./img/warped-example.jpg)\n",
    "\n",
    "You now have a thresholded warped image and you're ready to map out the lane lines! There are many ways you could go about this, but here's one example of how you might do it:\n",
    "\n",
    "#### Line Finding Method: Peaks in a Histogram\n",
    "\n",
    "After applying calibration, thresholding, and a perspective transform to a road image, you should have a binary image where the lane lines stand out clearly. However, you still need to decide explicitly which pixels are part of the lines and which belong to the left line and which belong to the right line.\n",
    "\n",
    "Plotting a histogram of where the binary activations occur across the image is one potential solution for this. In the quiz below, let's take a couple quick steps to create our histogram!\n",
    "\n",
    "#### axis = 0表示对最外层[]里的最大单位块做块与块之间的运算,同时移除最外层[]\n",
    "#### axis= 1表示对第二外层[]里的最大单位块做块与块之间的运算,同时移除第二外层[]\n",
    "histogram = np.sum(bottom_half, axis=0)"
   ]
  },
  {
   "cell_type": "code",
   "execution_count": 1,
   "metadata": {},
   "outputs": [],
   "source": [
    "import numpy as np\n",
    "import matplotlib.image as mpimg\n",
    "import matplotlib.pyplot as plt\n",
    "from IPython.display import HTML"
   ]
  },
  {
   "cell_type": "code",
   "execution_count": 2,
   "metadata": {},
   "outputs": [
    {
     "name": "stdout",
     "output_type": "stream",
     "text": [
      "(1280,)\n",
      "[ 6.09411765  5.12156863  5.06666667 ... 19.96470588 19.98823529\n",
      " 20.96862745]\n"
     ]
    },
    {
     "data": {
      "text/plain": [
       "[<matplotlib.lines.Line2D at 0x2494da47048>]"
      ]
     },
     "execution_count": 2,
     "metadata": {},
     "output_type": "execute_result"
    },
    {
     "data": {
      "image/png": "[encoded data removed]",
      "text/plain": [
       "<Figure size 432x288 with 1 Axes>"
      ]
     },
     "metadata": {
      "needs_background": "light"
     },
     "output_type": "display_data"
    }
   ],
   "source": [
    "# Load our image\n",
    "# `mpimg.imread` will load .jpg as 0-255, so normalize back to 0-1\n",
    "img = mpimg.imread('warped_example.jpg')/255\n",
    "\n",
    "def hist(img):\n",
    "    # TO-DO: Grab only the bottom half of the image\n",
    "    # Lane lines are likely to be mostly vertical nearest to the car\n",
    "#     bottom_half = img[img.shape[0]//2:]\n",
    "    bottom_half = img[img.shape[0]//2:,:]\n",
    "#     print(bottom_half.shape)\n",
    "#     print(type(img))\n",
    "    # TO-DO: Sum across image pixels vertically - make sure to set `axis`\n",
    "    # i.e. the highest areas of vertical lines should be larger values\n",
    "    histogram = np.sum(bottom_half, axis=0)\n",
    "    print(histogram.shape)\n",
    "    return histogram\n",
    "\n",
    "# Create histogram of image binary activations\n",
    "histogram = hist(img)\n",
    "\n",
    "print(histogram)\n",
    "# Visualize the resulting histogram\n",
    "plt.plot(histogram)\n"
   ]
  },
  {
   "cell_type": "markdown",
   "metadata": {},
   "source": [
    "#### Sliding Window\n",
    "With this histogram we are adding up the pixel values along each column in the image. In our thresholded binary image, pixels are either 0 or 1, so the two most prominent peaks in this histogram will be good indicators of the x-position of the base of the lane lines. We can use that as a starting point for where to search for the lines. From that point, we can use a sliding window, placed around the line centers, to find and follow the lines up to the top of the frame."
   ]
  },
  {
   "cell_type": "code",
   "execution_count": 15,
   "metadata": {},
   "outputs": [
    {
     "data": {
      "text/html": [
       "\n",
       "<video width=\"960\" height=\"540\" controls>\n",
       "  <source src=\"./video/sliding_window.mp4\">\n",
       "</video>\n"
      ],
      "text/plain": [
       "<IPython.core.display.HTML object>"
      ]
     },
     "execution_count": 15,
     "metadata": {},
     "output_type": "execute_result"
    }
   ],
   "source": [
    "HTML(\"\"\"\n",
    "<video width=\"960\" height=\"540\" controls>\n",
    "  <source src=\"{0}\">\n",
    "</video>\n",
    "\"\"\".format(\"./video/sliding_window.mp4\"))"
   ]
  },
  {
   "cell_type": "markdown",
   "metadata": {},
   "source": [
    "### 3.Finding the Lines: Sliding Window\n",
    "\n",
    "#### Implement Sliding Windows and Fit a Polynomial(adj.多项式的;多词学名的n.多项式;多词学名)\n",
    "![](./img/sliding_windows_and_fit_a_polynomial.png)\n",
    "\n",
    "As shown in the previous animation, we can use the two highest peaks from our histogram as a starting point for determining where the lane lines are, and then use sliding windows moving upward in the image (further along the road) to determine where the lane lines go.\n",
    "\n",
    "#### Split the histogram for the two lines\n",
    "The first step we'll take is to split the histogram into two sides, one for each lane line.\n"
   ]
  },
  {
   "cell_type": "code",
   "execution_count": 3,
   "metadata": {},
   "outputs": [
    {
     "ename": "NameError",
     "evalue": "name 'binary_warped' is not defined",
     "output_type": "error",
     "traceback": [
      "\u001b[1;31m---------------------------------------------------------------------------\u001b[0m",
      "\u001b[1;31mNameError\u001b[0m                                 Traceback (most recent call last)",
      "\u001b[1;32m<ipython-input-3-4a81bc1a90b8>\u001b[0m in \u001b[0;36m<module>\u001b[1;34m\u001b[0m\n\u001b[0;32m      5\u001b[0m \u001b[1;31m# Assuming you have created a warped binary image called \"binary_warped\"\u001b[0m\u001b[1;33m\u001b[0m\u001b[1;33m\u001b[0m\u001b[1;33m\u001b[0m\u001b[0m\n\u001b[0;32m      6\u001b[0m \u001b[1;31m# Take a histogram of the bottom half of the image\u001b[0m\u001b[1;33m\u001b[0m\u001b[1;33m\u001b[0m\u001b[1;33m\u001b[0m\u001b[0m\n\u001b[1;32m----> 7\u001b[1;33m \u001b[0mhistogram\u001b[0m \u001b[1;33m=\u001b[0m \u001b[0mnp\u001b[0m\u001b[1;33m.\u001b[0m\u001b[0msum\u001b[0m\u001b[1;33m(\u001b[0m\u001b[0mbinary_warped\u001b[0m\u001b[1;33m[\u001b[0m\u001b[0mbinary_warped\u001b[0m\u001b[1;33m.\u001b[0m\u001b[0mshape\u001b[0m\u001b[1;33m[\u001b[0m\u001b[1;36m0\u001b[0m\u001b[1;33m]\u001b[0m\u001b[1;33m//\u001b[0m\u001b[1;36m2\u001b[0m\u001b[1;33m:\u001b[0m\u001b[1;33m,\u001b[0m\u001b[1;33m:\u001b[0m\u001b[1;33m]\u001b[0m\u001b[1;33m,\u001b[0m \u001b[0maxis\u001b[0m\u001b[1;33m=\u001b[0m\u001b[1;36m0\u001b[0m\u001b[1;33m)\u001b[0m\u001b[1;33m\u001b[0m\u001b[1;33m\u001b[0m\u001b[0m\n\u001b[0m\u001b[0;32m      8\u001b[0m \u001b[1;31m# Create an output image to draw on and visualize the result\u001b[0m\u001b[1;33m\u001b[0m\u001b[1;33m\u001b[0m\u001b[1;33m\u001b[0m\u001b[0m\n\u001b[0;32m      9\u001b[0m \u001b[0mout_img\u001b[0m \u001b[1;33m=\u001b[0m \u001b[0mnp\u001b[0m\u001b[1;33m.\u001b[0m\u001b[0mdstack\u001b[0m\u001b[1;33m(\u001b[0m\u001b[1;33m(\u001b[0m\u001b[0mbinary_warped\u001b[0m\u001b[1;33m,\u001b[0m \u001b[0mbinary_warped\u001b[0m\u001b[1;33m,\u001b[0m \u001b[0mbinary_warped\u001b[0m\u001b[1;33m)\u001b[0m\u001b[1;33m)\u001b[0m\u001b[1;33m*\u001b[0m\u001b[1;36m255\u001b[0m\u001b[1;33m\u001b[0m\u001b[1;33m\u001b[0m\u001b[0m\n",
      "\u001b[1;31mNameError\u001b[0m: name 'binary_warped' is not defined"
     ]
    }
   ],
   "source": [
    "import numpy as np\n",
    "import cv2\n",
    "import matplotlib.pyplot as plt\n",
    "\n",
    "# Assuming you have created a warped binary image called \"binary_warped\"\n",
    "# Take a histogram of the bottom half of the image\n",
    "histogram = np.sum(binary_warped[binary_warped.shape[0]//2:,:], axis=0)\n",
    "# Create an output image to draw on and visualize the result\n",
    "out_img = np.dstack((binary_warped, binary_warped, binary_warped))*255\n",
    "# Find the peak of the left and right halves of the histogram\n",
    "# These will be the starting point for the left and right lines\n",
    "midpoint = np.int(histogram.shape[0]//2)\n",
    "leftx_base = np.argmax(histogram[:midpoint])\n",
    "rightx_base = np.argmax(histogram[midpoint:]) + midpoint"
   ]
  },
  {
   "cell_type": "markdown",
   "metadata": {},
   "source": [
    ">numpy.argmax(a, axis=None, out=None)\n",
    "返回沿轴axis最大值的索引。\n",
    "\n",
    "Note that in the above, we also create out_img to help with visualizing our output later on.\n",
    "\n",
    "#### Set up windows and window hyperparameters\n",
    "Our next step is to set a few hyperparameters related to our sliding windows, and set them up to iterate across the binary activations in the image. We have some base hyperparameters below, but don't forget to try out different values in your own implementation to see what works best!"
   ]
  },
  {
   "cell_type": "code",
   "execution_count": 5,
   "metadata": {},
   "outputs": [],
   "source": [
    "# HYPERPARAMETERS\n",
    "# Choose the number of sliding windows\n",
    "nwindows = 9\n",
    "# Set the width of the windows +/- margin\n",
    "margin = 100\n",
    "# Set minimum number of pixels found to recenter window\n",
    "minpix = 50\n",
    "\n",
    "# Set height of windows - based on nwindows above and image shape\n",
    "window_height = np.int(binary_warped.shape[0]//nwindows)\n",
    "# Identify the x and y positions of all nonzero (i.e. activated) pixels in the image\n",
    "nonzero = binary_warped.nonzero()#得到数组array中非零元素的位置(数组索引)\n",
    "nonzeroy = np.array(nonzero[0])\n",
    "nonzerox = np.array(nonzero[1])\n",
    "# Current positions to be updated later for each window in nwindows\n",
    "leftx_current = leftx_base\n",
    "rightx_current = rightx_base\n",
    "\n",
    "# Create empty lists to receive left and right lane pixel indices\n",
    "left_lane_inds = []\n",
    "right_lane_inds = []\n"
   ]
  },
  {
   "cell_type": "code",
   "execution_count": 14,
   "metadata": {},
   "outputs": [],
   "source": [
    "a = np.array([[0,0,3],[0,1,0],[0,0,9]])\n",
    "[0, 1, 2]\n",
    "\n",
    "b1 = np.nonzero(a)\n",
    "print(b1)\n",
    "print(\"================\")\n",
    "a = np.array([[0,0,3],[0,0,0],[0,0,9],[0,6,0],[8,6,0]])\n",
    "b2 = np.nonzero(a)\n",
    "print(b2)\n",
    "# [0, 2, 3, 4, 4]\n",
    "# [2, 2, 1, 0, 1]\n",
    "c = np.dstack((b2[0], b2[1]))\n",
    "print(c.shape)\n",
    "print(c)\n",
    "c = c.reshape(c.shape[1], c.shape[2])\n",
    "print(\"========c.reshpaed:\")\n",
    "print(c)\n",
    "print(\"========np.squeeze()\")\n",
    "c = np.squeeze(c)\n",
    "print(c)\n",
    "print(c.shape)\n",
    "print(\"================\")\n",
    "a1 = np.array([1,2,3])\n",
    "c1 = np.dstack((a1, a1))\n",
    "print(c1)"
   ]
  },
  {
   "cell_type": "code",
   "execution_count": 17,
   "metadata": {},
   "outputs": [],
   "source": [
    "[0, 2, 3, 4, 4]\n",
    "[2, 2, 1, 0, 1]\n",
    "a = np.array([[0, 2, 3, 4, 4],\n",
    "              [1, 1, 3, 4, 4],\n",
    "              [4, 1, 3, 4, 4],\n",
    "              [2, 2, 1, 0, 1],\n",
    "              [3, 3, 1, 0, 1]])\n",
    "\n",
    "# print(a)\n",
    "\n",
    "b = a[np.where((a[:,0]>0)&(a[:,0]<4)&(a[:,1]>2))]\n",
    "# print(\"========\")\n",
    "# print(b)"
   ]
  },
  {
   "cell_type": "markdown",
   "metadata": {},
   "source": [
    "**Iterate through `nwindows` to track curvature**\n",
    "Now that we've set up what the windows look like and have a starting point, we'll want to loop for `nwindows`, with the given window sliding left or right if it finds the mean position of activated pixels within the window to have shifted.\n",
    "\n",
    "You'll implement this part in the quiz below, but here's a few steps to get you started:\n",
    "\n",
    "1. Loop through each window in nwindows\n",
    "2. Find the boundaries of our current window. This is based on a combination of the current window's starting point (leftx_current and rightx_current), as well as the margin you set in the hyperparameters.\n",
    "3. Use `cv2.rectangle` to draw these window boundaries onto our visualization image out_img. This is required for the quiz, but you can skip this step in practice if you don't need to visualize where the windows are.\n",
    "4. Now that we know the boundaries of our window, find out which activated pixels from nonzeroy and nonzerox above actually fall into the window.\n",
    "5. Append these to our lists left_lane_inds and right_lane_inds.\n",
    "6. If the number of pixels you found in Step 4 are greater than your hyperparameter `minpix`, re-center our window (i.e. `leftx_current` or `rightx_current`) based on the mean position of these pixels.\n",
    "\n",
    "#### Fit a polynomial\n",
    "Now that we have found all our pixels belonging to each line through the sliding window method, it's time to fit a polynomial to the line. First, we have a couple small steps to ready our pixels."
   ]
  },
  {
   "cell_type": "code",
   "execution_count": null,
   "metadata": {},
   "outputs": [],
   "source": [
    "# Concatenate the arrays of indices (previously was a list of lists of pixels)\n",
    "left_lane_inds = np.concatenate(left_lane_inds)\n",
    "right_lane_inds = np.concatenate(right_lane_inds)\n",
    "\n",
    "# Extract left and right line pixel positions\n",
    "leftx = nonzerox[left_lane_inds]\n",
    "lefty = nonzeroy[left_lane_inds] \n",
    "rightx = nonzerox[right_lane_inds]\n",
    "righty = nonzeroy[right_lane_inds]"
   ]
  },
  {
   "cell_type": "markdown",
   "metadata": {},
   "source": [
    ">numpy.concatenate((a1,a2,...), axis=0)函数。能够一次完成多个数组的拼接。\n",
    "\n",
    "We'll let you implement the function for the polynomial in the quiz below using `np.polyfit`.\n",
    "> `np.polyfit`最小二乘法多项式拟合曲线"
   ]
  },
  {
   "cell_type": "code",
   "execution_count": null,
   "metadata": {},
   "outputs": [],
   "source": [
    "# Assuming we have `left_fit` and `right_fit` from `np.polyfit` before\n",
    "# Generate x and y values for plotting\n",
    "ploty = np.linspace(0, binary_warped.shape[0]-1, binary_warped.shape[0])\n",
    "left_fitx = left_fit[0]*ploty**2 + left_fit[1]*ploty + left_fit[2]\n",
    "right_fitx = right_fit[0]*ploty**2 + right_fit[1]*ploty + right_fit[2]"
   ]
  },
  {
   "cell_type": "markdown",
   "metadata": {},
   "source": [
    ">numpy.linspace(start, stop, num=50, endpoint=True, retstep=False, dtype=None)\n",
    "在指定的间隔内返回均匀间隔的数字。返回num均匀分布的样本，在[start, stop]。\n",
    "\n",
    "Take note of how we fit the lines above - while normally you calculate a y-value for a given x, here we do the opposite. Why? Because we expect our lane lines to be (mostly) vertically-oriented.\n",
    "\n",
    "#### Visualization\n",
    "Once you reach this point, you're done! But here is how you can visualize the result as well:"
   ]
  },
  {
   "cell_type": "code",
   "execution_count": null,
   "metadata": {},
   "outputs": [],
   "source": [
    "out_img[lefty, leftx] = [255, 0, 0]\n",
    "out_img[righty, rightx] = [0, 0, 255]\n",
    "\n",
    "plt.imshow(out_img)\n",
    "plt.plot(left_fitx, ploty, color='yellow')\n",
    "plt.plot(right_fitx, ploty, color='yellow')\n",
    "plt.xlim(0, 1280)\n",
    "plt.ylim(720, 0)"
   ]
  },
  {
   "cell_type": "markdown",
   "metadata": {},
   "source": [
    "#### Quiz\n",
    "In the below quiz, implement the following (see TO-DO's):\n",
    "\n",
    "* Steps 2, 4 and 6 from above within the `for` loop in `find_lane_pixels()` - find the window boundaries, find all pixels within those boundaries, and if there are more than `minpix`, slide the window over to the mean of these pixels.\n",
    "* Fit a polynomial to all the relevant pixels you've found in your sliding windows in `fit_polynomial()`."
   ]
  },
  {
   "cell_type": "code",
   "execution_count": 4,
   "metadata": {},
   "outputs": [],
   "source": [
    "left_lane_inds_global = []\n",
    "right_lane_inds_global = []"
   ]
  },
  {
   "cell_type": "code",
   "execution_count": 5,
   "metadata": {
    "scrolled": true
   },
   "outputs": [
    {
     "name": "stdout",
     "output_type": "stream",
     "text": [
      "========left_lane_inds1:\n",
      "[82135 82136 82137 ... 14767 14768 14769]\n"
     ]
    },
    {
     "data": {
      "image/png": "[encoded data removed]",
      "text/plain": [
       "<Figure size 432x288 with 1 Axes>"
      ]
     },
     "metadata": {
      "needs_background": "light"
     },
     "output_type": "display_data"
    }
   ],
   "source": [
    "import numpy as np\n",
    "import matplotlib.image as mpimg\n",
    "import matplotlib.pyplot as plt\n",
    "import cv2\n",
    "\n",
    "# Load our image\n",
    "binary_warped = mpimg.imread('warped_example.jpg')\n",
    "\n",
    "def find_lane_pixels(binary_warped):\n",
    "    # Take a histogram of the bottom half of the image\n",
    "    histogram = np.sum(binary_warped[binary_warped.shape[0]//2:,:], axis=0)\n",
    "    # Create an output image to draw on and visualize the result\n",
    "    out_img = np.dstack((binary_warped, binary_warped, binary_warped))\n",
    "    # Find the peak of the left and right halves of the histogram\n",
    "    # These will be the starting point for the left and right lines\n",
    "    midpoint = np.int(histogram.shape[0]//2)\n",
    "    leftx_base = np.argmax(histogram[:midpoint])\n",
    "    rightx_base = np.argmax(histogram[midpoint:]) + midpoint\n",
    "\n",
    "    # HYPERPARAMETERS\n",
    "    # Choose the number of sliding windows\n",
    "    nwindows = 9\n",
    "    # Set the width of the windows +/- margin\n",
    "    margin = 100\n",
    "    # Set minimum number of pixels found to recenter window\n",
    "    minpix = 50\n",
    "\n",
    "    # Set height of windows - based on nwindows above and image shape\n",
    "    window_height = np.int(binary_warped.shape[0]//nwindows)\n",
    "    # Identify the x and y positions of all nonzero pixels in the image\n",
    "    nonzero = binary_warped.nonzero()\n",
    "    nonzeroy = np.array(nonzero[0])\n",
    "    nonzerox = np.array(nonzero[1])\n",
    "    # Current positions to be updated later for each window in nwindows\n",
    "    leftx_current = leftx_base\n",
    "    rightx_current = rightx_base\n",
    "\n",
    "#     print(\"========nonzero:\")\n",
    "#     print(nonzero)\n",
    "#     print(nonzeroy.shape)\n",
    "#     print(nonzerox.shape)\n",
    "#     print(\"========leftx_current:{}\".format(leftx_current))\n",
    "#     print(\"========rightx_current:{}\".format(rightx_current))\n",
    "    \n",
    "    # Create empty lists to receive left and right lane pixel indices\n",
    "    left_lane_inds = []\n",
    "    right_lane_inds = []\n",
    "\n",
    "    # Step through the windows one by one\n",
    "    for window in range(nwindows):\n",
    "        # Identify window boundaries in x and y (and right and left)\n",
    "        win_y_low = binary_warped.shape[0] - (window+1)*window_height\n",
    "        win_y_high = binary_warped.shape[0] - window*window_height\n",
    "        ### TO-DO: Find the four below boundaries of the window ###\n",
    "        win_xleft_low = leftx_current - margin  # Update this\n",
    "        win_xleft_high = leftx_current + margin # Update this\n",
    "        win_xright_low = rightx_current - margin  # Update this\n",
    "        win_xright_high = rightx_current + margin  # Update this\n",
    "        \n",
    "        # Draw the windows on the visualization image\n",
    "        cv2.rectangle(out_img,(win_xleft_low,win_y_low),\n",
    "        (win_xleft_high,win_y_high),(0,255,0), 2) \n",
    "        cv2.rectangle(out_img,(win_xright_low,win_y_low),\n",
    "        (win_xright_high,win_y_high),(0,255,0), 2) \n",
    "\n",
    "        ### TO-DO: Identify the nonzero pixels in x and y within the window ###\n",
    "#         print(\"========win_y_low:%d, win_y_high:%d,win_xleft_low:%d, win_xleft_high:%d}\"\n",
    "#               %(win_y_low,win_y_high,win_xleft_low,win_xleft_high))\n",
    "\n",
    "        good_left_inds = (np.where((nonzeroy >= win_y_low) & (nonzeroy <= win_y_high)\\\n",
    "                          &(nonzerox >= win_xleft_low)&(nonzerox <= win_xleft_high)))[0]\n",
    "\n",
    "        good_right_inds = (np.where((nonzeroy >= win_y_low) & (nonzeroy <= win_y_high)\\\n",
    "                          &(nonzerox >= win_xright_low)&(nonzerox <= win_xright_high)))[0]\n",
    "            \n",
    "#         good_left_inds = nonzerox[(nonzeroy >= win_y_low) & (nonzeroy <= win_y_high)\\\n",
    "#                           &(nonzerox >= win_xleft_low)&(nonzerox <= win_xleft_high)]\n",
    "\n",
    "#         good_right_inds = nonzerox[(nonzeroy >= win_y_low) & (nonzeroy <= win_y_high)\\\n",
    "#                           &(nonzerox >= win_xright_low)&(nonzerox <= win_xright_high)]\n",
    "\n",
    "#         print(\"========good_left_inds:\")\n",
    "#         print(good_left_inds)\n",
    "#         print(type(good_left_inds))\n",
    "#         print(good_left_inds.shape)\n",
    "#         print(\"========good_right_inds:\")\n",
    "#         print(good_right_inds)\n",
    "#         print(type(good_right_inds))\n",
    "#         print(good_right_inds.shape)\n",
    "#         print(type(left_lane_inds))\n",
    "\n",
    "        \n",
    "        # Append these indices to the lists\n",
    "        left_lane_inds.append(good_left_inds)\n",
    "        right_lane_inds.append(good_right_inds)\n",
    "        \n",
    "#         print(\"========left_lane_inds0:\")\n",
    "#         print(left_lane_inds)\n",
    "#         print(len(left_lane_inds))\n",
    "        \n",
    "        ### TO-DO: If you found > minpix pixels, recenter next window ###\n",
    "        ### (`right` or `leftx_current`) on their mean position ###\n",
    "        if(len(good_left_inds) > minpix ):\n",
    "            leftx_current = np.int(np.mean(nonzerox[good_left_inds]))\n",
    "#             print(\"========leftx_current:{}\".format(leftx_current))\n",
    "            \n",
    "        if(len(good_right_inds) > minpix):\n",
    "            rightx_current = np.int(np.mean(nonzerox[good_right_inds]))\n",
    "#             print(\"========rightx_current:{}\".format(rightx_current))\n",
    "        \n",
    "    # Concatenate the arrays of indices (previously was a list of lists of pixels)\n",
    "    try:\n",
    "        left_lane_inds = np.concatenate(left_lane_inds)\n",
    "        right_lane_inds = np.concatenate(right_lane_inds)\n",
    "        \n",
    "        global left_lane_inds_global\n",
    "        left_lane_inds_global = left_lane_inds\n",
    "        \n",
    "        global right_lane_inds_global\n",
    "        right_lane_inds_global = right_lane_inds\n",
    "        \n",
    "        print(\"========left_lane_inds1:\")\n",
    "        print(left_lane_inds)\n",
    "#         print(len(left_lane_inds))\n",
    "#         print(type(left_lane_inds))\n",
    "#         print(left_lane_inds.shape)\n",
    "        \n",
    "#         print(\"========right_lane_inds1:\")\n",
    "#         print(right_lane_inds)\n",
    "#         print(len(right_lane_inds))\n",
    "#         print(type(right_lane_inds))\n",
    "#         print(right_lane_inds.shape)\n",
    "        \n",
    "    except ValueError:\n",
    "        # Avoids an error if the above is not implemented fully\n",
    "        print(\"========Error\")\n",
    "\n",
    "    # Extract left and right line pixel positions\n",
    "    leftx = nonzerox[left_lane_inds]\n",
    "    lefty = nonzeroy[left_lane_inds] \n",
    "    rightx = nonzerox[right_lane_inds]\n",
    "    righty = nonzeroy[right_lane_inds]\n",
    "    \n",
    "    return leftx, lefty, rightx, righty, out_img\n",
    "\n",
    "\n",
    "def fit_polynomial(binary_warped):\n",
    "    # Find our lane pixels first\n",
    "    leftx, lefty, rightx, righty, out_img = find_lane_pixels(binary_warped)\n",
    "\n",
    "    ### TO-DO: Fit a second order polynomial to each using `np.polyfit` ###\n",
    "    #second order polynomial work\n",
    "    left_fit = np.polyfit(lefty,leftx, 2)\n",
    "    right_fit = np.polyfit(righty,rightx, 2)\n",
    "    #third order polynomial work\n",
    "#     left_fit = np.polyfit(lefty,leftx, 3)\n",
    "#     right_fit = np.polyfit(righty,rightx, 3)\n",
    "\n",
    "#     print(\"========leftx:\")\n",
    "#     print(leftx)\n",
    "#     print(\"========lefty:\")\n",
    "#     print(lefty)\n",
    "    \n",
    "#     print(\"========rightx:\")\n",
    "#     print(rightx)\n",
    "#     print(\"========righty:\")\n",
    "#     print(righty)\n",
    "    \n",
    "# \n",
    "    \n",
    "#     print(\"========left_fit:\")\n",
    "#     print(left_fit)\n",
    "    \n",
    "    # Generate x and y values for plotting\n",
    "    ploty = np.linspace(0, binary_warped.shape[0]-1, binary_warped.shape[0] )\n",
    "#     print(\"========ploty:\")\n",
    "#     print(ploty)\n",
    "    try:\n",
    "        left_fitx = left_fit[0]*ploty**2 + left_fit[1]*ploty + left_fit[2]\n",
    "        right_fitx = right_fit[0]*ploty**2 + right_fit[1]*ploty + right_fit[2]\n",
    "        #third order polynomial work\n",
    "#         left_fitx = left_fit[0]*ploty**3 + left_fit[1]*ploty**2 + left_fit[2]*ploty + left_fit[3]\n",
    "#         right_fitx = right_fit[0]*ploty**3 + right_fit[1]*ploty**2 + right_fit[2]*ploty + right_fit[3]\n",
    "    except TypeError:\n",
    "        # Avoids an error if `left` and `right_fit` are still none or incorrect\n",
    "        print('The function failed to fit a line!')\n",
    "        print(\"========Error\")\n",
    "        left_fitx = 1*ploty**2 + 1*ploty\n",
    "        right_fitx = 1*ploty**2 + 1*ploty\n",
    "\n",
    "    ## Visualization ##\n",
    "    # Colors in the left and right lane regions\n",
    "    out_img[lefty, leftx] = [255, 0, 0]\n",
    "    out_img[righty, rightx] = [0, 0, 255]\n",
    "\n",
    "#     plt.imshow(out_img)\n",
    "    \n",
    "    # Plots the left and right polynomials on the lane lines\n",
    "    plt.plot(left_fitx, ploty, color='yellow')\n",
    "    plt.plot(right_fitx, ploty, color='yellow')\n",
    "    \n",
    "#     print(\"========left_fitx:\")\n",
    "#     print(left_fitx)\n",
    "#     print(\"========right_fitx:\")\n",
    "#     print(right_fitx)\n",
    "    \n",
    "#     print(\"out_img.shape:{}\".format(out_img.shape))\n",
    "    \n",
    "    return out_img\n",
    "\n",
    "\n",
    "out_img = fit_polynomial(binary_warped)\n",
    "\n",
    "# mpimg.imsave(\"out_img.png\", out_img)\n",
    "\n",
    "plt.imshow(out_img)\n",
    "plt.savefig('warped_example_output.png',dpi=400,bbox_inches='tight')\n",
    "\n"
   ]
  },
  {
   "cell_type": "markdown",
   "metadata": {},
   "source": [
    "Result:\n",
    "![](warped_example_output.png)"
   ]
  },
  {
   "cell_type": "code",
   "execution_count": 108,
   "metadata": {},
   "outputs": [],
   "source": [
    "a = np.array([[1,4,7,8,6, 2, 5],\n",
    "              [5,6,4,8,1,5,6],\n",
    "              [5,6,4,8,1,5,6]])\n",
    "# print(a)\n",
    "# print(a.shape)\n",
    "# print(a[0])\n",
    "# indxs = np.where(a > 4)\n",
    "# print(\"========indxs[0].len:{}\".format(len(indxs[0])))\n",
    "# print(indxs)\n",
    "# print(type(indxs))\n",
    "# print(np.where(a > 4))\n",
    "# print(a[np.where(a > 4)])"
   ]
  },
  {
   "cell_type": "code",
   "execution_count": 128,
   "metadata": {},
   "outputs": [],
   "source": [
    "a = np.array([[1, 2, 3, 4, 5],\n",
    "              [1, 2, 3, 4, 5],\n",
    "              [1, 2, 3, 4, 5]])\n",
    "# print(\"========a:\")\n",
    "# print(a)\n",
    "# b = np.sum(a)\n",
    "# print(\"========b:\")\n",
    "# print(b)\n",
    "# c = np.sum(a,axis=0)\n",
    "# print(\"========c:\")\n",
    "# print(c)\n",
    "# d = np.sum(a,axis=1)\n",
    "# print(\"========d:\")\n",
    "# print(d)"
   ]
  },
  {
   "cell_type": "code",
   "execution_count": 164,
   "metadata": {},
   "outputs": [
    {
     "name": "stdout",
     "output_type": "stream",
     "text": [
      "多项式系数:\n",
      "[-9.24538084e-04  3.76792011e-02 -5.54639386e-01  3.60545597e+00\n",
      "  1.03629808e+00]\n",
      "多项式方程:\n",
      "            4           3          2\n",
      "-0.0009245 x + 0.03768 x - 0.5546 x + 3.605 x + 1.036\n",
      "调用，输入x值，得到y:\n",
      "8.922135180995706\n"
     ]
    },
    {
     "data": {
      "image/png": "[encoded data removed]",
      "text/plain": [
       "<Figure size 432x288 with 1 Axes>"
      ]
     },
     "metadata": {
      "needs_background": "light"
     },
     "output_type": "display_data"
    }
   ],
   "source": [
    "#多项式拟合(从给定的x,y中解析出最接近数据的方程式)\n",
    "#要拟合的x,y数据\n",
    "x = np.arange(1, 17, 1)\n",
    "y = np.array([4.00, 6.40, 8.00, 8.80, 9.22, 9.50, 9.70, 9.86, 10.00, 10.20, 10.32, 10.42, 10.50, 10.55, 10.58, 10.60])\n",
    "z1 = np.polyfit(x, y, 4)#3为多项式最高次幂，结果为多项式的各个系数\n",
    "#最高次幂3，得到4个系数,从高次到低次排列\n",
    "#最高次幂取几要视情况而定\n",
    "p1 = np.poly1d(z1)#将系数代入方程，得到函式p1\n",
    "print(\"多项式系数:\")\n",
    "print(z1)#多项式系数\n",
    "print(\"多项式方程:\")\n",
    "print(p1)#多项式方程\n",
    "print(\"调用，输入x值，得到y:\")\n",
    "print(p1(18))#调用，输入x值，得到y\n",
    "x1=np.linspace(x.min(),x.max(),100)#x给定数据太少，方程曲线不光滑，多取x值得到光滑曲线\n",
    "pp1=p1(x1)#x1代入多项式，得到pp1,代入matplotlib中画多项式曲线\n",
    "plt.rcParams['font.sans-serif']=['SimHei']#显示中文\n",
    "plt.scatter(x,y,color='g',label='散点图')#x，y散点图\n",
    "plt.plot(x,y,color='r',label='连线图')#x,y线形图\n",
    "plt.plot(x1,pp1,color='b',label='拟合图')#100个x及对应y值绘制的曲线\n",
    "#可应用于各个行业的数值预估\n",
    "plt.legend(loc='best')\n",
    "plt.savefig('polyfit.png',dpi=400,bbox_inches='tight')"
   ]
  },
  {
   "cell_type": "markdown",
   "metadata": {},
   "source": [
    "### 4.Finding the Lines: Search from Prior\n",
    "\n",
    "#### Skip the sliding windows step once you've found the lines\n",
    "![](./img/search_from_prior.png)\n",
    "Great work! You've now built an algorithm that uses sliding windows to track the lane lines out into the distance. However, using the full algorithm from before and starting fresh on every frame may seem inefficient, as the lane lines don't necessarily move a lot from frame to frame.\n",
    "\n",
    "In the next frame of video you don't need to do a blind search again, but instead you can just search in a margin around the previous lane line position, like in the above image. The green shaded area shows where we searched for the lines this time. So, once you know where the lines are in one frame of video, you can do a highly targeted search for them in the next frame.\n",
    "\n",
    "This is equivalent to using a customized region of interest for each frame of video, and should help you track the lanes through sharp curves and tricky conditions. If you lose track of the lines, go back to your sliding windows search or other method to rediscover them.\n",
    "\n",
    "Let's walk through one way to do this, and then you'll build it out further in a quiz below.\n",
    "\n",
    "#### Use the previous polynomial to skip the sliding window\n",
    "In the previous quiz, we used `left_lane_inds` and `right_lane_inds`to hold the pixel values contained within the boundaries of a given sliding window. This time, we'll take the polynomial functions we fit before (`left_fit` and `right_fit`), along with a hyperparameter `margin`, to determine which activated pixels fall into the green shaded areas from the above image. Note that this `margin` can be a different value than the one originally used for your sliding windows!\n",
    "\n",
    "To implement this in the below quiz, you'll want to grab only those pixels with x-values that are +/- your `margin` from your polynomial lines. Note that you'll only need to implement `left_lane_inds` and `right_lane_inds` in the quiz - most of the surrounding code, ignoring iterating through the windows, is the same as before!\n",
    "\n",
    "The way we'll visualize this is a bit different than last time around, however, so make sure to pay attention to that if you want to visualize this step while working on your project.\n",
    "\n",
    "Quiz\n",
    "In the below quiz, implement the following (see TO-DO's):\n",
    "\n",
    "* Fit a polynomial to all the relevant pixels you've found in your sliding windows in `fit_poly()`.\n",
    "* Set the area to search for activated pixels based on `margin` out from your fit polynomial within `search_around_poly`. Note that the quiz grader expects a `margin` of `100` pixels, but you can tune this as part of your own project!\n"
   ]
  },
  {
   "cell_type": "code",
   "execution_count": 6,
   "metadata": {},
   "outputs": [
    {
     "data": {
      "text/plain": [
       "<matplotlib.image.AxesImage at 0x2494e34c0f0>"
      ]
     },
     "execution_count": 6,
     "metadata": {},
     "output_type": "execute_result"
    },
    {
     "data": {
      "image/png": "[encoded data removed]",
      "text/plain": [
       "<Figure size 432x288 with 1 Axes>"
      ]
     },
     "metadata": {
      "needs_background": "light"
     },
     "output_type": "display_data"
    }
   ],
   "source": [
    "import cv2\n",
    "import numpy as np\n",
    "import matplotlib.image as mpimg\n",
    "import matplotlib.pyplot as plt\n",
    "\n",
    "# Load our image - this should be a new frame since last time!\n",
    "binary_warped = mpimg.imread('warped_example.jpg')\n",
    "\n",
    "# Polynomial fit values from the previous frame\n",
    "# Make sure to grab the actual values from the previous step in your project!\n",
    "left_fit = np.array([ 2.13935315e-04, -3.77507980e-01,  4.76902175e+02])\n",
    "right_fit = np.array([4.17622148e-04, -4.93848953e-01,  1.11806170e+03])\n",
    "\n",
    "def fit_poly(img_shape, leftx, lefty, rightx, righty):\n",
    "    ### TO-DO: Fit a second order polynomial to each with np.polyfit() ###\n",
    "    left_fit = np.polyfit(lefty,leftx, 2)\n",
    "    right_fit = np.polyfit(righty,rightx, 2)\n",
    "    # Generate x and y values for plotting\n",
    "    ploty = np.linspace(0, img_shape[0]-1, img_shape[0])\n",
    "    ### TO-DO: Calc both polynomials using ploty, left_fit and right_fit ###\n",
    "    left_fitx = left_fit[0]*ploty**2 + left_fit[1]*ploty + left_fit[2]\n",
    "    right_fitx = right_fit[0]*ploty**2 + right_fit[1]*ploty + right_fit[2]\n",
    "    \n",
    "    return left_fitx, right_fitx, ploty\n",
    "\n",
    "def search_around_poly(binary_warped):\n",
    "    # HYPERPARAMETER\n",
    "    # Choose the width of the margin around the previous polynomial to search\n",
    "    # The quiz grader expects 100 here, but feel free to tune on your own!\n",
    "    margin = 100\n",
    "\n",
    "    # Grab activated pixels\n",
    "    nonzero = binary_warped.nonzero()\n",
    "    nonzeroy = np.array(nonzero[0])\n",
    "    nonzerox = np.array(nonzero[1])\n",
    "    \n",
    "    ### TO-DO: Set the area of search based on activated x-values ###\n",
    "    ### within the +/- margin of our polynomial function ###\n",
    "    ### Hint: consider the window areas for the similarly named variables ###\n",
    "    ### in the previous quiz, but change the windows to our new search area ###\n",
    "    left_lane_inds = left_lane_inds_global\n",
    "    right_lane_inds = right_lane_inds_global\n",
    "\n",
    "#     print(\"=======left_lane_inds:\")\n",
    "#     print(left_lane_inds)\n",
    "    # Again, extract left and right line pixel positions\n",
    "    leftx = nonzerox[left_lane_inds]\n",
    "    lefty = nonzeroy[left_lane_inds] \n",
    "    rightx = nonzerox[right_lane_inds]\n",
    "    righty = nonzeroy[right_lane_inds]\n",
    "\n",
    "    # Fit new polynomials\n",
    "    left_fitx, right_fitx, ploty = fit_poly(binary_warped.shape, leftx, lefty, rightx, righty)\n",
    "    \n",
    "    ## Visualization ##\n",
    "    # Create an image to draw on and an image to show the selection window\n",
    "    out_img = np.dstack((binary_warped, binary_warped, binary_warped))*255\n",
    "    window_img = np.zeros_like(out_img)\n",
    "    # Color in left and right line pixels\n",
    "    out_img[nonzeroy[left_lane_inds], nonzerox[left_lane_inds]] = [255, 0, 0]\n",
    "    out_img[nonzeroy[right_lane_inds], nonzerox[right_lane_inds]] = [0, 0, 255]\n",
    "\n",
    "    # Generate a polygon to illustrate the search window area\n",
    "    # And recast the x and y points into usable format for cv2.fillPoly()\n",
    "    left_line_window1 = np.array([np.transpose(np.vstack([left_fitx-margin, ploty]))])\n",
    "    left_line_window2 = np.array([np.flipud(np.transpose(np.vstack([left_fitx+margin, \n",
    "                              ploty])))])\n",
    "    left_line_pts = np.hstack((left_line_window1, left_line_window2))\n",
    "    right_line_window1 = np.array([np.transpose(np.vstack([right_fitx-margin, ploty]))])\n",
    "    right_line_window2 = np.array([np.flipud(np.transpose(np.vstack([right_fitx+margin, \n",
    "                              ploty])))])\n",
    "    right_line_pts = np.hstack((right_line_window1, right_line_window2))\n",
    "\n",
    "    # Draw the lane onto the warped blank image\n",
    "    cv2.fillPoly(window_img, np.int_([left_line_pts]), (0,255, 0))\n",
    "    cv2.fillPoly(window_img, np.int_([right_line_pts]), (0,255, 0))\n",
    "    result = cv2.addWeighted(out_img, 1, window_img, 0.3, 0)\n",
    "    \n",
    "    # Plot the polynomial lines onto the image\n",
    "    plt.plot(left_fitx, ploty, color='yellow')\n",
    "    plt.plot(right_fitx, ploty, color='yellow')\n",
    "    ## End visualization steps ##\n",
    "    \n",
    "    return result\n",
    "\n",
    "# Run image through the pipeline\n",
    "# Note that in your project, you'll also want to feed in the previous fits\n",
    "result = search_around_poly(binary_warped)\n",
    "\n",
    "# View your output\n",
    "plt.imshow(result)\n"
   ]
  },
  {
   "cell_type": "markdown",
   "metadata": {},
   "source": [
    "#### Fitting on Large Curves\n",
    "One thing to consider in our current implementation of sliding window search is what happens when we arrive at the left or right edge of an image, such as when there is a large curve on the road ahead. If `minpix` is not achieved (i.e. the curve ran off the image), the starting position of our next window doesn't change, so it is just positioned directly above the previous window. This will repeat for however many windows are left in `nwindows`, stacking the sliding windows vertically against the side of the image, and likely leading to an imperfect polynomial fit.\n",
    "\n",
    "Can you think of a way to solve this issue? If you want to tackle the curves on the harder challenge video as part of the project, you might want to include this in your lane finding algorithm."
   ]
  },
  {
   "cell_type": "markdown",
   "metadata": {},
   "source": [
    "1. np.dstack\n",
    "2. np.hstack\n",
    "3. np.vstack\n",
    "4. np.transpose\n",
    "5. np.flipud\n"
   ]
  },
  {
   "cell_type": "markdown",
   "metadata": {},
   "source": [
    "### 5.Measuring Curvature I\n",
    "You're getting very close to a final result! You have a thresholded image, where you've estimated which pixels belong to the left and right lane lines (shown in red and blue, respectively, below), and you've fit a polynomial to those pixel positions. Next we'll compute the radius of curvature of the fit.\n",
    "\n",
    "![](./img/color-fit-lines.jpg)\n",
    "\n",
    "In the last exercise, you located the lane line pixels, used their x and y pixel positions to fit a second order polynomial curve:\n",
    "\n",
    "${f(y) = Ay^2 + By + C}$\n",
    "\n",
    "You're fitting for${f(y)}$, rather than ${f(x)}$, because the lane lines in the warped image are near vertical and may have the same ${x}$ value for more than one ${y}$ value.\n",
    "\n",
    "Radius of Curvature\n",
    "The radius of curvature ([awesome tutorial here](http://www.intmath.com/applications-differentiation/8-radius-curvature.php)) at any point ${x}$ of the function ${x = f(y)}$ is given as follows:\n",
    "\n",
    "${\\LARGE R_{curve} = \\frac{[1 + (\\frac{dx}{dy})^2]^{3/2}}{|\\frac{d^2x}{dy^2}|}}$\n",
    "\n",
    "In the case of the second order polynomial above, the first and second derivatives are:\n",
    "\n",
    "${\\large f'(y) = \\frac{dx}{dy} = 2Ay + B}$\n",
    "\n",
    "${\\large f''(y) = \\frac{d^2x}{dy^2} = 2A}$\n",
    "\n",
    "So, our equation for radius of curvature becomes:\n",
    "\n",
    "${\\LARGE R_{curve} = \\frac{(1 + (2Ay + B)^2)^{3/2}}{\\left |2A \\right |}}$\n",
    "\n",
    "The ${y}$ values of your image increase from top to bottom, so if, for example, you wanted to measure the radius of curvature closest to your vehicle, you could evaluate the formula above at the ${y}$ value corresponding to the bottom of your image, or in Python, at `yvalue = image.shape[0]`.\n",
    "\n",
    "#### Implementing the Calculation\n",
    "#### Generate some fake data first\n",
    "Most of the code below is just to generate some fake data to visualize with - everything up until the actual plotting of the data below should be replaced with your algorithms from before in your own implementation!\n"
   ]
  },
  {
   "cell_type": "code",
   "execution_count": 7,
   "metadata": {},
   "outputs": [
    {
     "data": {
      "image/png": "[encoded data removed]",
      "text/plain": [
       "<Figure size 432x288 with 1 Axes>"
      ]
     },
     "metadata": {
      "needs_background": "light"
     },
     "output_type": "display_data"
    }
   ],
   "source": [
    "import numpy as np\n",
    "import matplotlib.pyplot as plt\n",
    "# Generate some fake data to represent lane-line pixels\n",
    "ploty = np.linspace(0, 719, num=720)# to cover same y-range as image\n",
    "quadratic_coeff = 3e-4 # arbitrary quadratic coefficient\n",
    "# For each y position generate random x position within +/-50 pix\n",
    "# of the line base position in each case (x=200 for left, and x=900 for right)\n",
    "leftx = np.array([200 + (y**2)*quadratic_coeff + np.random.randint(-50, high=51) \n",
    "                              for y in ploty])\n",
    "rightx = np.array([900 + (y**2)*quadratic_coeff + np.random.randint(-50, high=51) \n",
    "                                for y in ploty])\n",
    "\n",
    "leftx = leftx[::-1]  # Reverse to match top-to-bottom in y\n",
    "rightx = rightx[::-1]  # Reverse to match top-to-bottom in y\n",
    "\n",
    "\n",
    "# Fit a second order polynomial to pixel positions in each fake lane line\n",
    "left_fit = np.polyfit(ploty, leftx, 2)\n",
    "left_fitx = left_fit[0]*ploty**2 + left_fit[1]*ploty + left_fit[2]\n",
    "right_fit = np.polyfit(ploty, rightx, 2)\n",
    "right_fitx = right_fit[0]*ploty**2 + right_fit[1]*ploty + right_fit[2]\n",
    "\n",
    "# Plot up the fake data\n",
    "mark_size = 3\n",
    "plt.plot(leftx, ploty, 'o', color='red', markersize=mark_size)\n",
    "plt.plot(rightx, ploty, 'o', color='blue', markersize=mark_size)\n",
    "plt.xlim(0, 1280)\n",
    "plt.ylim(0, 720)\n",
    "plt.plot(left_fitx, ploty, color='green', linewidth=3)\n",
    "plt.plot(right_fitx, ploty, color='green', linewidth=3)\n",
    "plt.gca().invert_yaxis() # to visualize as we do the images"
   ]
  },
  {
   "cell_type": "markdown",
   "metadata": {},
   "source": [
    "The output looks like this:\n",
    "![](./img/measure_curvature_01.png)\n",
    "Implementing the calculation itself\n",
    "Now we have polynomial fits(多项式拟合) and we can calculate the radius of curvature(弯曲;曲度;曲率).\n",
    "\n",
    "In the below quiz, you'll implement the radius of curvature calculation (using our fake generated data from above - remember that you'll be using your own implemented algorithm in place of the `generate_data` function in the below quiz!).\n",
    "\n",
    "Use the ${\\large R_{curve}}$ equation above in order to calculate `left_curverad` and `right_curverad` in the `measure_curvature_pixels()` function below.\n"
   ]
  },
  {
   "cell_type": "code",
   "execution_count": 9,
   "metadata": {
    "scrolled": true
   },
   "outputs": [
    {
     "name": "stdout",
     "output_type": "stream",
     "text": [
      "1625.0601831657232 1976.2967307714703\n"
     ]
    }
   ],
   "source": [
    "#curve_pixels.py\n",
    "import numpy as np\n",
    "\n",
    "def generate_data():\n",
    "    '''\n",
    "    Generates fake data to use for calculating lane curvature.\n",
    "    In your own project, you'll ignore this function and instead\n",
    "    feed in the output of your lane detection algorithm to\n",
    "    the lane curvature calculation.\n",
    "    '''\n",
    "    # Set random seed number so results are consistent for grader\n",
    "    # Comment this out if you'd like to see results on different random data!\n",
    "    np.random.seed(0)\n",
    "    # Generate some fake data to represent lane-line pixels\n",
    "    ploty = np.linspace(0, 719, num=720)# to cover same y-range as image\n",
    "    quadratic_coeff = 3e-4 # arbitrary quadratic coefficient\n",
    "    # For each y position generate random x position within +/-50 pix\n",
    "    # of the line base position in each case (x=200 for left, and x=900 for right)\n",
    "    leftx = np.array([200 + (y**2)*quadratic_coeff + np.random.randint(-50, high=51) \n",
    "                                    for y in ploty])\n",
    "    rightx = np.array([900 + (y**2)*quadratic_coeff + np.random.randint(-50, high=51) \n",
    "                                    for y in ploty])\n",
    "\n",
    "    leftx = leftx[::-1]  # Reverse to match top-to-bottom in y\n",
    "    rightx = rightx[::-1]  # Reverse to match top-to-bottom in y\n",
    "\n",
    "\n",
    "    # Fit a second order polynomial to pixel positions in each fake lane line\n",
    "    left_fit = np.polyfit(ploty, leftx, 2)\n",
    "    right_fit = np.polyfit(ploty, rightx, 2)\n",
    "    \n",
    "    return ploty, left_fit, right_fit\n",
    "\n",
    "    \n",
    "def measure_curvature_pixels():\n",
    "    '''\n",
    "    Calculates the curvature of polynomial functions in pixels.\n",
    "    '''\n",
    "    # Start by generating our fake example data\n",
    "    # Make sure to feed in your real data instead in your project!\n",
    "    ploty, left_fit, right_fit = generate_data()\n",
    "    \n",
    "    # Define y-value where we want radius of curvature\n",
    "    # We'll choose the maximum y-value, corresponding to the bottom of the image\n",
    "    y_eval = np.max(ploty)\n",
    "    \n",
    "    ##### TO-DO: Implement the calculation of R_curve (radius of curvature) #####\n",
    "    ## Implement the calculation of the left line here\n",
    "    left_curverad = (1 + (2*left_fit[0]*y_eval + left_fit[1])**2)**(3/2)/np.abs(2*left_fit[0])  \n",
    "    \n",
    "    ## Implement the calculation of the right line here\n",
    "    right_curverad = (1 + (2*right_fit[0]*y_eval + right_fit[1])**2)**(3/2)/np.abs(2*right_fit[0])  \n",
    "    \n",
    "    return left_curverad, right_curverad\n",
    "\n",
    "\n",
    "# Calculate the radius of curvature in pixels for both lane lines\n",
    "left_curverad, right_curverad = measure_curvature_pixels()\n",
    "\n",
    "print(left_curverad, right_curverad)\n",
    "# Should see values of 1625.06 and 1976.30 here, if using\n",
    "# the default `generate_data` function with given seed number"
   ]
  },
  {
   "cell_type": "markdown",
   "metadata": {},
   "source": [
    "### 6.Measuring Curvature II\n",
    "#### From Pixels to Real-World\n",
    "Great! You've now calculated the radius of curvature for our lane lines. But now we need to stop and think... We've calculated the radius of curvature based on pixel values, so the radius we are reporting is in pixel space, which is not the same as real world space. So we actually need to repeat this calculation after converting our x and y values to real world space.\n",
    "\n",
    "This involves measuring how long and wide the section of lane is that we're projecting in our warped image. We could do this in detail by measuring out the physical lane in the field of view of the camera, but for this project, you can assume that if you're projecting a section of lane similar to the images above, the lane is about 30 meters long and 3.7 meters wide. Or, if you prefer to derive a conversion from pixel space to world space in your own images, compare your images with U.S. regulations that require a minimum lane width of 12 feet or 3.7 meters, and the dashed lane lines are 10 feet or 3 meters long each.\n",
    "\n",
    "Let's say that our camera image has 720 relevant pixels in the y-dimension (remember, our image is perspective-transformed!), and we'll say roughly 700 relevant pixels in the x-dimension (our example of fake generated data above used from 200 pixels on the left to 900 on the right, or 700). Therefore, to convert from pixels to real-world meter measurements, we can use:\n",
    "\n",
    "\n",
    "\n",
    "\n"
   ]
  },
  {
   "cell_type": "code",
   "execution_count": 10,
   "metadata": {},
   "outputs": [],
   "source": [
    "# Define conversions in x and y from pixels space to meters\n",
    "ym_per_pix = 30/720 # meters per pixel in y dimension\n",
    "xm_per_pix = 3.7/700 # meters per pixel in x dimension"
   ]
  },
  {
   "cell_type": "markdown",
   "metadata": {},
   "source": [
    "In the below quiz, you'll use the above conversions in order to adjust your calculation from before to give real-world lane curvature values. Once again, you'll focus on the `left_curverad` and `right_curverad` values within the new `measure_curvature_real()` function; however, you'll also need to adjust how you use `np.polyfit()` within `generate_data()` in order for this to work correctly. How do you need to change these to convert to meters?"
   ]
  },
  {
   "cell_type": "code",
   "execution_count": 11,
   "metadata": {},
   "outputs": [
    {
     "name": "stdout",
     "output_type": "stream",
     "text": [
      "y_eval:719.0\n",
      "533.7525889210916 m 648.1574851434274 m\n"
     ]
    }
   ],
   "source": [
    "import numpy as np\n",
    "\n",
    "def generate_data(ym_per_pix, xm_per_pix):\n",
    "    '''\n",
    "    Generates fake data to use for calculating lane curvature.\n",
    "    In your own project, you'll ignore this function and instead\n",
    "    feed in the output of your lane detection algorithm to\n",
    "    the lane curvature calculation.\n",
    "    '''\n",
    "    # Set random seed number so results are consistent for grader\n",
    "    # Comment this out if you'd like to see results on different random data!\n",
    "    np.random.seed(0)\n",
    "    # Generate some fake data to represent lane-line pixels\n",
    "    ploty = np.linspace(0, 719, num=720)# to cover same y-range as image\n",
    "    quadratic_coeff = 3e-4 # arbitrary quadratic coefficient\n",
    "    # For each y position generate random x position within +/-50 pix\n",
    "    # of the line base position in each case (x=200 for left, and x=900 for right)\n",
    "    leftx = np.array([200 + (y**2)*quadratic_coeff + np.random.randint(-50, high=51) \n",
    "                                    for y in ploty])\n",
    "    rightx = np.array([900 + (y**2)*quadratic_coeff + np.random.randint(-50, high=51) \n",
    "                                    for y in ploty])\n",
    "\n",
    "    leftx = leftx[::-1]  # Reverse to match top-to-bottom in y\n",
    "    rightx = rightx[::-1]  # Reverse to match top-to-bottom in y\n",
    "\n",
    "    # Fit a second order polynomial to pixel positions in each fake lane line\n",
    "    ##### TO-DO: Fit new polynomials to x,y in world space #####\n",
    "    ##### Utilize `ym_per_pix` & `xm_per_pix` here #####\n",
    "    left_fit_cr = np.polyfit(ploty*ym_per_pix, leftx*xm_per_pix, 2)\n",
    "    right_fit_cr = np.polyfit(ploty*ym_per_pix, rightx*xm_per_pix, 2)\n",
    "    \n",
    "    return ploty, left_fit_cr, right_fit_cr\n",
    "\n",
    "    \n",
    "def measure_curvature_real():\n",
    "    '''\n",
    "    Calculates the curvature of polynomial functions in meters.\n",
    "    '''\n",
    "    # Define conversions in x and y from pixels space to meters\n",
    "    ym_per_pix = 30/720 # meters per pixel in y dimension\n",
    "    xm_per_pix = 3.7/700 # meters per pixel in x dimension\n",
    "    \n",
    "    # Start by generating our fake example data\n",
    "    # Make sure to feed in your real data instead in your project!\n",
    "    ploty, left_fit_cr, right_fit_cr = generate_data(ym_per_pix, xm_per_pix)\n",
    "    \n",
    "    # Define y-value where we want radius of curvature\n",
    "    # We'll choose the maximum y-value, corresponding to the bottom of the image\n",
    "    y_eval = np.max(ploty)\n",
    "    \n",
    "    print(\"y_eval:{}\".format(y_eval))\n",
    "    ##### TO-DO: Implement the calculation of R_curve (radius of curvature) #####\n",
    "    ## Implement the calculation of the left line here\n",
    "    left_curverad = (1 + (2*left_fit_cr[0]*y_eval*ym_per_pix + left_fit_cr[1])**2)**(3/2)/np.abs(2*left_fit_cr[0])  \n",
    "    \n",
    "    ## Implement the calculation of the right line here\n",
    "    right_curverad = (1 + (2*right_fit_cr[0]*y_eval*ym_per_pix + right_fit_cr[1])**2)**(3/2)/np.abs(2*right_fit_cr[0])  \n",
    "    \n",
    "    return left_curverad, right_curverad\n",
    "\n",
    "\n",
    "# Calculate the radius of curvature in meters for both lane lines\n",
    "left_curverad, right_curverad = measure_curvature_real()\n",
    "\n",
    "print(left_curverad, 'm', right_curverad, 'm')\n",
    "# Should see values of 533.75 and 648.16 here, if using\n",
    "# the default `generate_data` function with given seed number\n",
    "\n"
   ]
  },
  {
   "cell_type": "code",
   "execution_count": 13,
   "metadata": {},
   "outputs": [
    {
     "name": "stdout",
     "output_type": "stream",
     "text": [
      "533.7525889210916 m 648.1574851434274 m\n",
      "Radius of Curvature = 591.0m\n",
      "Vehicle is 0.000m of center\n"
     ]
    }
   ],
   "source": [
    "def measure_curvature_vehicle_position(ploty, left_fit_cr, right_fit_cr):\n",
    "    '''\n",
    "    Calculates the curvature of polynomial functions in meters.\n",
    "    '''\n",
    "    # Define y-value where we want radius of curvature\n",
    "    # We'll choose the maximum y-value, corresponding to the bottom of the image\n",
    "    y_eval = np.max(ploty)\n",
    "    \n",
    "    left_fitx = left_fit_cr[0]*ploty**2 + left_fit_cr[1]*ploty + left_fit_cr[2]\n",
    "    right_fitx = right_fit_cr[0]*ploty**2 + right_fit_cr[1]*ploty + right_fit_cr[2]\n",
    "\n",
    "    ## Implement the calculation of the left line here\n",
    "    left_curverad = (1 + (2*left_fit_cr[0]*y_eval*ym_per_pix + left_fit_cr[1])**2)**(3/2)/np.abs(2*left_fit_cr[0])  \n",
    "    \n",
    "    ## Implement the calculation of the right line here\n",
    "    right_curverad = (1 + (2*right_fit_cr[0]*y_eval*ym_per_pix + right_fit_cr[1])**2)**(3/2)/np.abs(2*right_fit_cr[0])  \n",
    "    \n",
    "    curvature = (left_curverad + right_curverad)/2\n",
    "    \n",
    "#     index = binary_warped.shape[0] - 1# For (720*1280) index = 719\n",
    "#     lane_center_x = (((left_fitx[index] + right_fitx[index]) * xm_per_pix) / 2.)\n",
    "#     image_center_x = ((binary_warped.shape[1] * xm_per_pix) / 2.)\n",
    "#     distance_from_center = lane_center_x - image_center_x\n",
    "    distance_from_center = 0\n",
    "    print(left_curverad, 'm', right_curverad, 'm')\n",
    "    return curvature, distance_from_center\n",
    "\n",
    "\n",
    "# Calculate the radius of curvature in meters for both lane lines\n",
    "ploty, left_fit, right_fit = generate_data(ym_per_pix, xm_per_pix)\n",
    "curvature, distance_from_center = measure_curvature_vehicle_position(ploty, left_fit, right_fit)\n",
    "print(\"Radius of Curvature = %sm\" % (round(curvature)))\n",
    "print(\"Vehicle is %.3fm of center\" % (abs(distance_from_center)))"
   ]
  },
  {
   "cell_type": "markdown",
   "metadata": {},
   "source": [
    "### 7.Additional Resources on Computer Vision\n",
    "\n",
    "Additional Resources on Computer Vision\n",
    "Nice work reaching the end of the computer vision content! While you still have the project left to do here, we're also providing some additional resources and recent research on the topic that you can come back to if you have time later on.\n",
    "\n",
    "Reading research papers is a great way to get exposure(面临，遭受(危险或不快);揭露;(在电视、报纸等上的)亮相，被报道) to the latest and greatest in the field, as well as expand your learning. However, just like the project ahead, it's often best to learn by doing - if you find a paper that really excites you, try to implement it (or even something better) yourself!\n",
    "\n",
    "#### Optional Reading\n",
    "All of these are completely optional reading - you could spend hours reading through the entirety of these! We suggest moving onto the project first so you have what you’ve learned fresh on your mind, before coming back to check these out.\n",
    "\n",
    "We've categorized these papers to hopefully help you narrow down which ones might be of interest, as well as highlighted a couple key reads by category by including their Abstract section, which summarizes the paper.\n",
    "\n",
    "***\n",
    "\n",
    "#### Lane Finding with Semantic Segmentation\n",
    "\n",
    "The below papers and resources concern a technique called semantic segmentation, where each pixel of an image gets classified individually!\n",
    "\n",
    "[Fully Convolutional Networks for Semantic Segmentation](https://arxiv.org/abs/1605.06211) by E. Shelhamer, J. Long and T. Darrell\n",
    "\n",
    ">**Abstract:** Convolutional networks are powerful visual models that yield hierarchies of features. We show that convolutional networks by themselves, trained end-to-end, pixels-to-pixels, improve on the previous best result in semantic segmentation. Our key insight is to build \"fully convolutional\" networks that take input of arbitrary size and produce correspondingly-sized output with efficient inference and learning. We define and detail the space of fully convolutional networks, explain their application to spatially dense prediction tasks, and draw connections to prior models. We adapt contemporary classification networks (AlexNet, the VGG net, and GoogLeNet) into fully convolutional networks and transfer their learned representations by fine-tuning to the segmentation task. We then define a skip architecture that combines semantic information from a deep, coarse layer with appearance information from a shallow, fine layer to produce accurate and detailed segmentations. [...]\n",
    "\n",
    "You can use the [KITTI road dataset](http://www.cvlibs.net/datasets/kitti/eval_road.php) with the above technique for a model that can detect open space on the road.\n",
    "\n",
    "[Lane Detection with Deep Learning (Part 1)](https://towardsdatascience.com/lane-detection-with-deep-learning-part-1-9e096f3320b7) and [(Part 2)](https://towardsdatascience.com/lane-detection-with-deep-learning-part-2-3ba559b5c5af) by M. Virgo\n",
    "\n",
    ">**Summary:** Udacity SDC student (and now Udacian!) investigates using a deep learning approach to lane detection in order to improve upon the Advanced Lane Finding project, eventually building a model with a fully convolutional neural network that detects the road is a wider variety of situations and at faster speed.\n",
    "\n",
    "***\n",
    "\n",
    "#### Other Lane Finding Techniques\n",
    "\n",
    "The below paper uses a multi-task model to identify lane and road markings, as well as vanishing point of the road, in order to build a robust model.\n",
    "\n",
    "[VPGNet: Vanishing Point Guided Network for Lane and Road Marking Detection and Recognition](https://arxiv.org/abs/1710.06288) by S. Lee, et. al.\n",
    "\n",
    ">**Abstract:** In this paper, we propose a unified end-to-end trainable multi-task network that jointly handles lane and road marking detection and recognition that is guided by a vanishing point under adverse weather conditions. We tackle rainy and low illumination conditions [...] At night, color distortion occurs under limited illumination. As a result, no benchmark dataset exists and only a few developed algorithms work under poor weather conditions. To address this shortcoming, we build up a lane and road marking benchmark which consists of about 20,000 images with 17 lane and road marking classes under four different scenarios: no rain, rain, heavy rain, and night. We train and evaluate several versions of the proposed multi-task network and validate the importance of each task. The resulting approach, VPGNet, can detect and classify lanes and road markings, and predict a vanishing point with a single forward pass. Experimental results show that our approach achieves high accuracy and robustness under various conditions in real-time (20 fps). [...]\n",
    "\n",
    "***\n",
    "\n",
    "#### Vehicle Detection\n",
    "\n",
    "The below paper builds a model to both detect vehicles as well as estimate their dimensions along the road.\n",
    "\n",
    "[Learning to Map Vehicles into Bird's Eye View](https://arxiv.org/abs/1706.08442) by A. Palazzi, et. al.\n",
    "\n",
    ">**Abstract:** Awareness of the road scene is an essential component for both autonomous vehicles and Advances Driver Assistance Systems and is gaining importance both for the academia and car companies. This paper presents a way to learn a semantic-aware transformation which maps detections from a dashboard camera view onto a broader bird's eye occupancy map of the scene. To this end, a huge synthetic dataset featuring 1M couples of frames, taken from both car dashboard and bird's eye view, has been collected and automatically annotated. A deep-network is then trained to warp detections from the first to the second view. We demonstrate the effectiveness of our model against several baselines and observe that is able to generalize on real-world data despite having been trained solely on synthetic ones.\n",
    "\n",
    "***\n",
    "You may have noticed a lot of the papers above include deep learning techniques, which are now commonly used in many computer vision applications. More on deep learning is coming up!\n",
    "\n",
    "\n",
    "\n"
   ]
  }
 ],
 "metadata": {
  "kernelspec": {
   "display_name": "Python 3",
   "language": "python",
   "name": "python3"
  },
  "language_info": {
   "codemirror_mode": {
    "name": "ipython",
    "version": 3
   },
   "file_extension": ".py",
   "mimetype": "text/x-python",
   "name": "python",
   "nbconvert_exporter": "python",
   "pygments_lexer": "ipython3",
   "version": "3.7.3"
  }
 },
 "nbformat": 4,
 "nbformat_minor": 2
}
