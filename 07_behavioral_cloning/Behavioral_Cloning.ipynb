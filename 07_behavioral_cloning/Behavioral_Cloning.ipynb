{
 "cells": [
  {
   "cell_type": "markdown",
   "metadata": {},
   "source": [
    "### Collecting Training Data\n",
    "In order to start collecting training data, you'll need to do the following:\n",
    "\n",
    "* Enter Training Mode in the simulator.\n",
    "* Start driving the car to get a feel for the controls.\n",
    "* When you are ready, hit the record button in the top right to start recording.\n",
    "* Continue driving for a few laps or till you feel like you have enough data.\n",
    "* Hit the record button in the top right again to stop recording.\n",
    "\n",
    "### Strategies for Collecting Data\n",
    "Now that you have driven the simulator and know how to record data, it's time to think about collecting data that will ensure a successful model. There are a few general concepts to think about that we will later discuss in more detail:\n",
    "\n",
    "* the car should stay in the center of the road as much as possible\n",
    "* if the car veers off to the side, it should recover back to center\n",
    "* driving counter-clockwise can help the model generalize\n",
    "* flipping the images is a quick way to augment the data\n",
    "* collecting data from the second track can also help generalize the model\n",
    "* we want to avoid overfitting or underfitting when training the model\n",
    "* knowing when to stop collecting more data\n",
    "\n",
    "\n"
   ]
  },
  {
   "cell_type": "markdown",
   "metadata": {},
   "source": [
    "pip install --upgrade --ignore-installed setuptools\n",
    "\n",
    "pip install python-socketio\n",
    "\n",
    "python drive.py model.h5\n",
    "\n",
    "python drive.py model.h5 run1\n",
    "\n",
    "python video.py run1\n",
    "\n",
    "python video.py run1 --fps 48\n"
   ]
  },
  {
   "cell_type": "code",
   "execution_count": 1,
   "metadata": {},
   "outputs": [],
   "source": [
    "#Keras强制使用CPU\n",
    "import os\n",
    "os.environ[\"CUDA_DEVICE_ORDER\"] = \"PCI_BUS_ID\"  \n",
    "os.environ[\"CUDA_VISIBLE_DEVICES\"] = \"-1\""
   ]
  },
  {
   "cell_type": "code",
   "execution_count": null,
   "metadata": {
    "scrolled": false
   },
   "outputs": [
    {
     "name": "stderr",
     "output_type": "stream",
     "text": [
      "Using TensorFlow backend.\n"
     ]
    }
   ],
   "source": [
    "import csv\n",
    "import cv2\n",
    "import numpy as np\n",
    "import os\n",
    "\n",
    "from keras.models import Sequential\n",
    "from keras.layers import Flatten, Dense, Lambda, Cropping2D, Conv2D, Dropout\n",
    "# from keras.layers.convolutional import Convolution2D\n",
    "from keras.layers.convolutional import Conv2D\n",
    "from keras.layers.pooling import MaxPooling2D\n",
    "import matplotlib.pyplot as plt\n",
    "\n",
    "lines=[]\n",
    "with open('./data/driving_log.csv') as csvfile:\n",
    "    reader = csv.reader(csvfile)\n",
    "    for line in reader:\n",
    "        lines.append(line)\n",
    "        \n",
    "        \n",
    "images = []\n",
    "measurements = []\n",
    "for line in lines:\n",
    "    for i in range(3):#center,left,right\n",
    "        source_path = line[i]\n",
    "#         filename = source_path.split('/')[-1]\n",
    "        filename = source_path.split('\\\\')[-1]\n",
    "        current_path = './data/IMG/'+filename\n",
    "        if(os.path.exists(current_path)):\n",
    "            #OpenCV (cv2.imread command) reads a image in BGR, and the code in drive.py, in RGB\n",
    "            image = cv2.imread(current_path)#BGR \n",
    "            image = cv2.cvtColor(image, cv2.COLOR_BGR2RGB)\n",
    "            images.append(image)\n",
    "            measurement = float(line[3])\n",
    "            measurements.append(measurement)\n",
    "\n",
    "\n",
    "#Data augmentation        \n",
    "augmented_images, augmented_measurements = [],[]\n",
    "for image, measurement in zip(images, measurements):\n",
    "    augmented_images.append(image)\n",
    "    augmented_measurements.append(measurement)\n",
    "    augmented_images.append(cv2.flip(image, 1))\n",
    "    augmented_measurements.append(measurement*-1.0)\n",
    "\n",
    "# print(augmented_images[0].shape)\n",
    "# plt.imshow(augmented_images[0])\n",
    "\n",
    "\n",
    "X_train = np.array(augmented_images)\n",
    "y_train = np.array(augmented_measurements)\n",
    "\n",
    "\n",
    "#Use Keras to train a network to do the following:\n",
    "#1.Take in an image from the center camera of the car. This is the input to your neural network.\n",
    "#2.Output a new steering angle for the car. \n",
    "\n",
    "model = Sequential()\n",
    "# set up lambda layer\n",
    "model.add(Lambda(lambda x: x/255.0 - 0.5, input_shape=(160, 320, 3)))#cv2 read image height*width\n",
    "#Cropping2D Layer\n",
    "# model.add(Cropping2D(cropping=((50,20),(0,0))))\n",
    "model.add(Cropping2D(cropping=((50,20), (0,0)), input_shape=(160,320,3)))\n",
    "\n",
    "# model.add(Convolution2D(24,5,5, subsample=(2,2),activation=\"relu\"))\n",
    "# model.add(Convolution2D(36,5,5, subsample=(2,2),activation=\"relu\"))\n",
    "# model.add(Convolution2D(48,5,5, subsample=(2,2),activation=\"relu\"))\n",
    "# model.add(Convolution2D(64,3,3, activation=\"relu\"))\n",
    "# model.add(Convolution2D(64,3,3, activation=\"relu\"))\n",
    "\n",
    "model.add(Conv2D(24, (5, 5), strides=(2, 2), activation=\"relu\"))\n",
    "# model.add(MaxPooling2D((2, 2), strides=(1, 1), padding='same'))\n",
    "# model.add(MaxPooling2D((2, 2)))\n",
    "model.add(Conv2D(36, (5,5), strides=(2,2), activation=\"relu\"))\n",
    "# model.add(MaxPooling2D((2, 2), strides=(1, 1), padding='same')) \n",
    "# model.add(MaxPooling2D((2, 2)))\n",
    "model.add(Conv2D(48, (5,5), strides=(2,2), activation=\"relu\"))\n",
    "# model.add(MaxPooling2D((2, 2), strides=(1, 1), padding='same'))\n",
    "# model.add(MaxPooling2D((2, 2)))\n",
    "model.add(Conv2D(64, (3,3), activation=\"relu\"))\n",
    "# model.add(MaxPooling2D((2, 2), strides=(1, 1), padding='same'))\n",
    "model.add(Conv2D(64, (3,3), activation=\"relu\"))\n",
    "# model.add(MaxPooling2D((2, 2), strides=(1, 1), padding='same'))\n",
    "model.add(Flatten())\n",
    "model.add(Dense(100))\n",
    "model.add(Dropout(0.5))\n",
    "model.add(Dense(50))\n",
    "model.add(Dropout(0.5))\n",
    "model.add(Dense(10))\n",
    "model.add(Dropout(0.5))\n",
    "model.add(Dense(1))\n",
    "\n",
    "#LeNet\n",
    "# model.add(Convolution2D(6, 5, 5, activation=\"relu\"))\n",
    "# model.add(MaxPooling2D())\n",
    "# model.add(Convolution2D(6, 5, 5, activation=\"relu\"))\n",
    "# model.add(MaxPooling2D())\n",
    "# model.add(Flatten())\n",
    "# model.add(Dense(120))\n",
    "# model.add(Dense(84))\n",
    "# model.add(Dense(1))\n",
    "\n",
    "model.summary()          \n",
    "          \n",
    "model.compile(loss='mse', optimizer='adam')\n",
    "history_object = model.fit(X_train, y_train, batch_size=64, validation_split=0.3, shuffle=True, epochs=5)\n",
    "\n",
    "model.save(\"model.h5\")\n",
    "         \n",
    "          \n",
    "          "
   ]
  },
  {
   "cell_type": "code",
   "execution_count": 3,
   "metadata": {
    "scrolled": true
   },
   "outputs": [
    {
     "name": "stdout",
     "output_type": "stream",
     "text": [
      "dict_keys(['val_loss', 'loss'])\n"
     ]
    },
    {
     "data": {
      "image/png": "[encoded data removed]",
      "text/plain": [
       "<Figure size 432x288 with 1 Axes>"
      ]
     },
     "metadata": {
      "needs_background": "light"
     },
     "output_type": "display_data"
    }
   ],
   "source": [
    "### print the keys contained in the history object\n",
    "print(history_object.history.keys())\n",
    "\n",
    "### plot the training and validation loss for each epoch\n",
    "plt.plot(history_object.history['loss'])\n",
    "plt.plot(history_object.history['val_loss'])\n",
    "plt.title('model mean squared error loss')\n",
    "plt.ylabel('mean squared error loss')\n",
    "plt.xlabel('epoch')\n",
    "plt.legend(['training set', 'validation set'], loc='upper right')\n",
    "plt.show()"
   ]
  },
  {
   "cell_type": "markdown",
   "metadata": {},
   "source": [
    " ### 1.Could not load dynamic library 'cudart64_100.dll'; dlerror: cudart64_100.dll not found\n",
    " Cause:CUDA Tool Kit version is 10.1,TensorFlow supports CUDA 10.0 (TensorFlow >= 1.13.0)\n",
    " \n",
    " \n",
    " "
   ]
  }
 ],
 "metadata": {
  "kernelspec": {
   "display_name": "Python 3",
   "language": "python",
   "name": "python3"
  },
  "language_info": {
   "codemirror_mode": {
    "name": "ipython",
    "version": 3
   },
   "file_extension": ".py",
   "mimetype": "text/x-python",
   "name": "python",
   "nbconvert_exporter": "python",
   "pygments_lexer": "ipython3",
   "version": "3.7.3"
  }
 },
 "nbformat": 4,
 "nbformat_minor": 2
}
